{
 "cells": [
  {
   "cell_type": "code",
   "execution_count": 2,
   "metadata": {},
   "outputs": [
    {
     "name": "stdout",
     "output_type": "stream",
     "text": [
      "Requirement already satisfied: sklearn in /Users/prajwal/.conda/envs/Python/lib/python3.8/site-packages (0.0.post10)\n",
      "Note: you may need to restart the kernel to use updated packages.\n"
     ]
    }
   ],
   "source": [
    "pip install sklearn"
   ]
  },
  {
   "cell_type": "code",
   "execution_count": 3,
   "metadata": {},
   "outputs": [],
   "source": [
    "paragraph = \"\"\" Pichai Sundararajan (born June 10, 1972[3][4][5]), better known as Sundar Pichai (/ˈsʊndɑːr pɪˈtʃaɪ/), is an Indian-born American business executive.[6][7] He is the chief executive officer (CEO) of Alphabet Inc. and its subsidiary Google.[8]\n",
    "\n",
    "Pichai began his career as a materials engineer. Following a short stint at the management consulting firm McKinsey & Co., Pichai joined Google in 2004,[9] where he led the product management and innovation efforts for a suite of Google's client software products, including Google Chrome and ChromeOS, as well as being largely responsible for Google Drive. In addition, he went on to oversee the development of other applications such as Gmail and Google Maps. In 2010, Pichai also announced the open-sourcing of the new video codec VP8 by Google and introduced the new video format, WebM. The Chromebook was released in 2012. In 2013, Pichai added Android to the list of Google products that he oversaw.\n",
    "\n",
    "Pichai was selected to become the next CEO of Google on August 10, 2015, after previously being appointed Product Chief by CEO Larry Page. On October 24, 2015, he stepped into the new position at the completion of the formation of Alphabet Inc., the new holding company for the Google company family. He was appointed to the Alphabet Board of Directors in 2017.[10]\"\"\""
   ]
  },
  {
   "cell_type": "code",
   "execution_count": 4,
   "metadata": {},
   "outputs": [
    {
     "data": {
      "text/plain": [
       "\" Pichai Sundararajan (born June 10, 1972[3][4][5]), better known as Sundar Pichai (/ˈsʊndɑːr pɪˈtʃaɪ/), is an Indian-born American business executive.[6][7] He is the chief executive officer (CEO) of Alphabet Inc. and its subsidiary Google.[8]\\n\\nPichai began his career as a materials engineer. Following a short stint at the management consulting firm McKinsey & Co., Pichai joined Google in 2004,[9] where he led the product management and innovation efforts for a suite of Google's client software products, including Google Chrome and ChromeOS, as well as being largely responsible for Google Drive. In addition, he went on to oversee the development of other applications such as Gmail and Google Maps. In 2010, Pichai also announced the open-sourcing of the new video codec VP8 by Google and introduced the new video format, WebM. The Chromebook was released in 2012. In 2013, Pichai added Android to the list of Google products that he oversaw.\\n\\nPichai was selected to become the next CEO of Google on August 10, 2015, after previously being appointed Product Chief by CEO Larry Page. On October 24, 2015, he stepped into the new position at the completion of the formation of Alphabet Inc., the new holding company for the Google company family. He was appointed to the Alphabet Board of Directors in 2017.[10]\""
      ]
     },
     "execution_count": 4,
     "metadata": {},
     "output_type": "execute_result"
    }
   ],
   "source": [
    "paragraph"
   ]
  },
  {
   "cell_type": "code",
   "execution_count": 5,
   "metadata": {},
   "outputs": [
    {
     "name": "stderr",
     "output_type": "stream",
     "text": [
      "[nltk_data] Downloading package stopwords to\n",
      "[nltk_data]     /Users/prajwal/nltk_data...\n",
      "[nltk_data]   Package stopwords is already up-to-date!\n"
     ]
    }
   ],
   "source": [
    "import nltk\n",
    "from nltk.stem import PorterStemmer\n",
    "from nltk.corpus import stopwords\n",
    "nltk.download('stopwords')\n",
    "\n",
    "from nltk.stem import WordNetLemmatizer\n",
    "\n",
    "from sklearn.feature_extraction.text import TfidfVectorizer"
   ]
  },
  {
   "cell_type": "code",
   "execution_count": 6,
   "metadata": {},
   "outputs": [
    {
     "name": "stdout",
     "output_type": "stream",
     "text": [
      "[' Pichai Sundararajan (born June 10, 1972[3][4][5]), better known as Sundar Pichai (/ˈsʊndɑːr pɪˈtʃaɪ/), is an Indian-born American business executive.', '[6][7] He is the chief executive officer (CEO) of Alphabet Inc. and its subsidiary Google.', '[8]\\n\\nPichai began his career as a materials engineer.', \"Following a short stint at the management consulting firm McKinsey & Co., Pichai joined Google in 2004,[9] where he led the product management and innovation efforts for a suite of Google's client software products, including Google Chrome and ChromeOS, as well as being largely responsible for Google Drive.\", 'In addition, he went on to oversee the development of other applications such as Gmail and Google Maps.', 'In 2010, Pichai also announced the open-sourcing of the new video codec VP8 by Google and introduced the new video format, WebM.', 'The Chromebook was released in 2012.', 'In 2013, Pichai added Android to the list of Google products that he oversaw.', 'Pichai was selected to become the next CEO of Google on August 10, 2015, after previously being appointed Product Chief by CEO Larry Page.', 'On October 24, 2015, he stepped into the new position at the completion of the formation of Alphabet Inc., the new holding company for the Google company family.', 'He was appointed to the Alphabet Board of Directors in 2017.', '[10]']\n"
     ]
    },
    {
     "name": "stderr",
     "output_type": "stream",
     "text": [
      "[nltk_data] Downloading package punkt to /Users/prajwal/nltk_data...\n",
      "[nltk_data]   Package punkt is already up-to-date!\n"
     ]
    }
   ],
   "source": [
    "# tokenization --> change paragraph(corpus) to sentences\n",
    "\n",
    "nltk.download('punkt')\n",
    "sentences = nltk.sent_tokenize(paragraph)\n",
    "print(sentences)"
   ]
  },
  {
   "cell_type": "code",
   "execution_count": 7,
   "metadata": {},
   "outputs": [
    {
     "data": {
      "text/plain": [
       "'histori'"
      ]
     },
     "execution_count": 7,
     "metadata": {},
     "output_type": "execute_result"
    }
   ],
   "source": [
    "stemmer = PorterStemmer() # stemming\n",
    "\n",
    "stemmer.stem('playing') \n",
    "stemmer.stem('played')\n",
    "stemmer.stem('play')\n",
    "stemmer.stem('history')"
   ]
  },
  {
   "cell_type": "code",
   "execution_count": 8,
   "metadata": {},
   "outputs": [
    {
     "data": {
      "text/plain": [
       "'go'"
      ]
     },
     "execution_count": 8,
     "metadata": {},
     "output_type": "execute_result"
    }
   ],
   "source": [
    "lemmatizer = WordNetLemmatizer() # lemmatization\n",
    "\n",
    "lemmatizer.lemmatize('goes')"
   ]
  },
  {
   "cell_type": "code",
   "execution_count": 9,
   "metadata": {},
   "outputs": [
    {
     "data": {
      "text/plain": [
       "12"
      ]
     },
     "execution_count": 9,
     "metadata": {},
     "output_type": "execute_result"
    }
   ],
   "source": [
    "len(sentences)"
   ]
  },
  {
   "cell_type": "code",
   "execution_count": 10,
   "metadata": {},
   "outputs": [],
   "source": [
    "import re\n",
    "corpus = [ ]\n",
    "for i in range(len(sentences)):\n",
    "    review = re.sub('[^a-zA-Z]',' ',sentences[i])\n",
    "    review = review.lower()\n",
    "    corpus.append(review)\n"
   ]
  },
  {
   "cell_type": "code",
   "execution_count": 11,
   "metadata": {},
   "outputs": [
    {
     "data": {
      "text/plain": [
       "[' pichai sundararajan  born june                     better known as sundar pichai    s nd  r p  t a     is an indian born american business executive ',\n",
       " '       he is the chief executive officer  ceo  of alphabet inc  and its subsidiary google ',\n",
       " '     pichai began his career as a materials engineer ',\n",
       " 'following a short stint at the management consulting firm mckinsey   co   pichai joined google in          where he led the product management and innovation efforts for a suite of google s client software products  including google chrome and chromeos  as well as being largely responsible for google drive ',\n",
       " 'in addition  he went on to oversee the development of other applications such as gmail and google maps ',\n",
       " 'in       pichai also announced the open sourcing of the new video codec vp  by google and introduced the new video format  webm ',\n",
       " 'the chromebook was released in      ',\n",
       " 'in       pichai added android to the list of google products that he oversaw ',\n",
       " 'pichai was selected to become the next ceo of google on august           after previously being appointed product chief by ceo larry page ',\n",
       " 'on october           he stepped into the new position at the completion of the formation of alphabet inc   the new holding company for the google company family ',\n",
       " 'he was appointed to the alphabet board of directors in      ',\n",
       " '    ']"
      ]
     },
     "execution_count": 11,
     "metadata": {},
     "output_type": "execute_result"
    }
   ],
   "source": [
    "corpus"
   ]
  },
  {
   "cell_type": "code",
   "execution_count": 12,
   "metadata": {},
   "outputs": [
    {
     "name": "stdout",
     "output_type": "stream",
     "text": [
      "pichai\n",
      "sundararajan\n",
      "born\n",
      "june\n",
      "better\n",
      "known\n",
      "sundar\n",
      "pichai\n",
      "nd\n",
      "r\n",
      "p\n",
      "indian\n",
      "born\n",
      "american\n",
      "busi\n",
      "execut\n",
      "chief\n",
      "execut\n",
      "offic\n",
      "ceo\n",
      "alphabet\n",
      "inc\n",
      "subsidiari\n",
      "googl\n",
      "pichai\n",
      "began\n",
      "career\n",
      "materi\n",
      "engin\n",
      "follow\n",
      "short\n",
      "stint\n",
      "manag\n",
      "consult\n",
      "firm\n",
      "mckinsey\n",
      "co\n",
      "pichai\n",
      "join\n",
      "googl\n",
      "led\n",
      "product\n",
      "manag\n",
      "innov\n",
      "effort\n",
      "suit\n",
      "googl\n",
      "client\n",
      "softwar\n",
      "product\n",
      "includ\n",
      "googl\n",
      "chrome\n",
      "chromeo\n",
      "well\n",
      "larg\n",
      "respons\n",
      "googl\n",
      "drive\n",
      "addit\n",
      "went\n",
      "overse\n",
      "develop\n",
      "applic\n",
      "gmail\n",
      "googl\n",
      "map\n",
      "pichai\n",
      "also\n",
      "announc\n",
      "open\n",
      "sourc\n",
      "new\n",
      "video\n",
      "codec\n",
      "vp\n",
      "googl\n",
      "introduc\n",
      "new\n",
      "video\n",
      "format\n",
      "webm\n",
      "chromebook\n",
      "releas\n",
      "pichai\n",
      "ad\n",
      "android\n",
      "list\n",
      "googl\n",
      "product\n",
      "oversaw\n",
      "pichai\n",
      "select\n",
      "becom\n",
      "next\n",
      "ceo\n",
      "googl\n",
      "august\n",
      "previous\n",
      "appoint\n",
      "product\n",
      "chief\n",
      "ceo\n",
      "larri\n",
      "page\n",
      "octob\n",
      "step\n",
      "new\n",
      "posit\n",
      "complet\n",
      "format\n",
      "alphabet\n",
      "inc\n",
      "new\n",
      "hold\n",
      "compani\n",
      "googl\n",
      "compani\n",
      "famili\n",
      "appoint\n",
      "alphabet\n",
      "board\n",
      "director\n"
     ]
    }
   ],
   "source": [
    "#stemming\n",
    "\n",
    "for i in corpus:\n",
    "    words = nltk.word_tokenize(i)\n",
    "    for words in words:\n",
    "        if words not in set(stopwords.words('english')):\n",
    "            print(stemmer.stem(words))\n",
    "    "
   ]
  },
  {
   "cell_type": "code",
   "execution_count": 13,
   "metadata": {},
   "outputs": [
    {
     "name": "stdout",
     "output_type": "stream",
     "text": [
      "pichai\n",
      "sundararajan\n",
      "born\n",
      "june\n",
      "better\n",
      "known\n",
      "sundar\n",
      "pichai\n",
      "nd\n",
      "r\n",
      "p\n",
      "indian\n",
      "born\n",
      "american\n",
      "business\n",
      "executive\n",
      "chief\n",
      "executive\n",
      "officer\n",
      "ceo\n",
      "alphabet\n",
      "inc\n",
      "subsidiary\n",
      "google\n",
      "pichai\n",
      "began\n",
      "career\n",
      "material\n",
      "engineer\n",
      "following\n",
      "short\n",
      "stint\n",
      "management\n",
      "consulting\n",
      "firm\n",
      "mckinsey\n",
      "co\n",
      "pichai\n",
      "joined\n",
      "google\n",
      "led\n",
      "product\n",
      "management\n",
      "innovation\n",
      "effort\n",
      "suite\n",
      "google\n",
      "client\n",
      "software\n",
      "product\n",
      "including\n",
      "google\n",
      "chrome\n",
      "chromeos\n",
      "well\n",
      "largely\n",
      "responsible\n",
      "google\n",
      "drive\n",
      "addition\n",
      "went\n",
      "oversee\n",
      "development\n",
      "application\n",
      "gmail\n",
      "google\n",
      "map\n",
      "pichai\n",
      "also\n",
      "announced\n",
      "open\n",
      "sourcing\n",
      "new\n",
      "video\n",
      "codec\n",
      "vp\n",
      "google\n",
      "introduced\n",
      "new\n",
      "video\n",
      "format\n",
      "webm\n",
      "chromebook\n",
      "released\n",
      "pichai\n",
      "added\n",
      "android\n",
      "list\n",
      "google\n",
      "product\n",
      "oversaw\n",
      "pichai\n",
      "selected\n",
      "become\n",
      "next\n",
      "ceo\n",
      "google\n",
      "august\n",
      "previously\n",
      "appointed\n",
      "product\n",
      "chief\n",
      "ceo\n",
      "larry\n",
      "page\n",
      "october\n",
      "stepped\n",
      "new\n",
      "position\n",
      "completion\n",
      "formation\n",
      "alphabet\n",
      "inc\n",
      "new\n",
      "holding\n",
      "company\n",
      "google\n",
      "company\n",
      "family\n",
      "appointed\n",
      "alphabet\n",
      "board\n",
      "director\n"
     ]
    }
   ],
   "source": [
    "#lemmatization\n",
    "\n",
    "for i in corpus:\n",
    "    words = nltk.word_tokenize(i) \n",
    "    for words in words:\n",
    "        if words not in set(stopwords.words('english')):\n",
    "            print(lemmatizer.lemmatize(words))"
   ]
  },
  {
   "cell_type": "code",
   "execution_count": 14,
   "metadata": {},
   "outputs": [],
   "source": [
    "corpus = [ ]\n",
    "for i in range(len(sentences)):\n",
    "    review = re.sub('[^a-zA-Z]',' ',sentences[i])\n",
    "    review = review.lower()\n",
    "    review = review.split()\n",
    "    review = [lemmatizer.lemmatize(words) for words in review if words not in set(stopwords.words('english'))]\n",
    "    review = ' '.join(review)\n",
    "    corpus.append(review)"
   ]
  },
  {
   "cell_type": "code",
   "execution_count": 15,
   "metadata": {},
   "outputs": [
    {
     "data": {
      "text/plain": [
       "['pichai sundararajan born june better known sundar pichai nd r p indian born american business executive',\n",
       " 'chief executive officer ceo alphabet inc subsidiary google',\n",
       " 'pichai began career material engineer',\n",
       " 'following short stint management consulting firm mckinsey co pichai joined google led product management innovation effort suite google client software product including google chrome chromeos well largely responsible google drive',\n",
       " 'addition went oversee development application gmail google map',\n",
       " 'pichai also announced open sourcing new video codec vp google introduced new video format webm',\n",
       " 'chromebook released',\n",
       " 'pichai added android list google product oversaw',\n",
       " 'pichai selected become next ceo google august previously appointed product chief ceo larry page',\n",
       " 'october stepped new position completion formation alphabet inc new holding company google company family',\n",
       " 'appointed alphabet board director',\n",
       " '']"
      ]
     },
     "execution_count": 15,
     "metadata": {},
     "output_type": "execute_result"
    }
   ],
   "source": [
    "corpus"
   ]
  },
  {
   "cell_type": "code",
   "execution_count": 26,
   "metadata": {},
   "outputs": [],
   "source": [
    "# bag of words\n",
    "from sklearn.feature_extraction.text import CountVectorizer\n",
    "cv = CountVectorizer(binary=True, ngram_range=(3,3), max_features=3)"
   ]
  },
  {
   "cell_type": "code",
   "execution_count": 27,
   "metadata": {},
   "outputs": [],
   "source": [
    "X = cv.fit_transform(corpus)"
   ]
  },
  {
   "cell_type": "code",
   "execution_count": 28,
   "metadata": {},
   "outputs": [
    {
     "data": {
      "text/plain": [
       "{'oversee development application': 2,\n",
       " 'open sourcing new': 1,\n",
       " 'added android list': 0}"
      ]
     },
     "execution_count": 28,
     "metadata": {},
     "output_type": "execute_result"
    }
   ],
   "source": [
    "cv.vocabulary_ "
   ]
  },
  {
   "cell_type": "code",
   "execution_count": 29,
   "metadata": {},
   "outputs": [
    {
     "data": {
      "text/plain": [
       "'pichai sundararajan born june better known sundar pichai nd r p indian born american business executive'"
      ]
     },
     "execution_count": 29,
     "metadata": {},
     "output_type": "execute_result"
    }
   ],
   "source": [
    "corpus[0]"
   ]
  },
  {
   "cell_type": "code",
   "execution_count": 30,
   "metadata": {},
   "outputs": [
    {
     "data": {
      "text/plain": [
       "array([[0, 0, 0]])"
      ]
     },
     "execution_count": 30,
     "metadata": {},
     "output_type": "execute_result"
    }
   ],
   "source": [
    "X[0].toarray()"
   ]
  },
  {
   "cell_type": "code",
   "execution_count": 31,
   "metadata": {},
   "outputs": [],
   "source": [
    "#TfidfVectorizer\n",
    "\n",
    "tfidf = TfidfVectorizer(ngram_range=(1,3))\n",
    "X = tfidf.fit_transform(corpus)"
   ]
  },
  {
   "cell_type": "code",
   "execution_count": 32,
   "metadata": {},
   "outputs": [
    {
     "data": {
      "text/plain": [
       "'pichai sundararajan born june better known sundar pichai nd r p indian born american business executive'"
      ]
     },
     "execution_count": 32,
     "metadata": {},
     "output_type": "execute_result"
    }
   ],
   "source": [
    "corpus[0]"
   ]
  },
  {
   "cell_type": "code",
   "execution_count": 33,
   "metadata": {},
   "outputs": [
    {
     "data": {
      "text/plain": [
       "array([[0.        , 0.        , 0.        , 0.        , 0.        ,\n",
       "        0.        , 0.        , 0.        , 0.        , 0.        ,\n",
       "        0.        , 0.        , 0.        , 0.        , 0.        ,\n",
       "        0.15809628, 0.15809628, 0.15809628, 0.        , 0.        ,\n",
       "        0.        , 0.        , 0.        , 0.        , 0.        ,\n",
       "        0.        , 0.        , 0.        , 0.        , 0.        ,\n",
       "        0.        , 0.        , 0.        , 0.        , 0.        ,\n",
       "        0.        , 0.        , 0.        , 0.        , 0.        ,\n",
       "        0.        , 0.15809628, 0.15809628, 0.15809628, 0.        ,\n",
       "        0.        , 0.31619256, 0.15809628, 0.15809628, 0.15809628,\n",
       "        0.15809628, 0.15809628, 0.15809628, 0.        , 0.        ,\n",
       "        0.        , 0.        , 0.        , 0.        , 0.        ,\n",
       "        0.        , 0.        , 0.        , 0.        , 0.        ,\n",
       "        0.        , 0.        , 0.        , 0.        , 0.        ,\n",
       "        0.        , 0.        , 0.        , 0.        , 0.        ,\n",
       "        0.        , 0.        , 0.        , 0.        , 0.        ,\n",
       "        0.        , 0.        , 0.        , 0.        , 0.        ,\n",
       "        0.        , 0.        , 0.        , 0.        , 0.        ,\n",
       "        0.        , 0.        , 0.        , 0.        , 0.        ,\n",
       "        0.        , 0.        , 0.        , 0.        , 0.        ,\n",
       "        0.        , 0.        , 0.        , 0.        , 0.13577492,\n",
       "        0.        , 0.        , 0.        , 0.        , 0.        ,\n",
       "        0.        , 0.        , 0.        , 0.        , 0.        ,\n",
       "        0.        , 0.        , 0.        , 0.        , 0.        ,\n",
       "        0.        , 0.        , 0.        , 0.        , 0.        ,\n",
       "        0.        , 0.        , 0.        , 0.        , 0.        ,\n",
       "        0.        , 0.        , 0.        , 0.        , 0.        ,\n",
       "        0.        , 0.        , 0.        , 0.        , 0.        ,\n",
       "        0.        , 0.        , 0.        , 0.        , 0.        ,\n",
       "        0.        , 0.        , 0.        , 0.        , 0.        ,\n",
       "        0.15809628, 0.15809628, 0.15809628, 0.        , 0.        ,\n",
       "        0.        , 0.        , 0.        , 0.        , 0.        ,\n",
       "        0.        , 0.        , 0.15809628, 0.15809628, 0.15809628,\n",
       "        0.15809628, 0.15809628, 0.15809628, 0.        , 0.        ,\n",
       "        0.        , 0.        , 0.        , 0.        , 0.        ,\n",
       "        0.        , 0.        , 0.        , 0.        , 0.        ,\n",
       "        0.        , 0.        , 0.        , 0.        , 0.        ,\n",
       "        0.        , 0.        , 0.        , 0.        , 0.        ,\n",
       "        0.15809628, 0.15809628, 0.15809628, 0.        , 0.        ,\n",
       "        0.        , 0.        , 0.        , 0.        , 0.        ,\n",
       "        0.        , 0.        , 0.        , 0.        , 0.        ,\n",
       "        0.        , 0.        , 0.        , 0.        , 0.        ,\n",
       "        0.        , 0.        , 0.        , 0.        , 0.        ,\n",
       "        0.        , 0.        , 0.        , 0.17826024, 0.        ,\n",
       "        0.        , 0.        , 0.        , 0.        , 0.        ,\n",
       "        0.        , 0.        , 0.15809628, 0.15809628, 0.        ,\n",
       "        0.        , 0.15809628, 0.15809628, 0.        , 0.        ,\n",
       "        0.        , 0.        , 0.        , 0.        , 0.        ,\n",
       "        0.        , 0.        , 0.        , 0.        , 0.        ,\n",
       "        0.        , 0.        , 0.        , 0.        , 0.        ,\n",
       "        0.        , 0.        , 0.        , 0.        , 0.        ,\n",
       "        0.        , 0.        , 0.        , 0.        , 0.        ,\n",
       "        0.        , 0.        , 0.        , 0.        , 0.        ,\n",
       "        0.        , 0.        , 0.        , 0.        , 0.        ,\n",
       "        0.        , 0.        , 0.        , 0.        , 0.15809628,\n",
       "        0.15809628, 0.15809628, 0.15809628, 0.15809628, 0.15809628,\n",
       "        0.        , 0.        , 0.        , 0.        , 0.        ,\n",
       "        0.        , 0.        , 0.        , 0.        , 0.        ,\n",
       "        0.        , 0.        , 0.        , 0.        , 0.        ]])"
      ]
     },
     "execution_count": 33,
     "metadata": {},
     "output_type": "execute_result"
    }
   ],
   "source": [
    "X[0].toarray()"
   ]
  },
  {
   "cell_type": "code",
   "execution_count": null,
   "metadata": {},
   "outputs": [],
   "source": [
    " for loop to check 1 to 100 is prime, perfect squer or diviible by 6. collect the integer that meet the above confition to coresponding array prime, square or factor"
   ]
  },
  {
   "cell_type": "code",
   "execution_count": null,
   "metadata": {},
   "outputs": [],
   "source": [
    "% Initialize arrays to store numbers that meet specific conditions\n",
    "prime = [];\n",
    "square = [];\n",
    "factorOf6 = [];\n",
    "\n",
    "% Loop through numbers from 1 to 100\n",
    "for num = 1:100\n",
    "    % Check if the number is prime\n",
    "    if isprime(num)\n",
    "        prime = [prime, num];\n",
    "    end\n",
    "    \n",
    "    % Check if the number is a perfect square\n",
    "    if sqrt(num) == round(sqrt(num))\n",
    "        square = [square, num];\n",
    "    end\n",
    "    \n",
    "    % Check if the number is divisible by 6\n",
    "    if rem(num, 6) == 0\n",
    "        factorOf6 = [factorOf6, num];\n",
    "    end\n",
    "end\n",
    "\n",
    "% Display the results\n",
    "disp('Prime numbers:');\n",
    "disp(prime);\n",
    "\n",
    "disp('Perfect squares:');\n",
    "disp(square);\n",
    "\n",
    "disp('Numbers divisible by 6:');\n",
    "disp(factorOf6);\n"
   ]
  }
 ],
 "metadata": {
  "kernelspec": {
   "display_name": "Python",
   "language": "python",
   "name": "python3"
  },
  "language_info": {
   "codemirror_mode": {
    "name": "ipython",
    "version": 3
   },
   "file_extension": ".py",
   "mimetype": "text/x-python",
   "name": "python",
   "nbconvert_exporter": "python",
   "pygments_lexer": "ipython3",
   "version": "3.8.16"
  }
 },
 "nbformat": 4,
 "nbformat_minor": 2
}
