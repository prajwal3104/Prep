{
 "cells": [
  {
   "cell_type": "code",
   "execution_count": 1,
   "metadata": {},
   "outputs": [
    {
     "name": "stdout",
     "output_type": "stream",
     "text": [
      "Requirement already satisfied: tensorflow in /Users/prajwal/.conda/envs/Python/lib/python3.8/site-packages (2.13.0)\n",
      "Requirement already satisfied: tensorflow-macos==2.13.0 in /Users/prajwal/.conda/envs/Python/lib/python3.8/site-packages (from tensorflow) (2.13.0)\n",
      "Requirement already satisfied: six>=1.12.0 in /Users/prajwal/.conda/envs/Python/lib/python3.8/site-packages (from tensorflow-macos==2.13.0->tensorflow) (1.16.0)\n",
      "Requirement already satisfied: tensorflow-estimator<2.14,>=2.13.0 in /Users/prajwal/.conda/envs/Python/lib/python3.8/site-packages (from tensorflow-macos==2.13.0->tensorflow) (2.13.0)\n",
      "Requirement already satisfied: numpy<=1.24.3,>=1.22 in /Users/prajwal/.conda/envs/Python/lib/python3.8/site-packages (from tensorflow-macos==2.13.0->tensorflow) (1.23.5)\n",
      "Requirement already satisfied: opt-einsum>=2.3.2 in /Users/prajwal/.conda/envs/Python/lib/python3.8/site-packages (from tensorflow-macos==2.13.0->tensorflow) (3.3.0)\n",
      "Requirement already satisfied: typing-extensions<4.6.0,>=3.6.6 in /Users/prajwal/.conda/envs/Python/lib/python3.8/site-packages (from tensorflow-macos==2.13.0->tensorflow) (4.4.0)\n",
      "Requirement already satisfied: flatbuffers>=23.1.21 in /Users/prajwal/.conda/envs/Python/lib/python3.8/site-packages (from tensorflow-macos==2.13.0->tensorflow) (23.3.3)\n",
      "Requirement already satisfied: google-pasta>=0.1.1 in /Users/prajwal/.conda/envs/Python/lib/python3.8/site-packages (from tensorflow-macos==2.13.0->tensorflow) (0.2.0)\n",
      "Requirement already satisfied: grpcio<2.0,>=1.24.3 in /Users/prajwal/.conda/envs/Python/lib/python3.8/site-packages (from tensorflow-macos==2.13.0->tensorflow) (1.51.3)\n",
      "Requirement already satisfied: protobuf!=4.21.0,!=4.21.1,!=4.21.2,!=4.21.3,!=4.21.4,!=4.21.5,<5.0.0dev,>=3.20.3 in /Users/prajwal/.conda/envs/Python/lib/python3.8/site-packages (from tensorflow-macos==2.13.0->tensorflow) (4.25.0)\n",
      "Requirement already satisfied: absl-py>=1.0.0 in /Users/prajwal/.conda/envs/Python/lib/python3.8/site-packages (from tensorflow-macos==2.13.0->tensorflow) (1.3.0)\n",
      "Requirement already satisfied: h5py>=2.9.0 in /Users/prajwal/.conda/envs/Python/lib/python3.8/site-packages (from tensorflow-macos==2.13.0->tensorflow) (3.8.0)\n",
      "Requirement already satisfied: astunparse>=1.6.0 in /Users/prajwal/.conda/envs/Python/lib/python3.8/site-packages (from tensorflow-macos==2.13.0->tensorflow) (1.6.3)\n",
      "Requirement already satisfied: gast<=0.4.0,>=0.2.1 in /Users/prajwal/.conda/envs/Python/lib/python3.8/site-packages (from tensorflow-macos==2.13.0->tensorflow) (0.4.0)\n",
      "Requirement already satisfied: wrapt>=1.11.0 in /Users/prajwal/.conda/envs/Python/lib/python3.8/site-packages (from tensorflow-macos==2.13.0->tensorflow) (1.15.0)\n",
      "Requirement already satisfied: termcolor>=1.1.0 in /Users/prajwal/.conda/envs/Python/lib/python3.8/site-packages (from tensorflow-macos==2.13.0->tensorflow) (2.2.0)\n",
      "Requirement already satisfied: keras<2.14,>=2.13.1 in /Users/prajwal/.conda/envs/Python/lib/python3.8/site-packages (from tensorflow-macos==2.13.0->tensorflow) (2.13.1)\n",
      "Requirement already satisfied: setuptools in /Users/prajwal/.conda/envs/Python/lib/python3.8/site-packages (from tensorflow-macos==2.13.0->tensorflow) (65.6.3)\n",
      "Requirement already satisfied: packaging in /Users/prajwal/.conda/envs/Python/lib/python3.8/site-packages (from tensorflow-macos==2.13.0->tensorflow) (20.9)\n",
      "Requirement already satisfied: libclang>=13.0.0 in /Users/prajwal/.conda/envs/Python/lib/python3.8/site-packages (from tensorflow-macos==2.13.0->tensorflow) (15.0.6.1)\n",
      "Requirement already satisfied: tensorboard<2.14,>=2.13 in /Users/prajwal/.conda/envs/Python/lib/python3.8/site-packages (from tensorflow-macos==2.13.0->tensorflow) (2.13.0)\n",
      "Requirement already satisfied: wheel<1.0,>=0.23.0 in /Users/prajwal/.conda/envs/Python/lib/python3.8/site-packages (from astunparse>=1.6.0->tensorflow-macos==2.13.0->tensorflow) (0.38.4)\n",
      "Requirement already satisfied: google-auth-oauthlib<1.1,>=0.5 in /Users/prajwal/.conda/envs/Python/lib/python3.8/site-packages (from tensorboard<2.14,>=2.13->tensorflow-macos==2.13.0->tensorflow) (1.0.0)\n",
      "Requirement already satisfied: werkzeug>=1.0.1 in /Users/prajwal/.conda/envs/Python/lib/python3.8/site-packages (from tensorboard<2.14,>=2.13->tensorflow-macos==2.13.0->tensorflow) (2.2.3)\n",
      "Requirement already satisfied: tensorboard-data-server<0.8.0,>=0.7.0 in /Users/prajwal/.conda/envs/Python/lib/python3.8/site-packages (from tensorboard<2.14,>=2.13->tensorflow-macos==2.13.0->tensorflow) (0.7.2)\n",
      "Requirement already satisfied: google-auth<3,>=1.6.3 in /Users/prajwal/.conda/envs/Python/lib/python3.8/site-packages (from tensorboard<2.14,>=2.13->tensorflow-macos==2.13.0->tensorflow) (2.16.2)\n",
      "Requirement already satisfied: markdown>=2.6.8 in /Users/prajwal/.conda/envs/Python/lib/python3.8/site-packages (from tensorboard<2.14,>=2.13->tensorflow-macos==2.13.0->tensorflow) (3.4.1)\n",
      "Requirement already satisfied: requests<3,>=2.21.0 in /Users/prajwal/.conda/envs/Python/lib/python3.8/site-packages (from tensorboard<2.14,>=2.13->tensorflow-macos==2.13.0->tensorflow) (2.28.1)\n",
      "Requirement already satisfied: pyparsing>=2.0.2 in /Users/prajwal/.conda/envs/Python/lib/python3.8/site-packages (from packaging->tensorflow-macos==2.13.0->tensorflow) (3.0.9)\n",
      "Requirement already satisfied: cachetools<6.0,>=2.0.0 in /Users/prajwal/.conda/envs/Python/lib/python3.8/site-packages (from google-auth<3,>=1.6.3->tensorboard<2.14,>=2.13->tensorflow-macos==2.13.0->tensorflow) (5.3.0)\n",
      "Requirement already satisfied: rsa<5,>=3.1.4 in /Users/prajwal/.conda/envs/Python/lib/python3.8/site-packages (from google-auth<3,>=1.6.3->tensorboard<2.14,>=2.13->tensorflow-macos==2.13.0->tensorflow) (4.9)\n",
      "Requirement already satisfied: pyasn1-modules>=0.2.1 in /Users/prajwal/.conda/envs/Python/lib/python3.8/site-packages (from google-auth<3,>=1.6.3->tensorboard<2.14,>=2.13->tensorflow-macos==2.13.0->tensorflow) (0.2.8)\n",
      "Requirement already satisfied: requests-oauthlib>=0.7.0 in /Users/prajwal/.conda/envs/Python/lib/python3.8/site-packages (from google-auth-oauthlib<1.1,>=0.5->tensorboard<2.14,>=2.13->tensorflow-macos==2.13.0->tensorflow) (1.3.1)\n",
      "Requirement already satisfied: importlib-metadata>=4.4 in /Users/prajwal/.conda/envs/Python/lib/python3.8/site-packages (from markdown>=2.6.8->tensorboard<2.14,>=2.13->tensorflow-macos==2.13.0->tensorflow) (4.11.3)\n",
      "Requirement already satisfied: idna<4,>=2.5 in /Users/prajwal/.conda/envs/Python/lib/python3.8/site-packages (from requests<3,>=2.21.0->tensorboard<2.14,>=2.13->tensorflow-macos==2.13.0->tensorflow) (3.4)\n",
      "Requirement already satisfied: certifi>=2017.4.17 in /Users/prajwal/.conda/envs/Python/lib/python3.8/site-packages (from requests<3,>=2.21.0->tensorboard<2.14,>=2.13->tensorflow-macos==2.13.0->tensorflow) (2022.12.7)\n",
      "Requirement already satisfied: urllib3<1.27,>=1.21.1 in /Users/prajwal/.conda/envs/Python/lib/python3.8/site-packages (from requests<3,>=2.21.0->tensorboard<2.14,>=2.13->tensorflow-macos==2.13.0->tensorflow) (1.26.14)\n",
      "Requirement already satisfied: charset-normalizer<3,>=2 in /Users/prajwal/.conda/envs/Python/lib/python3.8/site-packages (from requests<3,>=2.21.0->tensorboard<2.14,>=2.13->tensorflow-macos==2.13.0->tensorflow) (2.0.4)\n",
      "Requirement already satisfied: MarkupSafe>=2.1.1 in /Users/prajwal/.conda/envs/Python/lib/python3.8/site-packages (from werkzeug>=1.0.1->tensorboard<2.14,>=2.13->tensorflow-macos==2.13.0->tensorflow) (2.1.1)\n",
      "Requirement already satisfied: zipp>=0.5 in /Users/prajwal/.conda/envs/Python/lib/python3.8/site-packages (from importlib-metadata>=4.4->markdown>=2.6.8->tensorboard<2.14,>=2.13->tensorflow-macos==2.13.0->tensorflow) (3.11.0)\n",
      "Requirement already satisfied: pyasn1<0.5.0,>=0.4.6 in /Users/prajwal/.conda/envs/Python/lib/python3.8/site-packages (from pyasn1-modules>=0.2.1->google-auth<3,>=1.6.3->tensorboard<2.14,>=2.13->tensorflow-macos==2.13.0->tensorflow) (0.4.8)\n",
      "Requirement already satisfied: oauthlib>=3.0.0 in /Users/prajwal/.conda/envs/Python/lib/python3.8/site-packages (from requests-oauthlib>=0.7.0->google-auth-oauthlib<1.1,>=0.5->tensorboard<2.14,>=2.13->tensorflow-macos==2.13.0->tensorflow) (3.2.2)\n",
      "Note: you may need to restart the kernel to use updated packages.\n"
     ]
    }
   ],
   "source": [
    "pip install tensorflow"
   ]
  },
  {
   "cell_type": "code",
   "execution_count": 2,
   "metadata": {},
   "outputs": [
    {
     "name": "stdout",
     "output_type": "stream",
     "text": [
      "2.13.0\n"
     ]
    }
   ],
   "source": [
    "import tensorflow as tf\n",
    "print(tf.__version__)"
   ]
  },
  {
   "cell_type": "code",
   "execution_count": 53,
   "metadata": {},
   "outputs": [],
   "source": [
    "import numpy as np\n",
    "import matplotlib.pyplot as plt\n",
    "import pandas as pd\n",
    "\n",
    "from sklearn.model_selection import train_test_split \n",
    "from sklearn.preprocessing import StandardScaler # Feature Scaling\n",
    "from sklearn.metrics import confusion_matrix, accuracy_score\n",
    "\n",
    "from tensorflow.keras.models import Sequential\n",
    "from tensorflow.keras.layers import Dense, LeakyReLU, PReLU, ELU, Dropout\n"
   ]
  },
  {
   "cell_type": "code",
   "execution_count": 4,
   "metadata": {},
   "outputs": [
    {
     "data": {
      "text/html": [
       "<div>\n",
       "<style scoped>\n",
       "    .dataframe tbody tr th:only-of-type {\n",
       "        vertical-align: middle;\n",
       "    }\n",
       "\n",
       "    .dataframe tbody tr th {\n",
       "        vertical-align: top;\n",
       "    }\n",
       "\n",
       "    .dataframe thead th {\n",
       "        text-align: right;\n",
       "    }\n",
       "</style>\n",
       "<table border=\"1\" class=\"dataframe\">\n",
       "  <thead>\n",
       "    <tr style=\"text-align: right;\">\n",
       "      <th></th>\n",
       "      <th>RowNumber</th>\n",
       "      <th>CustomerId</th>\n",
       "      <th>Surname</th>\n",
       "      <th>CreditScore</th>\n",
       "      <th>Geography</th>\n",
       "      <th>Gender</th>\n",
       "      <th>Age</th>\n",
       "      <th>Tenure</th>\n",
       "      <th>Balance</th>\n",
       "      <th>NumOfProducts</th>\n",
       "      <th>HasCrCard</th>\n",
       "      <th>IsActiveMember</th>\n",
       "      <th>EstimatedSalary</th>\n",
       "      <th>Exited</th>\n",
       "    </tr>\n",
       "  </thead>\n",
       "  <tbody>\n",
       "    <tr>\n",
       "      <th>0</th>\n",
       "      <td>1</td>\n",
       "      <td>15634602</td>\n",
       "      <td>Hargrave</td>\n",
       "      <td>619</td>\n",
       "      <td>France</td>\n",
       "      <td>Female</td>\n",
       "      <td>42</td>\n",
       "      <td>2</td>\n",
       "      <td>0.00</td>\n",
       "      <td>1</td>\n",
       "      <td>1</td>\n",
       "      <td>1</td>\n",
       "      <td>101348.88</td>\n",
       "      <td>1</td>\n",
       "    </tr>\n",
       "    <tr>\n",
       "      <th>1</th>\n",
       "      <td>2</td>\n",
       "      <td>15647311</td>\n",
       "      <td>Hill</td>\n",
       "      <td>608</td>\n",
       "      <td>Spain</td>\n",
       "      <td>Female</td>\n",
       "      <td>41</td>\n",
       "      <td>1</td>\n",
       "      <td>83807.86</td>\n",
       "      <td>1</td>\n",
       "      <td>0</td>\n",
       "      <td>1</td>\n",
       "      <td>112542.58</td>\n",
       "      <td>0</td>\n",
       "    </tr>\n",
       "    <tr>\n",
       "      <th>2</th>\n",
       "      <td>3</td>\n",
       "      <td>15619304</td>\n",
       "      <td>Onio</td>\n",
       "      <td>502</td>\n",
       "      <td>France</td>\n",
       "      <td>Female</td>\n",
       "      <td>42</td>\n",
       "      <td>8</td>\n",
       "      <td>159660.80</td>\n",
       "      <td>3</td>\n",
       "      <td>1</td>\n",
       "      <td>0</td>\n",
       "      <td>113931.57</td>\n",
       "      <td>1</td>\n",
       "    </tr>\n",
       "    <tr>\n",
       "      <th>3</th>\n",
       "      <td>4</td>\n",
       "      <td>15701354</td>\n",
       "      <td>Boni</td>\n",
       "      <td>699</td>\n",
       "      <td>France</td>\n",
       "      <td>Female</td>\n",
       "      <td>39</td>\n",
       "      <td>1</td>\n",
       "      <td>0.00</td>\n",
       "      <td>2</td>\n",
       "      <td>0</td>\n",
       "      <td>0</td>\n",
       "      <td>93826.63</td>\n",
       "      <td>0</td>\n",
       "    </tr>\n",
       "    <tr>\n",
       "      <th>4</th>\n",
       "      <td>5</td>\n",
       "      <td>15737888</td>\n",
       "      <td>Mitchell</td>\n",
       "      <td>850</td>\n",
       "      <td>Spain</td>\n",
       "      <td>Female</td>\n",
       "      <td>43</td>\n",
       "      <td>2</td>\n",
       "      <td>125510.82</td>\n",
       "      <td>1</td>\n",
       "      <td>1</td>\n",
       "      <td>1</td>\n",
       "      <td>79084.10</td>\n",
       "      <td>0</td>\n",
       "    </tr>\n",
       "  </tbody>\n",
       "</table>\n",
       "</div>"
      ],
      "text/plain": [
       "   RowNumber  CustomerId   Surname  CreditScore Geography  Gender  Age  \\\n",
       "0          1    15634602  Hargrave          619    France  Female   42   \n",
       "1          2    15647311      Hill          608     Spain  Female   41   \n",
       "2          3    15619304      Onio          502    France  Female   42   \n",
       "3          4    15701354      Boni          699    France  Female   39   \n",
       "4          5    15737888  Mitchell          850     Spain  Female   43   \n",
       "\n",
       "   Tenure    Balance  NumOfProducts  HasCrCard  IsActiveMember  \\\n",
       "0       2       0.00              1          1               1   \n",
       "1       1   83807.86              1          0               1   \n",
       "2       8  159660.80              3          1               0   \n",
       "3       1       0.00              2          0               0   \n",
       "4       2  125510.82              1          1               1   \n",
       "\n",
       "   EstimatedSalary  Exited  \n",
       "0        101348.88       1  \n",
       "1        112542.58       0  \n",
       "2        113931.57       1  \n",
       "3         93826.63       0  \n",
       "4         79084.10       0  "
      ]
     },
     "execution_count": 4,
     "metadata": {},
     "output_type": "execute_result"
    }
   ],
   "source": [
    "dataset = pd.read_csv('/Users/prajwal/Developer/Prep/Deep_Learning/Churn_Modelling/Churn_Modelling.csv')\n",
    "dataset.head()"
   ]
  },
  {
   "cell_type": "code",
   "execution_count": 5,
   "metadata": {},
   "outputs": [],
   "source": [
    "X = dataset.iloc[:, 3:13]\n",
    "y = dataset.iloc[:, 13]"
   ]
  },
  {
   "cell_type": "code",
   "execution_count": 6,
   "metadata": {},
   "outputs": [
    {
     "data": {
      "text/html": [
       "<div>\n",
       "<style scoped>\n",
       "    .dataframe tbody tr th:only-of-type {\n",
       "        vertical-align: middle;\n",
       "    }\n",
       "\n",
       "    .dataframe tbody tr th {\n",
       "        vertical-align: top;\n",
       "    }\n",
       "\n",
       "    .dataframe thead th {\n",
       "        text-align: right;\n",
       "    }\n",
       "</style>\n",
       "<table border=\"1\" class=\"dataframe\">\n",
       "  <thead>\n",
       "    <tr style=\"text-align: right;\">\n",
       "      <th></th>\n",
       "      <th>CreditScore</th>\n",
       "      <th>Geography</th>\n",
       "      <th>Gender</th>\n",
       "      <th>Age</th>\n",
       "      <th>Tenure</th>\n",
       "      <th>Balance</th>\n",
       "      <th>NumOfProducts</th>\n",
       "      <th>HasCrCard</th>\n",
       "      <th>IsActiveMember</th>\n",
       "      <th>EstimatedSalary</th>\n",
       "    </tr>\n",
       "  </thead>\n",
       "  <tbody>\n",
       "    <tr>\n",
       "      <th>0</th>\n",
       "      <td>619</td>\n",
       "      <td>France</td>\n",
       "      <td>Female</td>\n",
       "      <td>42</td>\n",
       "      <td>2</td>\n",
       "      <td>0.00</td>\n",
       "      <td>1</td>\n",
       "      <td>1</td>\n",
       "      <td>1</td>\n",
       "      <td>101348.88</td>\n",
       "    </tr>\n",
       "    <tr>\n",
       "      <th>1</th>\n",
       "      <td>608</td>\n",
       "      <td>Spain</td>\n",
       "      <td>Female</td>\n",
       "      <td>41</td>\n",
       "      <td>1</td>\n",
       "      <td>83807.86</td>\n",
       "      <td>1</td>\n",
       "      <td>0</td>\n",
       "      <td>1</td>\n",
       "      <td>112542.58</td>\n",
       "    </tr>\n",
       "    <tr>\n",
       "      <th>2</th>\n",
       "      <td>502</td>\n",
       "      <td>France</td>\n",
       "      <td>Female</td>\n",
       "      <td>42</td>\n",
       "      <td>8</td>\n",
       "      <td>159660.80</td>\n",
       "      <td>3</td>\n",
       "      <td>1</td>\n",
       "      <td>0</td>\n",
       "      <td>113931.57</td>\n",
       "    </tr>\n",
       "    <tr>\n",
       "      <th>3</th>\n",
       "      <td>699</td>\n",
       "      <td>France</td>\n",
       "      <td>Female</td>\n",
       "      <td>39</td>\n",
       "      <td>1</td>\n",
       "      <td>0.00</td>\n",
       "      <td>2</td>\n",
       "      <td>0</td>\n",
       "      <td>0</td>\n",
       "      <td>93826.63</td>\n",
       "    </tr>\n",
       "    <tr>\n",
       "      <th>4</th>\n",
       "      <td>850</td>\n",
       "      <td>Spain</td>\n",
       "      <td>Female</td>\n",
       "      <td>43</td>\n",
       "      <td>2</td>\n",
       "      <td>125510.82</td>\n",
       "      <td>1</td>\n",
       "      <td>1</td>\n",
       "      <td>1</td>\n",
       "      <td>79084.10</td>\n",
       "    </tr>\n",
       "  </tbody>\n",
       "</table>\n",
       "</div>"
      ],
      "text/plain": [
       "   CreditScore Geography  Gender  Age  Tenure    Balance  NumOfProducts  \\\n",
       "0          619    France  Female   42       2       0.00              1   \n",
       "1          608     Spain  Female   41       1   83807.86              1   \n",
       "2          502    France  Female   42       8  159660.80              3   \n",
       "3          699    France  Female   39       1       0.00              2   \n",
       "4          850     Spain  Female   43       2  125510.82              1   \n",
       "\n",
       "   HasCrCard  IsActiveMember  EstimatedSalary  \n",
       "0          1               1        101348.88  \n",
       "1          0               1        112542.58  \n",
       "2          1               0        113931.57  \n",
       "3          0               0         93826.63  \n",
       "4          1               1         79084.10  "
      ]
     },
     "execution_count": 6,
     "metadata": {},
     "output_type": "execute_result"
    }
   ],
   "source": [
    "X.head()"
   ]
  },
  {
   "cell_type": "code",
   "execution_count": 7,
   "metadata": {},
   "outputs": [
    {
     "data": {
      "text/plain": [
       "0    1\n",
       "1    0\n",
       "2    1\n",
       "3    0\n",
       "4    0\n",
       "Name: Exited, dtype: int64"
      ]
     },
     "execution_count": 7,
     "metadata": {},
     "output_type": "execute_result"
    }
   ],
   "source": [
    "y.head()"
   ]
  },
  {
   "cell_type": "code",
   "execution_count": 8,
   "metadata": {},
   "outputs": [],
   "source": [
    "geography = pd.get_dummies(X['Geography'], drop_first= True)"
   ]
  },
  {
   "cell_type": "code",
   "execution_count": 9,
   "metadata": {},
   "outputs": [],
   "source": [
    "gender = pd.get_dummies(X['Gender'], drop_first= True)"
   ]
  },
  {
   "cell_type": "code",
   "execution_count": 10,
   "metadata": {},
   "outputs": [],
   "source": [
    "X = X.drop(['Gender', 'Geography'], axis=1)"
   ]
  },
  {
   "cell_type": "code",
   "execution_count": 11,
   "metadata": {},
   "outputs": [
    {
     "data": {
      "text/html": [
       "<div>\n",
       "<style scoped>\n",
       "    .dataframe tbody tr th:only-of-type {\n",
       "        vertical-align: middle;\n",
       "    }\n",
       "\n",
       "    .dataframe tbody tr th {\n",
       "        vertical-align: top;\n",
       "    }\n",
       "\n",
       "    .dataframe thead th {\n",
       "        text-align: right;\n",
       "    }\n",
       "</style>\n",
       "<table border=\"1\" class=\"dataframe\">\n",
       "  <thead>\n",
       "    <tr style=\"text-align: right;\">\n",
       "      <th></th>\n",
       "      <th>CreditScore</th>\n",
       "      <th>Age</th>\n",
       "      <th>Tenure</th>\n",
       "      <th>Balance</th>\n",
       "      <th>NumOfProducts</th>\n",
       "      <th>HasCrCard</th>\n",
       "      <th>IsActiveMember</th>\n",
       "      <th>EstimatedSalary</th>\n",
       "    </tr>\n",
       "  </thead>\n",
       "  <tbody>\n",
       "    <tr>\n",
       "      <th>0</th>\n",
       "      <td>619</td>\n",
       "      <td>42</td>\n",
       "      <td>2</td>\n",
       "      <td>0.00</td>\n",
       "      <td>1</td>\n",
       "      <td>1</td>\n",
       "      <td>1</td>\n",
       "      <td>101348.88</td>\n",
       "    </tr>\n",
       "    <tr>\n",
       "      <th>1</th>\n",
       "      <td>608</td>\n",
       "      <td>41</td>\n",
       "      <td>1</td>\n",
       "      <td>83807.86</td>\n",
       "      <td>1</td>\n",
       "      <td>0</td>\n",
       "      <td>1</td>\n",
       "      <td>112542.58</td>\n",
       "    </tr>\n",
       "    <tr>\n",
       "      <th>2</th>\n",
       "      <td>502</td>\n",
       "      <td>42</td>\n",
       "      <td>8</td>\n",
       "      <td>159660.80</td>\n",
       "      <td>3</td>\n",
       "      <td>1</td>\n",
       "      <td>0</td>\n",
       "      <td>113931.57</td>\n",
       "    </tr>\n",
       "    <tr>\n",
       "      <th>3</th>\n",
       "      <td>699</td>\n",
       "      <td>39</td>\n",
       "      <td>1</td>\n",
       "      <td>0.00</td>\n",
       "      <td>2</td>\n",
       "      <td>0</td>\n",
       "      <td>0</td>\n",
       "      <td>93826.63</td>\n",
       "    </tr>\n",
       "    <tr>\n",
       "      <th>4</th>\n",
       "      <td>850</td>\n",
       "      <td>43</td>\n",
       "      <td>2</td>\n",
       "      <td>125510.82</td>\n",
       "      <td>1</td>\n",
       "      <td>1</td>\n",
       "      <td>1</td>\n",
       "      <td>79084.10</td>\n",
       "    </tr>\n",
       "  </tbody>\n",
       "</table>\n",
       "</div>"
      ],
      "text/plain": [
       "   CreditScore  Age  Tenure    Balance  NumOfProducts  HasCrCard  \\\n",
       "0          619   42       2       0.00              1          1   \n",
       "1          608   41       1   83807.86              1          0   \n",
       "2          502   42       8  159660.80              3          1   \n",
       "3          699   39       1       0.00              2          0   \n",
       "4          850   43       2  125510.82              1          1   \n",
       "\n",
       "   IsActiveMember  EstimatedSalary  \n",
       "0               1        101348.88  \n",
       "1               1        112542.58  \n",
       "2               0        113931.57  \n",
       "3               0         93826.63  \n",
       "4               1         79084.10  "
      ]
     },
     "execution_count": 11,
     "metadata": {},
     "output_type": "execute_result"
    }
   ],
   "source": [
    "X.head()"
   ]
  },
  {
   "cell_type": "code",
   "execution_count": 12,
   "metadata": {},
   "outputs": [],
   "source": [
    "X = pd.concat([X,gender,geography], axis=1)"
   ]
  },
  {
   "cell_type": "code",
   "execution_count": 13,
   "metadata": {},
   "outputs": [
    {
     "name": "stdout",
     "output_type": "stream",
     "text": [
      "X shape: (10000, 11)\n",
      "y shape: (10000,)\n"
     ]
    }
   ],
   "source": [
    "print(\"X shape:\", X.shape)\n",
    "print(\"y shape:\", y.shape)\n"
   ]
  },
  {
   "cell_type": "code",
   "execution_count": 14,
   "metadata": {},
   "outputs": [],
   "source": [
    "X_train, X_test, y_train, y_test = train_test_split(X, y, test_size=0.2, random_state=0)"
   ]
  },
  {
   "cell_type": "code",
   "execution_count": 16,
   "metadata": {},
   "outputs": [],
   "source": [
    "#feature scaling\n",
    "\n",
    "sc = StandardScaler()\n",
    "X_train = sc.fit_transform(X_train)\n",
    "X_test = sc.transform(X_test)"
   ]
  },
  {
   "cell_type": "code",
   "execution_count": 17,
   "metadata": {},
   "outputs": [
    {
     "data": {
      "text/plain": [
       "array([[ 0.16958176, -0.46460796,  0.00666099, ..., -1.09168714,\n",
       "        -0.5698444 ,  1.74309049],\n",
       "       [-2.30455945,  0.30102557, -1.37744033, ...,  0.91601335,\n",
       "         1.75486502, -0.57369368],\n",
       "       [-1.19119591, -0.94312892, -1.031415  , ..., -1.09168714,\n",
       "        -0.5698444 , -0.57369368],\n",
       "       ...,\n",
       "       [ 0.9015152 , -0.36890377,  0.00666099, ...,  0.91601335,\n",
       "        -0.5698444 , -0.57369368],\n",
       "       [-0.62420521, -0.08179119,  1.39076231, ..., -1.09168714,\n",
       "        -0.5698444 ,  1.74309049],\n",
       "       [-0.28401079,  0.87525072, -1.37744033, ..., -1.09168714,\n",
       "         1.75486502, -0.57369368]])"
      ]
     },
     "execution_count": 17,
     "metadata": {},
     "output_type": "execute_result"
    }
   ],
   "source": [
    "X_train"
   ]
  },
  {
   "cell_type": "code",
   "execution_count": 18,
   "metadata": {},
   "outputs": [
    {
     "data": {
      "text/plain": [
       "array([[-0.55204276, -0.36890377,  1.04473698, ..., -1.09168714,\n",
       "         1.75486502, -0.57369368],\n",
       "       [-1.31490297,  0.10961719, -1.031415  , ..., -1.09168714,\n",
       "        -0.5698444 , -0.57369368],\n",
       "       [ 0.57162971,  0.30102557,  1.04473698, ..., -1.09168714,\n",
       "        -0.5698444 ,  1.74309049],\n",
       "       ...,\n",
       "       [-0.74791227, -0.27319958, -1.37744033, ...,  0.91601335,\n",
       "        -0.5698444 ,  1.74309049],\n",
       "       [-0.00566991, -0.46460796, -0.33936434, ...,  0.91601335,\n",
       "         1.75486502, -0.57369368],\n",
       "       [-0.79945688, -0.84742473,  1.04473698, ...,  0.91601335,\n",
       "         1.75486502, -0.57369368]])"
      ]
     },
     "execution_count": 18,
     "metadata": {},
     "output_type": "execute_result"
    }
   ],
   "source": [
    "X_test"
   ]
  },
  {
   "cell_type": "code",
   "execution_count": 19,
   "metadata": {},
   "outputs": [
    {
     "data": {
      "text/plain": [
       "(8000, 11)"
      ]
     },
     "execution_count": 19,
     "metadata": {},
     "output_type": "execute_result"
    }
   ],
   "source": [
    "X_train.shape"
   ]
  },
  {
   "cell_type": "code",
   "execution_count": 21,
   "metadata": {},
   "outputs": [],
   "source": [
    "#Creating ANN\n",
    "\n",
    "classifier = Sequential()"
   ]
  },
  {
   "cell_type": "code",
   "execution_count": 23,
   "metadata": {},
   "outputs": [],
   "source": [
    "#adding input layer\n",
    "\n",
    "classifier.add(Dense(units = 11, activation = 'relu'))"
   ]
  },
  {
   "cell_type": "code",
   "execution_count": 24,
   "metadata": {},
   "outputs": [],
   "source": [
    "#adding hidden layer\n",
    "\n",
    "classifier.add(Dense(units = 7, activation = 'relu'))"
   ]
  },
  {
   "cell_type": "code",
   "execution_count": 25,
   "metadata": {},
   "outputs": [],
   "source": [
    "# adding 2nd hidden layer\n",
    "\n",
    "classifier.add(Dense(units = 6, activation = 'relu'))"
   ]
  },
  {
   "cell_type": "code",
   "execution_count": 26,
   "metadata": {},
   "outputs": [],
   "source": [
    "# adding output layer\n",
    "\n",
    "classifier.add(Dense(units = 1, activation = 'sigmoid'))"
   ]
  },
  {
   "cell_type": "code",
   "execution_count": 27,
   "metadata": {},
   "outputs": [],
   "source": [
    "classifier.compile(optimizer = 'adam', loss = 'binary_crossentropy', metrics = ['accuracy'])"
   ]
  },
  {
   "cell_type": "code",
   "execution_count": 29,
   "metadata": {},
   "outputs": [
    {
     "name": "stdout",
     "output_type": "stream",
     "text": [
      "Epoch 1/1000\n"
     ]
    },
    {
     "name": "stdout",
     "output_type": "stream",
     "text": [
      "536/536 [==============================] - 0s 899us/step - loss: 0.3113 - accuracy: 0.8694 - val_loss: 0.3692 - val_accuracy: 0.8489\n",
      "Epoch 2/1000\n",
      "536/536 [==============================] - 0s 930us/step - loss: 0.3113 - accuracy: 0.8714 - val_loss: 0.3662 - val_accuracy: 0.8508\n",
      "Epoch 3/1000\n",
      "536/536 [==============================] - 0s 861us/step - loss: 0.3110 - accuracy: 0.8709 - val_loss: 0.3685 - val_accuracy: 0.8463\n",
      "Epoch 4/1000\n",
      "536/536 [==============================] - 0s 839us/step - loss: 0.3112 - accuracy: 0.8707 - val_loss: 0.3663 - val_accuracy: 0.8470\n",
      "Epoch 5/1000\n",
      "536/536 [==============================] - 0s 840us/step - loss: 0.3114 - accuracy: 0.8694 - val_loss: 0.3698 - val_accuracy: 0.8485\n",
      "Epoch 6/1000\n",
      "536/536 [==============================] - 0s 833us/step - loss: 0.3108 - accuracy: 0.8698 - val_loss: 0.3678 - val_accuracy: 0.8448\n",
      "Epoch 7/1000\n",
      "536/536 [==============================] - 0s 911us/step - loss: 0.3096 - accuracy: 0.8718 - val_loss: 0.3691 - val_accuracy: 0.8470\n",
      "Epoch 8/1000\n",
      "536/536 [==============================] - 0s 827us/step - loss: 0.3102 - accuracy: 0.8688 - val_loss: 0.3678 - val_accuracy: 0.8444\n",
      "Epoch 9/1000\n",
      "536/536 [==============================] - 0s 834us/step - loss: 0.3096 - accuracy: 0.8698 - val_loss: 0.3692 - val_accuracy: 0.8485\n",
      "Epoch 10/1000\n",
      "536/536 [==============================] - 0s 867us/step - loss: 0.3100 - accuracy: 0.8720 - val_loss: 0.3694 - val_accuracy: 0.8504\n",
      "Epoch 11/1000\n",
      "536/536 [==============================] - 1s 952us/step - loss: 0.3094 - accuracy: 0.8709 - val_loss: 0.3705 - val_accuracy: 0.8482\n",
      "Epoch 12/1000\n",
      "536/536 [==============================] - 1s 987us/step - loss: 0.3100 - accuracy: 0.8726 - val_loss: 0.3662 - val_accuracy: 0.8493\n",
      "Epoch 13/1000\n",
      "536/536 [==============================] - 0s 900us/step - loss: 0.3098 - accuracy: 0.8724 - val_loss: 0.3659 - val_accuracy: 0.8538\n",
      "Epoch 14/1000\n",
      "536/536 [==============================] - 0s 874us/step - loss: 0.3100 - accuracy: 0.8720 - val_loss: 0.3677 - val_accuracy: 0.8466\n",
      "Epoch 15/1000\n",
      "536/536 [==============================] - 0s 915us/step - loss: 0.3098 - accuracy: 0.8696 - val_loss: 0.3669 - val_accuracy: 0.8497\n",
      "Epoch 16/1000\n",
      "536/536 [==============================] - 0s 865us/step - loss: 0.3095 - accuracy: 0.8733 - val_loss: 0.3689 - val_accuracy: 0.8485\n",
      "Epoch 17/1000\n",
      "536/536 [==============================] - 0s 845us/step - loss: 0.3089 - accuracy: 0.8727 - val_loss: 0.3689 - val_accuracy: 0.8485\n",
      "Epoch 18/1000\n",
      "536/536 [==============================] - 0s 897us/step - loss: 0.3089 - accuracy: 0.8699 - val_loss: 0.3703 - val_accuracy: 0.8504\n",
      "Epoch 19/1000\n",
      "536/536 [==============================] - 0s 916us/step - loss: 0.3097 - accuracy: 0.8707 - val_loss: 0.3706 - val_accuracy: 0.8466\n",
      "Epoch 20/1000\n",
      "536/536 [==============================] - 0s 839us/step - loss: 0.3097 - accuracy: 0.8729 - val_loss: 0.3686 - val_accuracy: 0.8459\n",
      "Epoch 21/1000\n",
      "536/536 [==============================] - 0s 839us/step - loss: 0.3098 - accuracy: 0.8699 - val_loss: 0.3677 - val_accuracy: 0.8474\n",
      "Epoch 22/1000\n",
      "536/536 [==============================] - 0s 838us/step - loss: 0.3098 - accuracy: 0.8699 - val_loss: 0.3694 - val_accuracy: 0.8489\n",
      "Epoch 23/1000\n",
      "536/536 [==============================] - 0s 839us/step - loss: 0.3088 - accuracy: 0.8726 - val_loss: 0.3682 - val_accuracy: 0.8508\n",
      "Epoch 24/1000\n",
      "536/536 [==============================] - 1s 958us/step - loss: 0.3077 - accuracy: 0.8716 - val_loss: 0.3691 - val_accuracy: 0.8459\n",
      "Epoch 25/1000\n",
      "536/536 [==============================] - 0s 836us/step - loss: 0.3093 - accuracy: 0.8686 - val_loss: 0.3702 - val_accuracy: 0.8466\n",
      "Epoch 26/1000\n",
      "536/536 [==============================] - 0s 846us/step - loss: 0.3085 - accuracy: 0.8722 - val_loss: 0.3688 - val_accuracy: 0.8504\n",
      "Epoch 27/1000\n",
      "536/536 [==============================] - 0s 851us/step - loss: 0.3083 - accuracy: 0.8711 - val_loss: 0.3678 - val_accuracy: 0.8535\n",
      "Epoch 28/1000\n",
      "536/536 [==============================] - 1s 2ms/step - loss: 0.3084 - accuracy: 0.8722 - val_loss: 0.3687 - val_accuracy: 0.8470\n",
      "Epoch 29/1000\n",
      "536/536 [==============================] - 1s 1ms/step - loss: 0.3086 - accuracy: 0.8735 - val_loss: 0.3705 - val_accuracy: 0.8485\n",
      "Epoch 30/1000\n",
      "536/536 [==============================] - 1s 1ms/step - loss: 0.3082 - accuracy: 0.8718 - val_loss: 0.3685 - val_accuracy: 0.8478\n",
      "Epoch 31/1000\n",
      "536/536 [==============================] - 1s 1ms/step - loss: 0.3085 - accuracy: 0.8711 - val_loss: 0.3694 - val_accuracy: 0.8493\n",
      "Epoch 32/1000\n",
      "536/536 [==============================] - 0s 863us/step - loss: 0.3079 - accuracy: 0.8712 - val_loss: 0.3675 - val_accuracy: 0.8478\n",
      "Epoch 33/1000\n",
      "536/536 [==============================] - 1s 1ms/step - loss: 0.3082 - accuracy: 0.8735 - val_loss: 0.3700 - val_accuracy: 0.8448\n",
      "Epoch 34/1000\n",
      "536/536 [==============================] - 0s 848us/step - loss: 0.3073 - accuracy: 0.8737 - val_loss: 0.3721 - val_accuracy: 0.8493\n",
      "Epoch 35/1000\n",
      "536/536 [==============================] - 0s 828us/step - loss: 0.3078 - accuracy: 0.8716 - val_loss: 0.3718 - val_accuracy: 0.8440\n",
      "Epoch 36/1000\n",
      "536/536 [==============================] - 0s 889us/step - loss: 0.3071 - accuracy: 0.8722 - val_loss: 0.3697 - val_accuracy: 0.8493\n",
      "Epoch 37/1000\n",
      "536/536 [==============================] - 0s 856us/step - loss: 0.3079 - accuracy: 0.8698 - val_loss: 0.3707 - val_accuracy: 0.8478\n",
      "Epoch 38/1000\n",
      "536/536 [==============================] - 0s 844us/step - loss: 0.3071 - accuracy: 0.8727 - val_loss: 0.3766 - val_accuracy: 0.8406\n",
      "Epoch 39/1000\n",
      "536/536 [==============================] - 0s 847us/step - loss: 0.3078 - accuracy: 0.8696 - val_loss: 0.3716 - val_accuracy: 0.8482\n",
      "Epoch 40/1000\n",
      "536/536 [==============================] - 0s 845us/step - loss: 0.3076 - accuracy: 0.8712 - val_loss: 0.3737 - val_accuracy: 0.8508\n",
      "Epoch 41/1000\n",
      "536/536 [==============================] - 0s 915us/step - loss: 0.3074 - accuracy: 0.8729 - val_loss: 0.3700 - val_accuracy: 0.8485\n",
      "Epoch 42/1000\n",
      "536/536 [==============================] - 0s 839us/step - loss: 0.3080 - accuracy: 0.8707 - val_loss: 0.3718 - val_accuracy: 0.8516\n",
      "Epoch 43/1000\n",
      "536/536 [==============================] - 1s 1ms/step - loss: 0.3074 - accuracy: 0.8733 - val_loss: 0.3709 - val_accuracy: 0.8546\n",
      "Epoch 44/1000\n",
      "536/536 [==============================] - 1s 1ms/step - loss: 0.3077 - accuracy: 0.8716 - val_loss: 0.3727 - val_accuracy: 0.8451\n",
      "Epoch 45/1000\n",
      "536/536 [==============================] - 0s 859us/step - loss: 0.3074 - accuracy: 0.8705 - val_loss: 0.3707 - val_accuracy: 0.8493\n",
      "Epoch 46/1000\n",
      "536/536 [==============================] - 0s 860us/step - loss: 0.3066 - accuracy: 0.8726 - val_loss: 0.3711 - val_accuracy: 0.8504\n",
      "Epoch 47/1000\n",
      "536/536 [==============================] - 0s 849us/step - loss: 0.3069 - accuracy: 0.8737 - val_loss: 0.3708 - val_accuracy: 0.8504\n",
      "Epoch 48/1000\n",
      "536/536 [==============================] - 0s 868us/step - loss: 0.3076 - accuracy: 0.8724 - val_loss: 0.3712 - val_accuracy: 0.8444\n",
      "Epoch 49/1000\n",
      "536/536 [==============================] - 0s 922us/step - loss: 0.3075 - accuracy: 0.8720 - val_loss: 0.3745 - val_accuracy: 0.8470\n",
      "Epoch 50/1000\n",
      "536/536 [==============================] - 0s 840us/step - loss: 0.3070 - accuracy: 0.8726 - val_loss: 0.3708 - val_accuracy: 0.8485\n",
      "Epoch 51/1000\n",
      "536/536 [==============================] - 0s 929us/step - loss: 0.3072 - accuracy: 0.8729 - val_loss: 0.3717 - val_accuracy: 0.8463\n",
      "Epoch 52/1000\n",
      "536/536 [==============================] - 1s 933us/step - loss: 0.3067 - accuracy: 0.8727 - val_loss: 0.3732 - val_accuracy: 0.8466\n",
      "Epoch 53/1000\n",
      "536/536 [==============================] - 0s 845us/step - loss: 0.3069 - accuracy: 0.8740 - val_loss: 0.3753 - val_accuracy: 0.8429\n",
      "Epoch 54/1000\n",
      "536/536 [==============================] - 0s 892us/step - loss: 0.3077 - accuracy: 0.8711 - val_loss: 0.3710 - val_accuracy: 0.8508\n",
      "Epoch 55/1000\n",
      "536/536 [==============================] - 0s 853us/step - loss: 0.3065 - accuracy: 0.8703 - val_loss: 0.3714 - val_accuracy: 0.8470\n",
      "Epoch 56/1000\n",
      "536/536 [==============================] - 1s 945us/step - loss: 0.3067 - accuracy: 0.8722 - val_loss: 0.3712 - val_accuracy: 0.8478\n",
      "Epoch 57/1000\n",
      "536/536 [==============================] - 0s 838us/step - loss: 0.3065 - accuracy: 0.8737 - val_loss: 0.3714 - val_accuracy: 0.8459\n",
      "Epoch 58/1000\n",
      "536/536 [==============================] - 0s 845us/step - loss: 0.3063 - accuracy: 0.8740 - val_loss: 0.3723 - val_accuracy: 0.8466\n",
      "Epoch 59/1000\n",
      "536/536 [==============================] - 0s 875us/step - loss: 0.3065 - accuracy: 0.8727 - val_loss: 0.3739 - val_accuracy: 0.8466\n",
      "Epoch 60/1000\n",
      "536/536 [==============================] - 1s 942us/step - loss: 0.3064 - accuracy: 0.8733 - val_loss: 0.3725 - val_accuracy: 0.8448\n",
      "Epoch 61/1000\n",
      "536/536 [==============================] - 0s 839us/step - loss: 0.3060 - accuracy: 0.8739 - val_loss: 0.3736 - val_accuracy: 0.8474\n",
      "Epoch 62/1000\n",
      "536/536 [==============================] - 0s 868us/step - loss: 0.3062 - accuracy: 0.8746 - val_loss: 0.3670 - val_accuracy: 0.8497\n",
      "Epoch 63/1000\n",
      "536/536 [==============================] - 0s 856us/step - loss: 0.3062 - accuracy: 0.8729 - val_loss: 0.3696 - val_accuracy: 0.8470\n",
      "Epoch 64/1000\n",
      "536/536 [==============================] - 0s 923us/step - loss: 0.3071 - accuracy: 0.8724 - val_loss: 0.3716 - val_accuracy: 0.8485\n",
      "Epoch 65/1000\n",
      "536/536 [==============================] - 0s 835us/step - loss: 0.3062 - accuracy: 0.8748 - val_loss: 0.3747 - val_accuracy: 0.8448\n",
      "Epoch 66/1000\n",
      "536/536 [==============================] - 0s 840us/step - loss: 0.3060 - accuracy: 0.8722 - val_loss: 0.3718 - val_accuracy: 0.8466\n",
      "Epoch 67/1000\n",
      "536/536 [==============================] - 0s 841us/step - loss: 0.3068 - accuracy: 0.8740 - val_loss: 0.3708 - val_accuracy: 0.8501\n",
      "Epoch 68/1000\n",
      "536/536 [==============================] - 0s 927us/step - loss: 0.3065 - accuracy: 0.8727 - val_loss: 0.3768 - val_accuracy: 0.8448\n",
      "Epoch 69/1000\n",
      "536/536 [==============================] - 0s 865us/step - loss: 0.3073 - accuracy: 0.8718 - val_loss: 0.3715 - val_accuracy: 0.8470\n",
      "Epoch 70/1000\n",
      "536/536 [==============================] - 0s 839us/step - loss: 0.3055 - accuracy: 0.8740 - val_loss: 0.3743 - val_accuracy: 0.8463\n",
      "Epoch 71/1000\n",
      "536/536 [==============================] - 0s 839us/step - loss: 0.3050 - accuracy: 0.8729 - val_loss: 0.3736 - val_accuracy: 0.8489\n",
      "Epoch 72/1000\n",
      "536/536 [==============================] - 0s 897us/step - loss: 0.3068 - accuracy: 0.8739 - val_loss: 0.3742 - val_accuracy: 0.8478\n",
      "Epoch 73/1000\n",
      "536/536 [==============================] - 0s 858us/step - loss: 0.3055 - accuracy: 0.8733 - val_loss: 0.3749 - val_accuracy: 0.8504\n",
      "Epoch 74/1000\n",
      "536/536 [==============================] - 0s 853us/step - loss: 0.3059 - accuracy: 0.8726 - val_loss: 0.3764 - val_accuracy: 0.8455\n",
      "Epoch 75/1000\n",
      "536/536 [==============================] - 0s 834us/step - loss: 0.3059 - accuracy: 0.8740 - val_loss: 0.3758 - val_accuracy: 0.8474\n",
      "Epoch 76/1000\n",
      "536/536 [==============================] - 0s 912us/step - loss: 0.3055 - accuracy: 0.8731 - val_loss: 0.3787 - val_accuracy: 0.8463\n",
      "Epoch 77/1000\n",
      "536/536 [==============================] - 0s 856us/step - loss: 0.3066 - accuracy: 0.8729 - val_loss: 0.3750 - val_accuracy: 0.8485\n",
      "Epoch 78/1000\n",
      "536/536 [==============================] - 0s 842us/step - loss: 0.3061 - accuracy: 0.8722 - val_loss: 0.3750 - val_accuracy: 0.8478\n",
      "Epoch 79/1000\n",
      "536/536 [==============================] - 0s 833us/step - loss: 0.3054 - accuracy: 0.8726 - val_loss: 0.3731 - val_accuracy: 0.8474\n",
      "Epoch 80/1000\n",
      "536/536 [==============================] - 1s 943us/step - loss: 0.3057 - accuracy: 0.8726 - val_loss: 0.3747 - val_accuracy: 0.8497\n",
      "Epoch 81/1000\n",
      "536/536 [==============================] - 0s 868us/step - loss: 0.3058 - accuracy: 0.8707 - val_loss: 0.3751 - val_accuracy: 0.8485\n",
      "Epoch 82/1000\n",
      "536/536 [==============================] - 0s 839us/step - loss: 0.3059 - accuracy: 0.8737 - val_loss: 0.3756 - val_accuracy: 0.8444\n",
      "Epoch 83/1000\n",
      "536/536 [==============================] - 0s 839us/step - loss: 0.3055 - accuracy: 0.8753 - val_loss: 0.3778 - val_accuracy: 0.8451\n",
      "Epoch 84/1000\n",
      "536/536 [==============================] - 0s 901us/step - loss: 0.3055 - accuracy: 0.8726 - val_loss: 0.3762 - val_accuracy: 0.8444\n",
      "Epoch 85/1000\n",
      "536/536 [==============================] - 0s 858us/step - loss: 0.3044 - accuracy: 0.8727 - val_loss: 0.3752 - val_accuracy: 0.8489\n",
      "Epoch 86/1000\n",
      "536/536 [==============================] - 0s 835us/step - loss: 0.3050 - accuracy: 0.8742 - val_loss: 0.3798 - val_accuracy: 0.8425\n",
      "Epoch 87/1000\n",
      "536/536 [==============================] - 0s 837us/step - loss: 0.3051 - accuracy: 0.8752 - val_loss: 0.3768 - val_accuracy: 0.8459\n",
      "Epoch 88/1000\n",
      "536/536 [==============================] - 0s 927us/step - loss: 0.3049 - accuracy: 0.8729 - val_loss: 0.3765 - val_accuracy: 0.8497\n",
      "Epoch 89/1000\n",
      "536/536 [==============================] - 0s 860us/step - loss: 0.3053 - accuracy: 0.8709 - val_loss: 0.3755 - val_accuracy: 0.8493\n",
      "Epoch 90/1000\n",
      "536/536 [==============================] - 0s 837us/step - loss: 0.3052 - accuracy: 0.8737 - val_loss: 0.3738 - val_accuracy: 0.8497\n",
      "Epoch 91/1000\n",
      "536/536 [==============================] - 0s 932us/step - loss: 0.3047 - accuracy: 0.8731 - val_loss: 0.3771 - val_accuracy: 0.8436\n",
      "Epoch 92/1000\n",
      "536/536 [==============================] - 0s 930us/step - loss: 0.3046 - accuracy: 0.8724 - val_loss: 0.3747 - val_accuracy: 0.8485\n",
      "Epoch 93/1000\n",
      "536/536 [==============================] - 0s 837us/step - loss: 0.3054 - accuracy: 0.8701 - val_loss: 0.3735 - val_accuracy: 0.8493\n",
      "Epoch 94/1000\n",
      "536/536 [==============================] - 0s 837us/step - loss: 0.3050 - accuracy: 0.8735 - val_loss: 0.3714 - val_accuracy: 0.8523\n",
      "Epoch 95/1000\n",
      "536/536 [==============================] - 0s 836us/step - loss: 0.3052 - accuracy: 0.8722 - val_loss: 0.3742 - val_accuracy: 0.8512\n",
      "Epoch 96/1000\n",
      "536/536 [==============================] - 0s 931us/step - loss: 0.3043 - accuracy: 0.8726 - val_loss: 0.3826 - val_accuracy: 0.8463\n",
      "Epoch 97/1000\n",
      "536/536 [==============================] - 0s 834us/step - loss: 0.3043 - accuracy: 0.8714 - val_loss: 0.3776 - val_accuracy: 0.8482\n",
      "Epoch 98/1000\n",
      "536/536 [==============================] - 0s 835us/step - loss: 0.3039 - accuracy: 0.8709 - val_loss: 0.3782 - val_accuracy: 0.8485\n",
      "Epoch 99/1000\n",
      "536/536 [==============================] - 0s 852us/step - loss: 0.3046 - accuracy: 0.8727 - val_loss: 0.3799 - val_accuracy: 0.8451\n",
      "Epoch 100/1000\n",
      "536/536 [==============================] - 0s 910us/step - loss: 0.3043 - accuracy: 0.8737 - val_loss: 0.3803 - val_accuracy: 0.8493\n",
      "Epoch 101/1000\n",
      "536/536 [==============================] - 0s 836us/step - loss: 0.3055 - accuracy: 0.8744 - val_loss: 0.3752 - val_accuracy: 0.8508\n",
      "Epoch 102/1000\n",
      "536/536 [==============================] - 0s 837us/step - loss: 0.3046 - accuracy: 0.8703 - val_loss: 0.3740 - val_accuracy: 0.8504\n",
      "Epoch 103/1000\n",
      "536/536 [==============================] - 0s 856us/step - loss: 0.3045 - accuracy: 0.8726 - val_loss: 0.3786 - val_accuracy: 0.8466\n",
      "Epoch 104/1000\n",
      "536/536 [==============================] - 0s 910us/step - loss: 0.3035 - accuracy: 0.8733 - val_loss: 0.3769 - val_accuracy: 0.8482\n",
      "Epoch 105/1000\n",
      "536/536 [==============================] - 1s 2ms/step - loss: 0.3054 - accuracy: 0.8714 - val_loss: 0.3774 - val_accuracy: 0.8470\n",
      "Epoch 106/1000\n",
      "536/536 [==============================] - 0s 852us/step - loss: 0.3047 - accuracy: 0.8740 - val_loss: 0.3744 - val_accuracy: 0.8474\n",
      "Epoch 107/1000\n",
      "536/536 [==============================] - 0s 919us/step - loss: 0.3044 - accuracy: 0.8718 - val_loss: 0.3745 - val_accuracy: 0.8459\n",
      "Epoch 108/1000\n",
      "536/536 [==============================] - 0s 858us/step - loss: 0.3040 - accuracy: 0.8739 - val_loss: 0.3752 - val_accuracy: 0.8531\n",
      "Epoch 109/1000\n",
      "536/536 [==============================] - 0s 844us/step - loss: 0.3039 - accuracy: 0.8744 - val_loss: 0.3735 - val_accuracy: 0.8516\n",
      "Epoch 110/1000\n",
      "536/536 [==============================] - 0s 923us/step - loss: 0.3050 - accuracy: 0.8726 - val_loss: 0.3726 - val_accuracy: 0.8512\n",
      "Epoch 111/1000\n",
      "536/536 [==============================] - 0s 863us/step - loss: 0.3038 - accuracy: 0.8742 - val_loss: 0.3781 - val_accuracy: 0.8463\n",
      "Epoch 112/1000\n",
      "536/536 [==============================] - 0s 838us/step - loss: 0.3048 - accuracy: 0.8733 - val_loss: 0.3771 - val_accuracy: 0.8504\n",
      "Epoch 113/1000\n",
      "536/536 [==============================] - 0s 842us/step - loss: 0.3042 - accuracy: 0.8750 - val_loss: 0.3825 - val_accuracy: 0.8451\n",
      "Epoch 114/1000\n",
      "536/536 [==============================] - 1s 938us/step - loss: 0.3052 - accuracy: 0.8740 - val_loss: 0.3760 - val_accuracy: 0.8463\n",
      "Epoch 115/1000\n",
      "536/536 [==============================] - 0s 841us/step - loss: 0.3050 - accuracy: 0.8724 - val_loss: 0.3742 - val_accuracy: 0.8501\n",
      "Epoch 116/1000\n",
      "536/536 [==============================] - 0s 839us/step - loss: 0.3031 - accuracy: 0.8739 - val_loss: 0.3816 - val_accuracy: 0.8463\n",
      "Epoch 117/1000\n",
      "536/536 [==============================] - 1s 1ms/step - loss: 0.3044 - accuracy: 0.8729 - val_loss: 0.3775 - val_accuracy: 0.8470\n",
      "Epoch 118/1000\n",
      "536/536 [==============================] - 1s 1ms/step - loss: 0.3054 - accuracy: 0.8733 - val_loss: 0.3720 - val_accuracy: 0.8485\n",
      "Epoch 119/1000\n",
      "536/536 [==============================] - 0s 863us/step - loss: 0.3043 - accuracy: 0.8727 - val_loss: 0.3741 - val_accuracy: 0.8478\n",
      "Epoch 120/1000\n",
      "536/536 [==============================] - 0s 822us/step - loss: 0.3037 - accuracy: 0.8744 - val_loss: 0.3751 - val_accuracy: 0.8470\n",
      "Epoch 121/1000\n",
      "536/536 [==============================] - 0s 900us/step - loss: 0.3035 - accuracy: 0.8716 - val_loss: 0.3767 - val_accuracy: 0.8493\n",
      "Epoch 122/1000\n",
      "536/536 [==============================] - 0s 836us/step - loss: 0.3039 - accuracy: 0.8735 - val_loss: 0.3806 - val_accuracy: 0.8470\n",
      "Epoch 123/1000\n",
      "536/536 [==============================] - 0s 859us/step - loss: 0.3035 - accuracy: 0.8716 - val_loss: 0.3783 - val_accuracy: 0.8474\n",
      "Epoch 124/1000\n",
      "536/536 [==============================] - 0s 872us/step - loss: 0.3050 - accuracy: 0.8718 - val_loss: 0.3733 - val_accuracy: 0.8508\n",
      "Epoch 125/1000\n",
      "536/536 [==============================] - 0s 892us/step - loss: 0.3040 - accuracy: 0.8759 - val_loss: 0.3773 - val_accuracy: 0.8474\n",
      "Epoch 126/1000\n",
      "536/536 [==============================] - 1s 975us/step - loss: 0.3038 - accuracy: 0.8729 - val_loss: 0.3753 - val_accuracy: 0.8493\n",
      "Epoch 127/1000\n",
      "536/536 [==============================] - 0s 879us/step - loss: 0.3035 - accuracy: 0.8711 - val_loss: 0.3739 - val_accuracy: 0.8485\n",
      "Epoch 128/1000\n",
      "536/536 [==============================] - 1s 934us/step - loss: 0.3037 - accuracy: 0.8759 - val_loss: 0.3810 - val_accuracy: 0.8478\n",
      "Epoch 129/1000\n",
      "536/536 [==============================] - 1s 2ms/step - loss: 0.3037 - accuracy: 0.8742 - val_loss: 0.3777 - val_accuracy: 0.8459\n",
      "Epoch 130/1000\n",
      "536/536 [==============================] - 1s 934us/step - loss: 0.3032 - accuracy: 0.8748 - val_loss: 0.3727 - val_accuracy: 0.8512\n",
      "Epoch 131/1000\n",
      "536/536 [==============================] - 0s 874us/step - loss: 0.3035 - accuracy: 0.8737 - val_loss: 0.3762 - val_accuracy: 0.8463\n",
      "Epoch 132/1000\n",
      "536/536 [==============================] - 1s 977us/step - loss: 0.3033 - accuracy: 0.8714 - val_loss: 0.3773 - val_accuracy: 0.8474\n",
      "Epoch 133/1000\n",
      "536/536 [==============================] - 0s 858us/step - loss: 0.3028 - accuracy: 0.8740 - val_loss: 0.3778 - val_accuracy: 0.8482\n",
      "Epoch 134/1000\n",
      "536/536 [==============================] - 0s 906us/step - loss: 0.3035 - accuracy: 0.8724 - val_loss: 0.3746 - val_accuracy: 0.8512\n",
      "Epoch 135/1000\n",
      "536/536 [==============================] - 1s 2ms/step - loss: 0.3035 - accuracy: 0.8750 - val_loss: 0.3768 - val_accuracy: 0.8474\n",
      "Epoch 136/1000\n",
      "536/536 [==============================] - 1s 1ms/step - loss: 0.3037 - accuracy: 0.8744 - val_loss: 0.3766 - val_accuracy: 0.8493\n",
      "Epoch 137/1000\n",
      "536/536 [==============================] - 0s 908us/step - loss: 0.3037 - accuracy: 0.8724 - val_loss: 0.3752 - val_accuracy: 0.8508\n",
      "Epoch 138/1000\n",
      "536/536 [==============================] - 1s 995us/step - loss: 0.3023 - accuracy: 0.8757 - val_loss: 0.3754 - val_accuracy: 0.8523\n",
      "Epoch 139/1000\n",
      "536/536 [==============================] - 0s 853us/step - loss: 0.3028 - accuracy: 0.8720 - val_loss: 0.3822 - val_accuracy: 0.8482\n",
      "Epoch 140/1000\n",
      "536/536 [==============================] - 0s 873us/step - loss: 0.3025 - accuracy: 0.8752 - val_loss: 0.3720 - val_accuracy: 0.8535\n",
      "Epoch 141/1000\n",
      "536/536 [==============================] - 0s 893us/step - loss: 0.3028 - accuracy: 0.8727 - val_loss: 0.3757 - val_accuracy: 0.8489\n",
      "Epoch 142/1000\n",
      "536/536 [==============================] - 1s 1ms/step - loss: 0.3022 - accuracy: 0.8767 - val_loss: 0.3770 - val_accuracy: 0.8485\n",
      "Epoch 143/1000\n",
      "536/536 [==============================] - 0s 923us/step - loss: 0.3031 - accuracy: 0.8735 - val_loss: 0.3756 - val_accuracy: 0.8519\n",
      "Epoch 144/1000\n",
      "536/536 [==============================] - 0s 848us/step - loss: 0.3026 - accuracy: 0.8750 - val_loss: 0.3771 - val_accuracy: 0.8527\n",
      "Epoch 145/1000\n",
      "536/536 [==============================] - 0s 825us/step - loss: 0.3026 - accuracy: 0.8746 - val_loss: 0.3780 - val_accuracy: 0.8474\n",
      "Epoch 146/1000\n",
      "536/536 [==============================] - 0s 931us/step - loss: 0.3027 - accuracy: 0.8735 - val_loss: 0.3826 - val_accuracy: 0.8482\n",
      "Epoch 147/1000\n",
      "536/536 [==============================] - 0s 845us/step - loss: 0.3020 - accuracy: 0.8757 - val_loss: 0.3790 - val_accuracy: 0.8485\n",
      "Epoch 148/1000\n",
      "536/536 [==============================] - 0s 831us/step - loss: 0.3020 - accuracy: 0.8752 - val_loss: 0.3799 - val_accuracy: 0.8478\n",
      "Epoch 149/1000\n",
      "536/536 [==============================] - 0s 893us/step - loss: 0.3028 - accuracy: 0.8735 - val_loss: 0.3769 - val_accuracy: 0.8493\n",
      "Epoch 150/1000\n",
      "536/536 [==============================] - 0s 839us/step - loss: 0.3026 - accuracy: 0.8731 - val_loss: 0.3787 - val_accuracy: 0.8466\n",
      "Epoch 151/1000\n",
      "536/536 [==============================] - 1s 958us/step - loss: 0.3020 - accuracy: 0.8724 - val_loss: 0.3765 - val_accuracy: 0.8501\n",
      "Epoch 152/1000\n",
      "536/536 [==============================] - 1s 959us/step - loss: 0.3012 - accuracy: 0.8742 - val_loss: 0.3842 - val_accuracy: 0.8455\n",
      "Epoch 153/1000\n",
      "536/536 [==============================] - 1s 1ms/step - loss: 0.3031 - accuracy: 0.8737 - val_loss: 0.3764 - val_accuracy: 0.8508\n",
      "Epoch 154/1000\n",
      "536/536 [==============================] - 1s 981us/step - loss: 0.3026 - accuracy: 0.8761 - val_loss: 0.3757 - val_accuracy: 0.8531\n",
      "Epoch 155/1000\n",
      "258/536 [=============>................] - ETA: 0s - loss: 0.3051 - accuracy: 0.8725"
     ]
    },
    {
     "ename": "KeyboardInterrupt",
     "evalue": "",
     "output_type": "error",
     "traceback": [
      "\u001b[0;31m---------------------------------------------------------------------------\u001b[0m",
      "\u001b[0;31mKeyboardInterrupt\u001b[0m                         Traceback (most recent call last)",
      "\u001b[1;32m/Users/prajwal/Developer/Prep/Deep_Learning/Churn_Modelling/1.ipynb Cell 25\u001b[0m line \u001b[0;36m1\n\u001b[0;32m----> <a href='vscode-notebook-cell:/Users/prajwal/Developer/Prep/Deep_Learning/Churn_Modelling/1.ipynb#X35sZmlsZQ%3D%3D?line=0'>1</a>\u001b[0m model_history \u001b[39m=\u001b[39m classifier\u001b[39m.\u001b[39;49mfit(X_train, y_train, validation_split\u001b[39m=\u001b[39;49m\u001b[39m0.33\u001b[39;49m, batch_size \u001b[39m=\u001b[39;49m \u001b[39m10\u001b[39;49m, epochs \u001b[39m=\u001b[39;49m \u001b[39m1000\u001b[39;49m)\n",
      "File \u001b[0;32m~/.conda/envs/Python/lib/python3.8/site-packages/keras/src/utils/traceback_utils.py:65\u001b[0m, in \u001b[0;36mfilter_traceback.<locals>.error_handler\u001b[0;34m(*args, **kwargs)\u001b[0m\n\u001b[1;32m     63\u001b[0m filtered_tb \u001b[39m=\u001b[39m \u001b[39mNone\u001b[39;00m\n\u001b[1;32m     64\u001b[0m \u001b[39mtry\u001b[39;00m:\n\u001b[0;32m---> 65\u001b[0m     \u001b[39mreturn\u001b[39;00m fn(\u001b[39m*\u001b[39;49margs, \u001b[39m*\u001b[39;49m\u001b[39m*\u001b[39;49mkwargs)\n\u001b[1;32m     66\u001b[0m \u001b[39mexcept\u001b[39;00m \u001b[39mException\u001b[39;00m \u001b[39mas\u001b[39;00m e:\n\u001b[1;32m     67\u001b[0m     filtered_tb \u001b[39m=\u001b[39m _process_traceback_frames(e\u001b[39m.\u001b[39m__traceback__)\n",
      "File \u001b[0;32m~/.conda/envs/Python/lib/python3.8/site-packages/keras/src/engine/training.py:1742\u001b[0m, in \u001b[0;36mModel.fit\u001b[0;34m(self, x, y, batch_size, epochs, verbose, callbacks, validation_split, validation_data, shuffle, class_weight, sample_weight, initial_epoch, steps_per_epoch, validation_steps, validation_batch_size, validation_freq, max_queue_size, workers, use_multiprocessing)\u001b[0m\n\u001b[1;32m   1734\u001b[0m \u001b[39mwith\u001b[39;00m tf\u001b[39m.\u001b[39mprofiler\u001b[39m.\u001b[39mexperimental\u001b[39m.\u001b[39mTrace(\n\u001b[1;32m   1735\u001b[0m     \u001b[39m\"\u001b[39m\u001b[39mtrain\u001b[39m\u001b[39m\"\u001b[39m,\n\u001b[1;32m   1736\u001b[0m     epoch_num\u001b[39m=\u001b[39mepoch,\n\u001b[0;32m   (...)\u001b[0m\n\u001b[1;32m   1739\u001b[0m     _r\u001b[39m=\u001b[39m\u001b[39m1\u001b[39m,\n\u001b[1;32m   1740\u001b[0m ):\n\u001b[1;32m   1741\u001b[0m     callbacks\u001b[39m.\u001b[39mon_train_batch_begin(step)\n\u001b[0;32m-> 1742\u001b[0m     tmp_logs \u001b[39m=\u001b[39m \u001b[39mself\u001b[39;49m\u001b[39m.\u001b[39;49mtrain_function(iterator)\n\u001b[1;32m   1743\u001b[0m     \u001b[39mif\u001b[39;00m data_handler\u001b[39m.\u001b[39mshould_sync:\n\u001b[1;32m   1744\u001b[0m         context\u001b[39m.\u001b[39masync_wait()\n",
      "File \u001b[0;32m~/.conda/envs/Python/lib/python3.8/site-packages/tensorflow/python/util/traceback_utils.py:150\u001b[0m, in \u001b[0;36mfilter_traceback.<locals>.error_handler\u001b[0;34m(*args, **kwargs)\u001b[0m\n\u001b[1;32m    148\u001b[0m filtered_tb \u001b[39m=\u001b[39m \u001b[39mNone\u001b[39;00m\n\u001b[1;32m    149\u001b[0m \u001b[39mtry\u001b[39;00m:\n\u001b[0;32m--> 150\u001b[0m   \u001b[39mreturn\u001b[39;00m fn(\u001b[39m*\u001b[39;49margs, \u001b[39m*\u001b[39;49m\u001b[39m*\u001b[39;49mkwargs)\n\u001b[1;32m    151\u001b[0m \u001b[39mexcept\u001b[39;00m \u001b[39mException\u001b[39;00m \u001b[39mas\u001b[39;00m e:\n\u001b[1;32m    152\u001b[0m   filtered_tb \u001b[39m=\u001b[39m _process_traceback_frames(e\u001b[39m.\u001b[39m__traceback__)\n",
      "File \u001b[0;32m~/.conda/envs/Python/lib/python3.8/site-packages/tensorflow/python/eager/polymorphic_function/polymorphic_function.py:825\u001b[0m, in \u001b[0;36mFunction.__call__\u001b[0;34m(self, *args, **kwds)\u001b[0m\n\u001b[1;32m    822\u001b[0m compiler \u001b[39m=\u001b[39m \u001b[39m\"\u001b[39m\u001b[39mxla\u001b[39m\u001b[39m\"\u001b[39m \u001b[39mif\u001b[39;00m \u001b[39mself\u001b[39m\u001b[39m.\u001b[39m_jit_compile \u001b[39melse\u001b[39;00m \u001b[39m\"\u001b[39m\u001b[39mnonXla\u001b[39m\u001b[39m\"\u001b[39m\n\u001b[1;32m    824\u001b[0m \u001b[39mwith\u001b[39;00m OptionalXlaContext(\u001b[39mself\u001b[39m\u001b[39m.\u001b[39m_jit_compile):\n\u001b[0;32m--> 825\u001b[0m   result \u001b[39m=\u001b[39m \u001b[39mself\u001b[39;49m\u001b[39m.\u001b[39;49m_call(\u001b[39m*\u001b[39;49margs, \u001b[39m*\u001b[39;49m\u001b[39m*\u001b[39;49mkwds)\n\u001b[1;32m    827\u001b[0m new_tracing_count \u001b[39m=\u001b[39m \u001b[39mself\u001b[39m\u001b[39m.\u001b[39mexperimental_get_tracing_count()\n\u001b[1;32m    828\u001b[0m without_tracing \u001b[39m=\u001b[39m (tracing_count \u001b[39m==\u001b[39m new_tracing_count)\n",
      "File \u001b[0;32m~/.conda/envs/Python/lib/python3.8/site-packages/tensorflow/python/eager/polymorphic_function/polymorphic_function.py:857\u001b[0m, in \u001b[0;36mFunction._call\u001b[0;34m(self, *args, **kwds)\u001b[0m\n\u001b[1;32m    854\u001b[0m   \u001b[39mself\u001b[39m\u001b[39m.\u001b[39m_lock\u001b[39m.\u001b[39mrelease()\n\u001b[1;32m    855\u001b[0m   \u001b[39m# In this case we have created variables on the first call, so we run the\u001b[39;00m\n\u001b[1;32m    856\u001b[0m   \u001b[39m# defunned version which is guaranteed to never create variables.\u001b[39;00m\n\u001b[0;32m--> 857\u001b[0m   \u001b[39mreturn\u001b[39;00m \u001b[39mself\u001b[39;49m\u001b[39m.\u001b[39;49m_no_variable_creation_fn(\u001b[39m*\u001b[39;49margs, \u001b[39m*\u001b[39;49m\u001b[39m*\u001b[39;49mkwds)  \u001b[39m# pylint: disable=not-callable\u001b[39;00m\n\u001b[1;32m    858\u001b[0m \u001b[39melif\u001b[39;00m \u001b[39mself\u001b[39m\u001b[39m.\u001b[39m_variable_creation_fn \u001b[39mis\u001b[39;00m \u001b[39mnot\u001b[39;00m \u001b[39mNone\u001b[39;00m:\n\u001b[1;32m    859\u001b[0m   \u001b[39m# Release the lock early so that multiple threads can perform the call\u001b[39;00m\n\u001b[1;32m    860\u001b[0m   \u001b[39m# in parallel.\u001b[39;00m\n\u001b[1;32m    861\u001b[0m   \u001b[39mself\u001b[39m\u001b[39m.\u001b[39m_lock\u001b[39m.\u001b[39mrelease()\n",
      "File \u001b[0;32m~/.conda/envs/Python/lib/python3.8/site-packages/tensorflow/python/eager/polymorphic_function/tracing_compiler.py:148\u001b[0m, in \u001b[0;36mTracingCompiler.__call__\u001b[0;34m(self, *args, **kwargs)\u001b[0m\n\u001b[1;32m    145\u001b[0m \u001b[39mwith\u001b[39;00m \u001b[39mself\u001b[39m\u001b[39m.\u001b[39m_lock:\n\u001b[1;32m    146\u001b[0m   (concrete_function,\n\u001b[1;32m    147\u001b[0m    filtered_flat_args) \u001b[39m=\u001b[39m \u001b[39mself\u001b[39m\u001b[39m.\u001b[39m_maybe_define_function(args, kwargs)\n\u001b[0;32m--> 148\u001b[0m \u001b[39mreturn\u001b[39;00m concrete_function\u001b[39m.\u001b[39;49m_call_flat(\n\u001b[1;32m    149\u001b[0m     filtered_flat_args, captured_inputs\u001b[39m=\u001b[39;49mconcrete_function\u001b[39m.\u001b[39;49mcaptured_inputs)\n",
      "File \u001b[0;32m~/.conda/envs/Python/lib/python3.8/site-packages/tensorflow/python/eager/polymorphic_function/monomorphic_function.py:1349\u001b[0m, in \u001b[0;36mConcreteFunction._call_flat\u001b[0;34m(self, args, captured_inputs)\u001b[0m\n\u001b[1;32m   1345\u001b[0m possible_gradient_type \u001b[39m=\u001b[39m gradients_util\u001b[39m.\u001b[39mPossibleTapeGradientTypes(args)\n\u001b[1;32m   1346\u001b[0m \u001b[39mif\u001b[39;00m (possible_gradient_type \u001b[39m==\u001b[39m gradients_util\u001b[39m.\u001b[39mPOSSIBLE_GRADIENT_TYPES_NONE\n\u001b[1;32m   1347\u001b[0m     \u001b[39mand\u001b[39;00m executing_eagerly):\n\u001b[1;32m   1348\u001b[0m   \u001b[39m# No tape is watching; skip to running the function.\u001b[39;00m\n\u001b[0;32m-> 1349\u001b[0m   \u001b[39mreturn\u001b[39;00m \u001b[39mself\u001b[39m\u001b[39m.\u001b[39m_build_call_outputs(\u001b[39mself\u001b[39;49m\u001b[39m.\u001b[39;49m_inference_function(\u001b[39m*\u001b[39;49margs))\n\u001b[1;32m   1350\u001b[0m forward_backward \u001b[39m=\u001b[39m \u001b[39mself\u001b[39m\u001b[39m.\u001b[39m_select_forward_and_backward_functions(\n\u001b[1;32m   1351\u001b[0m     args,\n\u001b[1;32m   1352\u001b[0m     possible_gradient_type,\n\u001b[1;32m   1353\u001b[0m     executing_eagerly)\n\u001b[1;32m   1354\u001b[0m forward_function, args_with_tangents \u001b[39m=\u001b[39m forward_backward\u001b[39m.\u001b[39mforward()\n",
      "File \u001b[0;32m~/.conda/envs/Python/lib/python3.8/site-packages/tensorflow/python/eager/polymorphic_function/atomic_function.py:202\u001b[0m, in \u001b[0;36mAtomicFunction.__call__\u001b[0;34m(self, *args)\u001b[0m\n\u001b[1;32m    196\u001b[0m         outputs \u001b[39m=\u001b[39m \u001b[39mself\u001b[39m\u001b[39m.\u001b[39m_bound_context\u001b[39m.\u001b[39mcall_function(\n\u001b[1;32m    197\u001b[0m             \u001b[39mself\u001b[39m\u001b[39m.\u001b[39mname,\n\u001b[1;32m    198\u001b[0m             \u001b[39mlist\u001b[39m(args),\n\u001b[1;32m    199\u001b[0m             \u001b[39mlen\u001b[39m(\u001b[39mself\u001b[39m\u001b[39m.\u001b[39mfunction_type\u001b[39m.\u001b[39mflat_outputs),\n\u001b[1;32m    200\u001b[0m         )\n\u001b[1;32m    201\u001b[0m       \u001b[39melse\u001b[39;00m:\n\u001b[0;32m--> 202\u001b[0m         outputs \u001b[39m=\u001b[39m make_call_op_in_graph(\u001b[39mself\u001b[39m, \u001b[39mlist\u001b[39m(args))\n\u001b[1;32m    204\u001b[0m \u001b[39mfor\u001b[39;00m i, output_type \u001b[39min\u001b[39;00m \u001b[39menumerate\u001b[39m(\u001b[39mself\u001b[39m\u001b[39m.\u001b[39mfunction_type\u001b[39m.\u001b[39mflat_outputs):\n\u001b[1;32m    205\u001b[0m   handle_data \u001b[39m=\u001b[39m output_type\u001b[39m.\u001b[39mdtype\u001b[39m.\u001b[39m_handle_data\n",
      "File \u001b[0;32m~/.conda/envs/Python/lib/python3.8/contextlib.py:118\u001b[0m, in \u001b[0;36m_GeneratorContextManager.__exit__\u001b[0;34m(self, type, value, traceback)\u001b[0m\n\u001b[1;32m    117\u001b[0m \u001b[39mdef\u001b[39;00m \u001b[39m__exit__\u001b[39m(\u001b[39mself\u001b[39m, \u001b[39mtype\u001b[39m, value, traceback):\n\u001b[0;32m--> 118\u001b[0m     \u001b[39mif\u001b[39;00m \u001b[39mtype\u001b[39;49m \u001b[39mis\u001b[39;49;00m \u001b[39mNone\u001b[39;49;00m:\n\u001b[1;32m    119\u001b[0m         \u001b[39mtry\u001b[39;00m:\n\u001b[1;32m    120\u001b[0m             \u001b[39mnext\u001b[39m(\u001b[39mself\u001b[39m\u001b[39m.\u001b[39mgen)\n",
      "\u001b[0;31mKeyboardInterrupt\u001b[0m: "
     ]
    }
   ],
   "source": [
    "model_history = classifier.fit(X_train, y_train, validation_split=0.33, batch_size = 10, epochs = 1000)"
   ]
  },
  {
   "cell_type": "code",
   "execution_count": 30,
   "metadata": {},
   "outputs": [
    {
     "data": {
      "text/plain": [
       "dict_keys(['loss', 'accuracy', 'val_loss', 'val_accuracy'])"
      ]
     },
     "execution_count": 30,
     "metadata": {},
     "output_type": "execute_result"
    }
   ],
   "source": [
    "model_history.history.keys()"
   ]
  },
  {
   "cell_type": "code",
   "execution_count": 31,
   "metadata": {},
   "outputs": [
    {
     "data": {
      "text/plain": [
       "<keras.src.callbacks.EarlyStopping at 0x2b541a070>"
      ]
     },
     "execution_count": 31,
     "metadata": {},
     "output_type": "execute_result"
    }
   ],
   "source": [
    "# early stopping\n",
    "\n",
    "tf.keras.callbacks.EarlyStopping(\n",
    "    monitor=\"val_loss\",\n",
    "    min_delta=0.0001,\n",
    "    patience=20,\n",
    "    verbose=1,\n",
    "    mode=\"auto\",\n",
    "    baseline=None,\n",
    "    restore_best_weights=False,\n",
    "    start_from_epoch=0,\n",
    ")"
   ]
  },
  {
   "cell_type": "code",
   "execution_count": 32,
   "metadata": {},
   "outputs": [
    {
     "name": "stdout",
     "output_type": "stream",
     "text": [
      "Epoch 1/1000\n",
      "536/536 [==============================] - 1s 1ms/step - loss: 0.3030 - accuracy: 0.8750 - val_loss: 0.3784 - val_accuracy: 0.8489\n",
      "Epoch 2/1000\n",
      "536/536 [==============================] - 1s 935us/step - loss: 0.3019 - accuracy: 0.8755 - val_loss: 0.3791 - val_accuracy: 0.8478\n",
      "Epoch 3/1000\n",
      "536/536 [==============================] - 0s 864us/step - loss: 0.3031 - accuracy: 0.8722 - val_loss: 0.3729 - val_accuracy: 0.8527\n",
      "Epoch 4/1000\n",
      "536/536 [==============================] - 1s 957us/step - loss: 0.3032 - accuracy: 0.8748 - val_loss: 0.3751 - val_accuracy: 0.8523\n",
      "Epoch 5/1000\n",
      "536/536 [==============================] - 0s 864us/step - loss: 0.3035 - accuracy: 0.8737 - val_loss: 0.3722 - val_accuracy: 0.8512\n",
      "Epoch 6/1000\n",
      "536/536 [==============================] - 0s 859us/step - loss: 0.3021 - accuracy: 0.8744 - val_loss: 0.3747 - val_accuracy: 0.8504\n",
      "Epoch 7/1000\n",
      "536/536 [==============================] - 0s 861us/step - loss: 0.3018 - accuracy: 0.8752 - val_loss: 0.3818 - val_accuracy: 0.8470\n",
      "Epoch 8/1000\n",
      "536/536 [==============================] - 0s 931us/step - loss: 0.3015 - accuracy: 0.8753 - val_loss: 0.3776 - val_accuracy: 0.8482\n",
      "Epoch 9/1000\n",
      "536/536 [==============================] - 0s 866us/step - loss: 0.3017 - accuracy: 0.8755 - val_loss: 0.3800 - val_accuracy: 0.8466\n",
      "Epoch 10/1000\n",
      "536/536 [==============================] - 0s 880us/step - loss: 0.3020 - accuracy: 0.8742 - val_loss: 0.3935 - val_accuracy: 0.8466\n",
      "Epoch 11/1000\n",
      "536/536 [==============================] - 0s 880us/step - loss: 0.3027 - accuracy: 0.8740 - val_loss: 0.3768 - val_accuracy: 0.8489\n",
      "Epoch 12/1000\n",
      "536/536 [==============================] - 0s 908us/step - loss: 0.3025 - accuracy: 0.8746 - val_loss: 0.3771 - val_accuracy: 0.8501\n",
      "Epoch 13/1000\n",
      "536/536 [==============================] - 1s 1ms/step - loss: 0.3014 - accuracy: 0.8755 - val_loss: 0.3853 - val_accuracy: 0.8470\n",
      "Epoch 14/1000\n",
      "536/536 [==============================] - 0s 918us/step - loss: 0.3011 - accuracy: 0.8757 - val_loss: 0.3796 - val_accuracy: 0.8493\n",
      "Epoch 15/1000\n",
      "536/536 [==============================] - 1s 947us/step - loss: 0.3028 - accuracy: 0.8744 - val_loss: 0.3759 - val_accuracy: 0.8512\n",
      "Epoch 16/1000\n",
      "536/536 [==============================] - 0s 842us/step - loss: 0.3023 - accuracy: 0.8744 - val_loss: 0.3771 - val_accuracy: 0.8485\n",
      "Epoch 17/1000\n",
      "536/536 [==============================] - 0s 868us/step - loss: 0.3020 - accuracy: 0.8757 - val_loss: 0.3760 - val_accuracy: 0.8504\n",
      "Epoch 18/1000\n",
      "536/536 [==============================] - 0s 838us/step - loss: 0.3012 - accuracy: 0.8739 - val_loss: 0.3744 - val_accuracy: 0.8523\n",
      "Epoch 19/1000\n",
      "536/536 [==============================] - 0s 841us/step - loss: 0.3013 - accuracy: 0.8748 - val_loss: 0.3785 - val_accuracy: 0.8512\n",
      "Epoch 20/1000\n",
      "536/536 [==============================] - 0s 914us/step - loss: 0.3011 - accuracy: 0.8750 - val_loss: 0.3804 - val_accuracy: 0.8485\n",
      "Epoch 21/1000\n",
      "536/536 [==============================] - 0s 836us/step - loss: 0.3024 - accuracy: 0.8767 - val_loss: 0.3763 - val_accuracy: 0.8512\n",
      "Epoch 22/1000\n",
      "536/536 [==============================] - 0s 857us/step - loss: 0.3014 - accuracy: 0.8753 - val_loss: 0.3778 - val_accuracy: 0.8482\n",
      "Epoch 23/1000\n",
      "536/536 [==============================] - 0s 843us/step - loss: 0.3010 - accuracy: 0.8750 - val_loss: 0.3811 - val_accuracy: 0.8489\n",
      "Epoch 24/1000\n",
      "536/536 [==============================] - 0s 863us/step - loss: 0.3015 - accuracy: 0.8752 - val_loss: 0.3807 - val_accuracy: 0.8489\n",
      "Epoch 25/1000\n",
      "536/536 [==============================] - 1s 1ms/step - loss: 0.3016 - accuracy: 0.8761 - val_loss: 0.3813 - val_accuracy: 0.8501\n"
     ]
    }
   ],
   "source": [
    "model_history = classifier.fit(X_train, y_train, validation_split=0.33, batch_size = 10, epochs = 1000, callbacks=[tf.keras.callbacks.EarlyStopping(monitor='val_loss', patience=20)])"
   ]
  },
  {
   "cell_type": "code",
   "execution_count": 33,
   "metadata": {},
   "outputs": [
    {
     "data": {
      "text/plain": [
       "dict_keys(['loss', 'accuracy', 'val_loss', 'val_accuracy'])"
      ]
     },
     "execution_count": 33,
     "metadata": {},
     "output_type": "execute_result"
    }
   ],
   "source": [
    "model_history.history.keys()"
   ]
  },
  {
   "cell_type": "code",
   "execution_count": 44,
   "metadata": {},
   "outputs": [
    {
     "data": {
      "image/png": "[encoded data removed]",
      "text/plain": [
       "<Figure size 640x480 with 1 Axes>"
      ]
     },
     "metadata": {},
     "output_type": "display_data"
    }
   ],
   "source": [
    "plt.plot(model_history.history['accuracy'])\n",
    "plt.plot(model_history.history['val_accuracy'])\n",
    "plt.title('Model accuracy Progress During Training')\n",
    "plt.xlabel('Epochs')\n",
    "plt.ylabel('accuracy')\n",
    "plt.legend(['Training accuracy', 'Test accuracy'])\n",
    "plt.show()"
   ]
  },
  {
   "cell_type": "code",
   "execution_count": 45,
   "metadata": {},
   "outputs": [
    {
     "data": {
      "image/png": "[encoded data removed]",
      "text/plain": [
       "<Figure size 640x480 with 1 Axes>"
      ]
     },
     "metadata": {},
     "output_type": "display_data"
    }
   ],
   "source": [
    "plt.plot(model_history.history['loss'])\n",
    "plt.plot(model_history.history['val_loss'])\n",
    "plt.title('Model Loss Progress During Training')\n",
    "plt.xlabel('Epochs')\n",
    "plt.ylabel('loos')\n",
    "plt.legend(['Training Loss', 'Test Loss'])\n",
    "plt.show()"
   ]
  },
  {
   "cell_type": "code",
   "execution_count": 47,
   "metadata": {},
   "outputs": [
    {
     "name": "stdout",
     "output_type": "stream",
     "text": [
      "63/63 [==============================] - 0s 451us/step\n"
     ]
    }
   ],
   "source": [
    "y_pred = classifier.predict(X_test)\n",
    "y_pred = (y_pred > 0.5)"
   ]
  },
  {
   "cell_type": "code",
   "execution_count": 50,
   "metadata": {},
   "outputs": [],
   "source": [
    "# Making the Confusion Matrix\n",
    "\n",
    "cm = confusion_matrix(y_test, y_pred)"
   ]
  },
  {
   "cell_type": "code",
   "execution_count": 51,
   "metadata": {},
   "outputs": [
    {
     "data": {
      "text/plain": [
       "array([[1506,   89],\n",
       "       [ 208,  197]])"
      ]
     },
     "execution_count": 51,
     "metadata": {},
     "output_type": "execute_result"
    }
   ],
   "source": [
    "cm"
   ]
  },
  {
   "cell_type": "code",
   "execution_count": 54,
   "metadata": {},
   "outputs": [
    {
     "data": {
      "text/plain": [
       "0.8515"
      ]
     },
     "execution_count": 54,
     "metadata": {},
     "output_type": "execute_result"
    }
   ],
   "source": [
    "score = accuracy_score(y_pred, y_test)\n",
    "score"
   ]
  },
  {
   "cell_type": "code",
   "execution_count": 55,
   "metadata": {},
   "outputs": [
    {
     "data": {
      "text/plain": [
       "[array([[ 0.02046649, -0.06680698,  0.00612409,  0.23446989, -0.18776539,\n",
       "          0.06619575,  0.24654841,  0.11101864,  0.05039644, -0.35477293,\n",
       "          0.04220207],\n",
       "        [-0.11056283, -0.30186257,  0.08005857,  0.55688643, -0.99187243,\n",
       "         -1.2038989 , -0.6208267 ,  0.6674011 ,  1.5171684 , -0.48838603,\n",
       "          0.23647329],\n",
       "        [ 0.5633876 , -0.24467401, -0.23450962,  0.38367265,  0.10774104,\n",
       "         -0.28064862, -0.39345366, -0.10209794, -0.25145516,  0.22222401,\n",
       "          0.20530094],\n",
       "        [-0.13598752,  1.1230029 , -0.49528223, -0.63591236,  0.41157827,\n",
       "         -0.05281637,  0.13927591, -0.21005775,  0.2202156 , -0.05971964,\n",
       "         -0.39132723],\n",
       "        [ 1.3260708 ,  0.8514616 , -1.3233609 ,  0.11494347,  0.15145384,\n",
       "          0.03598673,  0.29222217,  0.03247829,  0.3708996 , -0.15687898,\n",
       "          0.90452236],\n",
       "        [-0.11771569,  0.44709608,  0.1824831 , -0.06687567,  0.5110638 ,\n",
       "          0.14591438,  0.4843717 ,  1.0443468 , -0.11758742, -0.9232301 ,\n",
       "          0.74056256],\n",
       "        [ 0.20460123, -0.38733137, -0.73065716,  0.3890389 , -0.2534149 ,\n",
       "         -0.9366244 ,  0.36070928, -0.00675523, -0.14112283,  0.50528216,\n",
       "         -0.9030777 ],\n",
       "        [ 0.15647648,  0.11408247,  0.23229128,  0.01305498,  0.07378637,\n",
       "         -0.09144389,  0.1920393 ,  0.74947184, -0.2920351 ,  0.04573909,\n",
       "          0.598509  ],\n",
       "        [-0.3122074 ,  0.27990392,  0.08443252,  0.35191157, -0.4979696 ,\n",
       "          0.13201216,  0.5830016 ,  0.23696996,  0.15520371,  0.3661431 ,\n",
       "         -0.08018599],\n",
       "        [ 0.09134264, -0.14795902,  0.28124365, -0.7636444 ,  0.25773716,\n",
       "         -0.5800865 ,  0.16869733,  0.17444688,  0.47892395,  0.7613747 ,\n",
       "         -0.6054891 ],\n",
       "        [ 0.34459618,  0.7008346 , -0.18226111,  0.35046372,  0.7010648 ,\n",
       "         -0.8138931 ,  0.68847275, -0.73886937,  0.08996634, -0.45432198,\n",
       "         -0.5613225 ]], dtype=float32),\n",
       " array([-0.28319642, -0.306493  ,  0.22390166,  0.5133899 ,  1.0021365 ,\n",
       "         0.8420496 ,  0.02745292, -0.34633434, -1.0808581 ,  0.1881488 ,\n",
       "        -0.04789413], dtype=float32),\n",
       " array([[ 0.15005803, -0.6570369 ,  1.0414333 ,  0.33625108,  0.8190617 ,\n",
       "          0.69696397, -0.7214407 ],\n",
       "        [-0.13091944,  0.11626557, -1.4773217 ,  0.03934836,  0.5055419 ,\n",
       "          0.7749565 , -1.0428005 ],\n",
       "        [-0.24181908, -0.47666794, -0.32049498,  0.36167133,  0.5924689 ,\n",
       "          0.52102864,  0.7984872 ],\n",
       "        [-0.13333549,  0.9609178 , -0.29466954,  0.23700011, -0.5255046 ,\n",
       "         -0.3676241 ,  0.17636582],\n",
       "        [ 0.08903308,  0.12308402, -0.36018527, -0.09390191, -1.0945623 ,\n",
       "          0.2432106 , -0.01865423],\n",
       "        [ 0.54032546, -0.7199213 ,  0.58872354,  0.6136471 , -0.20886765,\n",
       "         -0.62702   , -0.946171  ],\n",
       "        [ 0.11314151,  0.5784228 ,  0.26773173, -0.1808567 ,  0.15841387,\n",
       "         -0.2820697 , -0.3201595 ],\n",
       "        [-0.05239183, -0.2868395 ,  0.6319956 ,  0.08940196, -0.68050426,\n",
       "         -0.5678522 , -0.11356179],\n",
       "        [-1.6465539 ,  0.7811276 ,  0.54731727, -1.083553  ,  0.25503483,\n",
       "         -0.17049682, -0.81844425],\n",
       "        [-0.15768817,  0.6108635 , -0.39577037,  0.63161546, -0.22501753,\n",
       "         -0.36033583,  0.39860505],\n",
       "        [-0.23402715,  0.8741721 , -0.5945365 ,  0.32782757,  0.7934346 ,\n",
       "          0.4146394 ,  0.2554329 ]], dtype=float32),\n",
       " array([0.91251075, 0.7452614 , 0.701579  , 0.43957862, 0.22750287,\n",
       "        0.5036169 , 0.48861676], dtype=float32),\n",
       " array([[ 0.06693186, -0.4818908 ,  0.3061513 ,  0.5563813 , -0.7737568 ,\n",
       "          0.12728617],\n",
       "        [ 0.58049005,  0.50600344,  0.9870503 ,  0.8912765 ,  0.29684883,\n",
       "         -3.184899  ],\n",
       "        [ 0.7213065 , -1.0343881 ,  0.42682934,  0.4921372 ,  0.78054225,\n",
       "          0.72066224],\n",
       "        [ 0.3081271 , -0.7023939 ,  0.09789961,  0.01878184, -0.66663885,\n",
       "         -1.1489997 ],\n",
       "        [-0.630482  ,  0.5850843 , -0.35967097, -0.18096459,  1.4447569 ,\n",
       "         -0.4454013 ],\n",
       "        [-0.10044924, -1.124734  ,  0.13595381, -0.3429259 ,  0.5726818 ,\n",
       "          0.85548496],\n",
       "        [-0.1554955 ,  0.6914966 , -1.7459682 , -0.33012873,  0.48944557,\n",
       "         -0.18834771]], dtype=float32),\n",
       " array([-0.08820637,  0.14374083, -0.24535316,  0.12982765,  0.2690381 ,\n",
       "         0.43963838], dtype=float32),\n",
       " array([[-0.46773243],\n",
       "        [ 1.194571  ],\n",
       "        [-0.5401393 ],\n",
       "        [-0.5951855 ],\n",
       "        [ 1.1458461 ],\n",
       "        [-4.780159  ]], dtype=float32),\n",
       " array([0.07523569], dtype=float32)]"
      ]
     },
     "execution_count": 55,
     "metadata": {},
     "output_type": "execute_result"
    }
   ],
   "source": [
    "#get weights\n",
    "\n",
    "classifier.get_weights()"
   ]
  },
  {
   "cell_type": "code",
   "execution_count": null,
   "metadata": {},
   "outputs": [],
   "source": []
  }
 ],
 "metadata": {
  "kernelspec": {
   "display_name": "Python",
   "language": "python",
   "name": "python3"
  },
  "language_info": {
   "codemirror_mode": {
    "name": "ipython",
    "version": 3
   },
   "file_extension": ".py",
   "mimetype": "text/x-python",
   "name": "python",
   "nbconvert_exporter": "python",
   "pygments_lexer": "ipython3",
   "version": "3.8.16"
  }
 },
 "nbformat": 4,
 "nbformat_minor": 2
}
