{
 "cells": [
  {
   "cell_type": "code",
   "execution_count": 26,
   "metadata": {},
   "outputs": [
    {
     "name": "stdout",
     "output_type": "stream",
     "text": [
      "Requirement already satisfied: tensorflow in /Users/prajwal/.conda/envs/Python/lib/python3.8/site-packages (2.13.0)\n",
      "Requirement already satisfied: tensorflow-macos==2.13.0 in /Users/prajwal/.conda/envs/Python/lib/python3.8/site-packages (from tensorflow) (2.13.0)\n",
      "Requirement already satisfied: protobuf!=4.21.0,!=4.21.1,!=4.21.2,!=4.21.3,!=4.21.4,!=4.21.5,<5.0.0dev,>=3.20.3 in /Users/prajwal/.conda/envs/Python/lib/python3.8/site-packages (from tensorflow-macos==2.13.0->tensorflow) (4.25.0)\n",
      "Requirement already satisfied: typing-extensions<4.6.0,>=3.6.6 in /Users/prajwal/.conda/envs/Python/lib/python3.8/site-packages (from tensorflow-macos==2.13.0->tensorflow) (4.4.0)\n",
      "Requirement already satisfied: absl-py>=1.0.0 in /Users/prajwal/.conda/envs/Python/lib/python3.8/site-packages (from tensorflow-macos==2.13.0->tensorflow) (1.3.0)\n",
      "Requirement already satisfied: six>=1.12.0 in /Users/prajwal/.conda/envs/Python/lib/python3.8/site-packages (from tensorflow-macos==2.13.0->tensorflow) (1.16.0)\n",
      "Requirement already satisfied: tensorboard<2.14,>=2.13 in /Users/prajwal/.conda/envs/Python/lib/python3.8/site-packages (from tensorflow-macos==2.13.0->tensorflow) (2.13.0)\n",
      "Requirement already satisfied: google-pasta>=0.1.1 in /Users/prajwal/.conda/envs/Python/lib/python3.8/site-packages (from tensorflow-macos==2.13.0->tensorflow) (0.2.0)\n",
      "Requirement already satisfied: numpy<=1.24.3,>=1.22 in /Users/prajwal/.conda/envs/Python/lib/python3.8/site-packages (from tensorflow-macos==2.13.0->tensorflow) (1.23.5)\n",
      "Requirement already satisfied: astunparse>=1.6.0 in /Users/prajwal/.conda/envs/Python/lib/python3.8/site-packages (from tensorflow-macos==2.13.0->tensorflow) (1.6.3)\n",
      "Requirement already satisfied: opt-einsum>=2.3.2 in /Users/prajwal/.conda/envs/Python/lib/python3.8/site-packages (from tensorflow-macos==2.13.0->tensorflow) (3.3.0)\n",
      "Requirement already satisfied: h5py>=2.9.0 in /Users/prajwal/.conda/envs/Python/lib/python3.8/site-packages (from tensorflow-macos==2.13.0->tensorflow) (3.8.0)\n",
      "Requirement already satisfied: flatbuffers>=23.1.21 in /Users/prajwal/.conda/envs/Python/lib/python3.8/site-packages (from tensorflow-macos==2.13.0->tensorflow) (23.3.3)\n",
      "Requirement already satisfied: grpcio<2.0,>=1.24.3 in /Users/prajwal/.conda/envs/Python/lib/python3.8/site-packages (from tensorflow-macos==2.13.0->tensorflow) (1.51.3)\n",
      "Requirement already satisfied: termcolor>=1.1.0 in /Users/prajwal/.conda/envs/Python/lib/python3.8/site-packages (from tensorflow-macos==2.13.0->tensorflow) (2.2.0)\n",
      "Requirement already satisfied: tensorflow-estimator<2.14,>=2.13.0 in /Users/prajwal/.conda/envs/Python/lib/python3.8/site-packages (from tensorflow-macos==2.13.0->tensorflow) (2.13.0)\n",
      "Requirement already satisfied: packaging in /Users/prajwal/.conda/envs/Python/lib/python3.8/site-packages (from tensorflow-macos==2.13.0->tensorflow) (20.9)\n",
      "Requirement already satisfied: libclang>=13.0.0 in /Users/prajwal/.conda/envs/Python/lib/python3.8/site-packages (from tensorflow-macos==2.13.0->tensorflow) (15.0.6.1)\n",
      "Requirement already satisfied: gast<=0.4.0,>=0.2.1 in /Users/prajwal/.conda/envs/Python/lib/python3.8/site-packages (from tensorflow-macos==2.13.0->tensorflow) (0.4.0)\n",
      "Requirement already satisfied: setuptools in /Users/prajwal/.conda/envs/Python/lib/python3.8/site-packages (from tensorflow-macos==2.13.0->tensorflow) (65.6.3)\n",
      "Requirement already satisfied: wrapt>=1.11.0 in /Users/prajwal/.conda/envs/Python/lib/python3.8/site-packages (from tensorflow-macos==2.13.0->tensorflow) (1.15.0)\n",
      "Requirement already satisfied: keras<2.14,>=2.13.1 in /Users/prajwal/.conda/envs/Python/lib/python3.8/site-packages (from tensorflow-macos==2.13.0->tensorflow) (2.13.1)\n",
      "Requirement already satisfied: wheel<1.0,>=0.23.0 in /Users/prajwal/.conda/envs/Python/lib/python3.8/site-packages (from astunparse>=1.6.0->tensorflow-macos==2.13.0->tensorflow) (0.38.4)\n",
      "Requirement already satisfied: tensorboard-data-server<0.8.0,>=0.7.0 in /Users/prajwal/.conda/envs/Python/lib/python3.8/site-packages (from tensorboard<2.14,>=2.13->tensorflow-macos==2.13.0->tensorflow) (0.7.2)\n",
      "Requirement already satisfied: werkzeug>=1.0.1 in /Users/prajwal/.conda/envs/Python/lib/python3.8/site-packages (from tensorboard<2.14,>=2.13->tensorflow-macos==2.13.0->tensorflow) (2.2.3)\n",
      "Requirement already satisfied: requests<3,>=2.21.0 in /Users/prajwal/.conda/envs/Python/lib/python3.8/site-packages (from tensorboard<2.14,>=2.13->tensorflow-macos==2.13.0->tensorflow) (2.28.1)\n",
      "Requirement already satisfied: markdown>=2.6.8 in /Users/prajwal/.conda/envs/Python/lib/python3.8/site-packages (from tensorboard<2.14,>=2.13->tensorflow-macos==2.13.0->tensorflow) (3.4.1)\n",
      "Requirement already satisfied: google-auth-oauthlib<1.1,>=0.5 in /Users/prajwal/.conda/envs/Python/lib/python3.8/site-packages (from tensorboard<2.14,>=2.13->tensorflow-macos==2.13.0->tensorflow) (1.0.0)\n",
      "Requirement already satisfied: google-auth<3,>=1.6.3 in /Users/prajwal/.conda/envs/Python/lib/python3.8/site-packages (from tensorboard<2.14,>=2.13->tensorflow-macos==2.13.0->tensorflow) (2.16.2)\n",
      "Requirement already satisfied: pyparsing>=2.0.2 in /Users/prajwal/.conda/envs/Python/lib/python3.8/site-packages (from packaging->tensorflow-macos==2.13.0->tensorflow) (3.0.9)\n",
      "Requirement already satisfied: rsa<5,>=3.1.4 in /Users/prajwal/.conda/envs/Python/lib/python3.8/site-packages (from google-auth<3,>=1.6.3->tensorboard<2.14,>=2.13->tensorflow-macos==2.13.0->tensorflow) (4.9)\n",
      "Requirement already satisfied: cachetools<6.0,>=2.0.0 in /Users/prajwal/.conda/envs/Python/lib/python3.8/site-packages (from google-auth<3,>=1.6.3->tensorboard<2.14,>=2.13->tensorflow-macos==2.13.0->tensorflow) (5.3.0)\n",
      "Requirement already satisfied: pyasn1-modules>=0.2.1 in /Users/prajwal/.conda/envs/Python/lib/python3.8/site-packages (from google-auth<3,>=1.6.3->tensorboard<2.14,>=2.13->tensorflow-macos==2.13.0->tensorflow) (0.2.8)\n",
      "Requirement already satisfied: requests-oauthlib>=0.7.0 in /Users/prajwal/.conda/envs/Python/lib/python3.8/site-packages (from google-auth-oauthlib<1.1,>=0.5->tensorboard<2.14,>=2.13->tensorflow-macos==2.13.0->tensorflow) (1.3.1)\n",
      "Requirement already satisfied: importlib-metadata>=4.4 in /Users/prajwal/.conda/envs/Python/lib/python3.8/site-packages (from markdown>=2.6.8->tensorboard<2.14,>=2.13->tensorflow-macos==2.13.0->tensorflow) (4.11.3)\n",
      "Requirement already satisfied: charset-normalizer<3,>=2 in /Users/prajwal/.conda/envs/Python/lib/python3.8/site-packages (from requests<3,>=2.21.0->tensorboard<2.14,>=2.13->tensorflow-macos==2.13.0->tensorflow) (2.0.4)\n",
      "Requirement already satisfied: idna<4,>=2.5 in /Users/prajwal/.conda/envs/Python/lib/python3.8/site-packages (from requests<3,>=2.21.0->tensorboard<2.14,>=2.13->tensorflow-macos==2.13.0->tensorflow) (3.4)\n",
      "Requirement already satisfied: certifi>=2017.4.17 in /Users/prajwal/.conda/envs/Python/lib/python3.8/site-packages (from requests<3,>=2.21.0->tensorboard<2.14,>=2.13->tensorflow-macos==2.13.0->tensorflow) (2022.12.7)\n",
      "Requirement already satisfied: urllib3<1.27,>=1.21.1 in /Users/prajwal/.conda/envs/Python/lib/python3.8/site-packages (from requests<3,>=2.21.0->tensorboard<2.14,>=2.13->tensorflow-macos==2.13.0->tensorflow) (1.26.14)\n",
      "Requirement already satisfied: MarkupSafe>=2.1.1 in /Users/prajwal/.conda/envs/Python/lib/python3.8/site-packages (from werkzeug>=1.0.1->tensorboard<2.14,>=2.13->tensorflow-macos==2.13.0->tensorflow) (2.1.1)\n",
      "Requirement already satisfied: zipp>=0.5 in /Users/prajwal/.conda/envs/Python/lib/python3.8/site-packages (from importlib-metadata>=4.4->markdown>=2.6.8->tensorboard<2.14,>=2.13->tensorflow-macos==2.13.0->tensorflow) (3.11.0)\n",
      "Requirement already satisfied: pyasn1<0.5.0,>=0.4.6 in /Users/prajwal/.conda/envs/Python/lib/python3.8/site-packages (from pyasn1-modules>=0.2.1->google-auth<3,>=1.6.3->tensorboard<2.14,>=2.13->tensorflow-macos==2.13.0->tensorflow) (0.4.8)\n",
      "Requirement already satisfied: oauthlib>=3.0.0 in /Users/prajwal/.conda/envs/Python/lib/python3.8/site-packages (from requests-oauthlib>=0.7.0->google-auth-oauthlib<1.1,>=0.5->tensorboard<2.14,>=2.13->tensorflow-macos==2.13.0->tensorflow) (3.2.2)\n",
      "Note: you may need to restart the kernel to use updated packages.\n"
     ]
    }
   ],
   "source": [
    "pip install tensorflow"
   ]
  },
  {
   "cell_type": "code",
   "execution_count": 27,
   "metadata": {},
   "outputs": [
    {
     "name": "stdout",
     "output_type": "stream",
     "text": [
      "2.13.0\n"
     ]
    }
   ],
   "source": [
    "import tensorflow as tf\n",
    "print(tf.__version__)"
   ]
  },
  {
   "cell_type": "code",
   "execution_count": 28,
   "metadata": {},
   "outputs": [],
   "source": [
    "import numpy as np\n",
    "import matplotlib.pyplot as plt\n",
    "import pandas as pd\n",
    "\n",
    "from sklearn.model_selection import train_test_split \n",
    "from sklearn.preprocessing import StandardScaler # Feature Scaling\n",
    "from sklearn.metrics import confusion_matrix, accuracy_score\n",
    "\n",
    "from tensorflow.keras.models import Sequential\n",
    "from tensorflow.keras.layers import Dense, LeakyReLU, PReLU, ELU, Dropout\n"
   ]
  },
  {
   "cell_type": "code",
   "execution_count": 29,
   "metadata": {},
   "outputs": [
    {
     "data": {
      "text/html": [
       "<div>\n",
       "<style scoped>\n",
       "    .dataframe tbody tr th:only-of-type {\n",
       "        vertical-align: middle;\n",
       "    }\n",
       "\n",
       "    .dataframe tbody tr th {\n",
       "        vertical-align: top;\n",
       "    }\n",
       "\n",
       "    .dataframe thead th {\n",
       "        text-align: right;\n",
       "    }\n",
       "</style>\n",
       "<table border=\"1\" class=\"dataframe\">\n",
       "  <thead>\n",
       "    <tr style=\"text-align: right;\">\n",
       "      <th></th>\n",
       "      <th>RowNumber</th>\n",
       "      <th>CustomerId</th>\n",
       "      <th>Surname</th>\n",
       "      <th>CreditScore</th>\n",
       "      <th>Geography</th>\n",
       "      <th>Gender</th>\n",
       "      <th>Age</th>\n",
       "      <th>Tenure</th>\n",
       "      <th>Balance</th>\n",
       "      <th>NumOfProducts</th>\n",
       "      <th>HasCrCard</th>\n",
       "      <th>IsActiveMember</th>\n",
       "      <th>EstimatedSalary</th>\n",
       "      <th>Exited</th>\n",
       "    </tr>\n",
       "  </thead>\n",
       "  <tbody>\n",
       "    <tr>\n",
       "      <th>0</th>\n",
       "      <td>1</td>\n",
       "      <td>15634602</td>\n",
       "      <td>Hargrave</td>\n",
       "      <td>619</td>\n",
       "      <td>France</td>\n",
       "      <td>Female</td>\n",
       "      <td>42</td>\n",
       "      <td>2</td>\n",
       "      <td>0.00</td>\n",
       "      <td>1</td>\n",
       "      <td>1</td>\n",
       "      <td>1</td>\n",
       "      <td>101348.88</td>\n",
       "      <td>1</td>\n",
       "    </tr>\n",
       "    <tr>\n",
       "      <th>1</th>\n",
       "      <td>2</td>\n",
       "      <td>15647311</td>\n",
       "      <td>Hill</td>\n",
       "      <td>608</td>\n",
       "      <td>Spain</td>\n",
       "      <td>Female</td>\n",
       "      <td>41</td>\n",
       "      <td>1</td>\n",
       "      <td>83807.86</td>\n",
       "      <td>1</td>\n",
       "      <td>0</td>\n",
       "      <td>1</td>\n",
       "      <td>112542.58</td>\n",
       "      <td>0</td>\n",
       "    </tr>\n",
       "    <tr>\n",
       "      <th>2</th>\n",
       "      <td>3</td>\n",
       "      <td>15619304</td>\n",
       "      <td>Onio</td>\n",
       "      <td>502</td>\n",
       "      <td>France</td>\n",
       "      <td>Female</td>\n",
       "      <td>42</td>\n",
       "      <td>8</td>\n",
       "      <td>159660.80</td>\n",
       "      <td>3</td>\n",
       "      <td>1</td>\n",
       "      <td>0</td>\n",
       "      <td>113931.57</td>\n",
       "      <td>1</td>\n",
       "    </tr>\n",
       "    <tr>\n",
       "      <th>3</th>\n",
       "      <td>4</td>\n",
       "      <td>15701354</td>\n",
       "      <td>Boni</td>\n",
       "      <td>699</td>\n",
       "      <td>France</td>\n",
       "      <td>Female</td>\n",
       "      <td>39</td>\n",
       "      <td>1</td>\n",
       "      <td>0.00</td>\n",
       "      <td>2</td>\n",
       "      <td>0</td>\n",
       "      <td>0</td>\n",
       "      <td>93826.63</td>\n",
       "      <td>0</td>\n",
       "    </tr>\n",
       "    <tr>\n",
       "      <th>4</th>\n",
       "      <td>5</td>\n",
       "      <td>15737888</td>\n",
       "      <td>Mitchell</td>\n",
       "      <td>850</td>\n",
       "      <td>Spain</td>\n",
       "      <td>Female</td>\n",
       "      <td>43</td>\n",
       "      <td>2</td>\n",
       "      <td>125510.82</td>\n",
       "      <td>1</td>\n",
       "      <td>1</td>\n",
       "      <td>1</td>\n",
       "      <td>79084.10</td>\n",
       "      <td>0</td>\n",
       "    </tr>\n",
       "  </tbody>\n",
       "</table>\n",
       "</div>"
      ],
      "text/plain": [
       "   RowNumber  CustomerId   Surname  CreditScore Geography  Gender  Age  \\\n",
       "0          1    15634602  Hargrave          619    France  Female   42   \n",
       "1          2    15647311      Hill          608     Spain  Female   41   \n",
       "2          3    15619304      Onio          502    France  Female   42   \n",
       "3          4    15701354      Boni          699    France  Female   39   \n",
       "4          5    15737888  Mitchell          850     Spain  Female   43   \n",
       "\n",
       "   Tenure    Balance  NumOfProducts  HasCrCard  IsActiveMember  \\\n",
       "0       2       0.00              1          1               1   \n",
       "1       1   83807.86              1          0               1   \n",
       "2       8  159660.80              3          1               0   \n",
       "3       1       0.00              2          0               0   \n",
       "4       2  125510.82              1          1               1   \n",
       "\n",
       "   EstimatedSalary  Exited  \n",
       "0        101348.88       1  \n",
       "1        112542.58       0  \n",
       "2        113931.57       1  \n",
       "3         93826.63       0  \n",
       "4         79084.10       0  "
      ]
     },
     "execution_count": 29,
     "metadata": {},
     "output_type": "execute_result"
    }
   ],
   "source": [
    "dataset = pd.read_csv('/Users/prajwal/Developer/Prep/Deep_Learning/Churn_Modelling/Churn_Modelling.csv')\n",
    "dataset.head()"
   ]
  },
  {
   "cell_type": "code",
   "execution_count": 30,
   "metadata": {},
   "outputs": [],
   "source": [
    "X = dataset.iloc[:, 3:13]\n",
    "y = dataset.iloc[:, 13]"
   ]
  },
  {
   "cell_type": "code",
   "execution_count": 31,
   "metadata": {},
   "outputs": [
    {
     "data": {
      "text/html": [
       "<div>\n",
       "<style scoped>\n",
       "    .dataframe tbody tr th:only-of-type {\n",
       "        vertical-align: middle;\n",
       "    }\n",
       "\n",
       "    .dataframe tbody tr th {\n",
       "        vertical-align: top;\n",
       "    }\n",
       "\n",
       "    .dataframe thead th {\n",
       "        text-align: right;\n",
       "    }\n",
       "</style>\n",
       "<table border=\"1\" class=\"dataframe\">\n",
       "  <thead>\n",
       "    <tr style=\"text-align: right;\">\n",
       "      <th></th>\n",
       "      <th>CreditScore</th>\n",
       "      <th>Geography</th>\n",
       "      <th>Gender</th>\n",
       "      <th>Age</th>\n",
       "      <th>Tenure</th>\n",
       "      <th>Balance</th>\n",
       "      <th>NumOfProducts</th>\n",
       "      <th>HasCrCard</th>\n",
       "      <th>IsActiveMember</th>\n",
       "      <th>EstimatedSalary</th>\n",
       "    </tr>\n",
       "  </thead>\n",
       "  <tbody>\n",
       "    <tr>\n",
       "      <th>0</th>\n",
       "      <td>619</td>\n",
       "      <td>France</td>\n",
       "      <td>Female</td>\n",
       "      <td>42</td>\n",
       "      <td>2</td>\n",
       "      <td>0.00</td>\n",
       "      <td>1</td>\n",
       "      <td>1</td>\n",
       "      <td>1</td>\n",
       "      <td>101348.88</td>\n",
       "    </tr>\n",
       "    <tr>\n",
       "      <th>1</th>\n",
       "      <td>608</td>\n",
       "      <td>Spain</td>\n",
       "      <td>Female</td>\n",
       "      <td>41</td>\n",
       "      <td>1</td>\n",
       "      <td>83807.86</td>\n",
       "      <td>1</td>\n",
       "      <td>0</td>\n",
       "      <td>1</td>\n",
       "      <td>112542.58</td>\n",
       "    </tr>\n",
       "    <tr>\n",
       "      <th>2</th>\n",
       "      <td>502</td>\n",
       "      <td>France</td>\n",
       "      <td>Female</td>\n",
       "      <td>42</td>\n",
       "      <td>8</td>\n",
       "      <td>159660.80</td>\n",
       "      <td>3</td>\n",
       "      <td>1</td>\n",
       "      <td>0</td>\n",
       "      <td>113931.57</td>\n",
       "    </tr>\n",
       "    <tr>\n",
       "      <th>3</th>\n",
       "      <td>699</td>\n",
       "      <td>France</td>\n",
       "      <td>Female</td>\n",
       "      <td>39</td>\n",
       "      <td>1</td>\n",
       "      <td>0.00</td>\n",
       "      <td>2</td>\n",
       "      <td>0</td>\n",
       "      <td>0</td>\n",
       "      <td>93826.63</td>\n",
       "    </tr>\n",
       "    <tr>\n",
       "      <th>4</th>\n",
       "      <td>850</td>\n",
       "      <td>Spain</td>\n",
       "      <td>Female</td>\n",
       "      <td>43</td>\n",
       "      <td>2</td>\n",
       "      <td>125510.82</td>\n",
       "      <td>1</td>\n",
       "      <td>1</td>\n",
       "      <td>1</td>\n",
       "      <td>79084.10</td>\n",
       "    </tr>\n",
       "  </tbody>\n",
       "</table>\n",
       "</div>"
      ],
      "text/plain": [
       "   CreditScore Geography  Gender  Age  Tenure    Balance  NumOfProducts  \\\n",
       "0          619    France  Female   42       2       0.00              1   \n",
       "1          608     Spain  Female   41       1   83807.86              1   \n",
       "2          502    France  Female   42       8  159660.80              3   \n",
       "3          699    France  Female   39       1       0.00              2   \n",
       "4          850     Spain  Female   43       2  125510.82              1   \n",
       "\n",
       "   HasCrCard  IsActiveMember  EstimatedSalary  \n",
       "0          1               1        101348.88  \n",
       "1          0               1        112542.58  \n",
       "2          1               0        113931.57  \n",
       "3          0               0         93826.63  \n",
       "4          1               1         79084.10  "
      ]
     },
     "execution_count": 31,
     "metadata": {},
     "output_type": "execute_result"
    }
   ],
   "source": [
    "X.head()"
   ]
  },
  {
   "cell_type": "code",
   "execution_count": 32,
   "metadata": {},
   "outputs": [
    {
     "data": {
      "text/plain": [
       "0    1\n",
       "1    0\n",
       "2    1\n",
       "3    0\n",
       "4    0\n",
       "Name: Exited, dtype: int64"
      ]
     },
     "execution_count": 32,
     "metadata": {},
     "output_type": "execute_result"
    }
   ],
   "source": [
    "y.head()"
   ]
  },
  {
   "cell_type": "code",
   "execution_count": 33,
   "metadata": {},
   "outputs": [],
   "source": [
    "geography = pd.get_dummies(X['Geography'], drop_first= True)"
   ]
  },
  {
   "cell_type": "code",
   "execution_count": 34,
   "metadata": {},
   "outputs": [],
   "source": [
    "gender = pd.get_dummies(X['Gender'], drop_first= True)"
   ]
  },
  {
   "cell_type": "code",
   "execution_count": 35,
   "metadata": {},
   "outputs": [],
   "source": [
    "X = X.drop(['Gender', 'Geography'], axis=1)"
   ]
  },
  {
   "cell_type": "code",
   "execution_count": 36,
   "metadata": {},
   "outputs": [
    {
     "data": {
      "text/html": [
       "<div>\n",
       "<style scoped>\n",
       "    .dataframe tbody tr th:only-of-type {\n",
       "        vertical-align: middle;\n",
       "    }\n",
       "\n",
       "    .dataframe tbody tr th {\n",
       "        vertical-align: top;\n",
       "    }\n",
       "\n",
       "    .dataframe thead th {\n",
       "        text-align: right;\n",
       "    }\n",
       "</style>\n",
       "<table border=\"1\" class=\"dataframe\">\n",
       "  <thead>\n",
       "    <tr style=\"text-align: right;\">\n",
       "      <th></th>\n",
       "      <th>CreditScore</th>\n",
       "      <th>Age</th>\n",
       "      <th>Tenure</th>\n",
       "      <th>Balance</th>\n",
       "      <th>NumOfProducts</th>\n",
       "      <th>HasCrCard</th>\n",
       "      <th>IsActiveMember</th>\n",
       "      <th>EstimatedSalary</th>\n",
       "    </tr>\n",
       "  </thead>\n",
       "  <tbody>\n",
       "    <tr>\n",
       "      <th>0</th>\n",
       "      <td>619</td>\n",
       "      <td>42</td>\n",
       "      <td>2</td>\n",
       "      <td>0.00</td>\n",
       "      <td>1</td>\n",
       "      <td>1</td>\n",
       "      <td>1</td>\n",
       "      <td>101348.88</td>\n",
       "    </tr>\n",
       "    <tr>\n",
       "      <th>1</th>\n",
       "      <td>608</td>\n",
       "      <td>41</td>\n",
       "      <td>1</td>\n",
       "      <td>83807.86</td>\n",
       "      <td>1</td>\n",
       "      <td>0</td>\n",
       "      <td>1</td>\n",
       "      <td>112542.58</td>\n",
       "    </tr>\n",
       "    <tr>\n",
       "      <th>2</th>\n",
       "      <td>502</td>\n",
       "      <td>42</td>\n",
       "      <td>8</td>\n",
       "      <td>159660.80</td>\n",
       "      <td>3</td>\n",
       "      <td>1</td>\n",
       "      <td>0</td>\n",
       "      <td>113931.57</td>\n",
       "    </tr>\n",
       "    <tr>\n",
       "      <th>3</th>\n",
       "      <td>699</td>\n",
       "      <td>39</td>\n",
       "      <td>1</td>\n",
       "      <td>0.00</td>\n",
       "      <td>2</td>\n",
       "      <td>0</td>\n",
       "      <td>0</td>\n",
       "      <td>93826.63</td>\n",
       "    </tr>\n",
       "    <tr>\n",
       "      <th>4</th>\n",
       "      <td>850</td>\n",
       "      <td>43</td>\n",
       "      <td>2</td>\n",
       "      <td>125510.82</td>\n",
       "      <td>1</td>\n",
       "      <td>1</td>\n",
       "      <td>1</td>\n",
       "      <td>79084.10</td>\n",
       "    </tr>\n",
       "  </tbody>\n",
       "</table>\n",
       "</div>"
      ],
      "text/plain": [
       "   CreditScore  Age  Tenure    Balance  NumOfProducts  HasCrCard  \\\n",
       "0          619   42       2       0.00              1          1   \n",
       "1          608   41       1   83807.86              1          0   \n",
       "2          502   42       8  159660.80              3          1   \n",
       "3          699   39       1       0.00              2          0   \n",
       "4          850   43       2  125510.82              1          1   \n",
       "\n",
       "   IsActiveMember  EstimatedSalary  \n",
       "0               1        101348.88  \n",
       "1               1        112542.58  \n",
       "2               0        113931.57  \n",
       "3               0         93826.63  \n",
       "4               1         79084.10  "
      ]
     },
     "execution_count": 36,
     "metadata": {},
     "output_type": "execute_result"
    }
   ],
   "source": [
    "X.head()"
   ]
  },
  {
   "cell_type": "code",
   "execution_count": 37,
   "metadata": {},
   "outputs": [],
   "source": [
    "X = pd.concat([X,gender,geography], axis=1)"
   ]
  },
  {
   "cell_type": "code",
   "execution_count": 38,
   "metadata": {},
   "outputs": [
    {
     "name": "stdout",
     "output_type": "stream",
     "text": [
      "X shape: (10000, 11)\n",
      "y shape: (10000,)\n"
     ]
    }
   ],
   "source": [
    "print(\"X shape:\", X.shape)\n",
    "print(\"y shape:\", y.shape)\n"
   ]
  },
  {
   "cell_type": "code",
   "execution_count": 39,
   "metadata": {},
   "outputs": [],
   "source": [
    "X_train, X_test, y_train, y_test = train_test_split(X, y, test_size=0.2, random_state=0)"
   ]
  },
  {
   "cell_type": "code",
   "execution_count": 40,
   "metadata": {},
   "outputs": [],
   "source": [
    "#feature scaling\n",
    "\n",
    "sc = StandardScaler()\n",
    "X_train = sc.fit_transform(X_train)\n",
    "X_test = sc.transform(X_test)"
   ]
  },
  {
   "cell_type": "code",
   "execution_count": 41,
   "metadata": {},
   "outputs": [
    {
     "data": {
      "text/plain": [
       "array([[ 0.16958176, -0.46460796,  0.00666099, ..., -1.09168714,\n",
       "        -0.5698444 ,  1.74309049],\n",
       "       [-2.30455945,  0.30102557, -1.37744033, ...,  0.91601335,\n",
       "         1.75486502, -0.57369368],\n",
       "       [-1.19119591, -0.94312892, -1.031415  , ..., -1.09168714,\n",
       "        -0.5698444 , -0.57369368],\n",
       "       ...,\n",
       "       [ 0.9015152 , -0.36890377,  0.00666099, ...,  0.91601335,\n",
       "        -0.5698444 , -0.57369368],\n",
       "       [-0.62420521, -0.08179119,  1.39076231, ..., -1.09168714,\n",
       "        -0.5698444 ,  1.74309049],\n",
       "       [-0.28401079,  0.87525072, -1.37744033, ..., -1.09168714,\n",
       "         1.75486502, -0.57369368]])"
      ]
     },
     "execution_count": 41,
     "metadata": {},
     "output_type": "execute_result"
    }
   ],
   "source": [
    "X_train"
   ]
  },
  {
   "cell_type": "code",
   "execution_count": 42,
   "metadata": {},
   "outputs": [
    {
     "data": {
      "text/plain": [
       "array([[-0.55204276, -0.36890377,  1.04473698, ..., -1.09168714,\n",
       "         1.75486502, -0.57369368],\n",
       "       [-1.31490297,  0.10961719, -1.031415  , ..., -1.09168714,\n",
       "        -0.5698444 , -0.57369368],\n",
       "       [ 0.57162971,  0.30102557,  1.04473698, ..., -1.09168714,\n",
       "        -0.5698444 ,  1.74309049],\n",
       "       ...,\n",
       "       [-0.74791227, -0.27319958, -1.37744033, ...,  0.91601335,\n",
       "        -0.5698444 ,  1.74309049],\n",
       "       [-0.00566991, -0.46460796, -0.33936434, ...,  0.91601335,\n",
       "         1.75486502, -0.57369368],\n",
       "       [-0.79945688, -0.84742473,  1.04473698, ...,  0.91601335,\n",
       "         1.75486502, -0.57369368]])"
      ]
     },
     "execution_count": 42,
     "metadata": {},
     "output_type": "execute_result"
    }
   ],
   "source": [
    "X_test"
   ]
  },
  {
   "cell_type": "code",
   "execution_count": 43,
   "metadata": {},
   "outputs": [
    {
     "data": {
      "text/plain": [
       "(8000, 11)"
      ]
     },
     "execution_count": 43,
     "metadata": {},
     "output_type": "execute_result"
    }
   ],
   "source": [
    "X_train.shape"
   ]
  },
  {
   "cell_type": "code",
   "execution_count": 44,
   "metadata": {},
   "outputs": [],
   "source": [
    "#Creating ANN\n",
    "\n",
    "classifier = Sequential()"
   ]
  },
  {
   "cell_type": "code",
   "execution_count": 45,
   "metadata": {},
   "outputs": [],
   "source": [
    "#adding input layer\n",
    "\n",
    "classifier.add(Dense(units = 11, activation = 'relu'))"
   ]
  },
  {
   "cell_type": "code",
   "execution_count": 46,
   "metadata": {},
   "outputs": [],
   "source": [
    "#adding hidden layer\n",
    "\n",
    "classifier.add(Dense(units = 7, activation = 'relu'))\n",
    "classifier.add(Dropout(0.3))"
   ]
  },
  {
   "cell_type": "code",
   "execution_count": 47,
   "metadata": {},
   "outputs": [],
   "source": [
    "# adding 2nd hidden layer\n",
    "\n",
    "classifier.add(Dense(units = 6, activation = 'relu'))"
   ]
  },
  {
   "cell_type": "code",
   "execution_count": 48,
   "metadata": {},
   "outputs": [],
   "source": [
    "# adding output layer\n",
    "\n",
    "classifier.add(Dense(units = 1, activation = 'sigmoid'))"
   ]
  },
  {
   "cell_type": "code",
   "execution_count": 49,
   "metadata": {},
   "outputs": [],
   "source": [
    "classifier.compile(optimizer = 'adam', loss = 'binary_crossentropy', metrics = ['accuracy'])"
   ]
  },
  {
   "cell_type": "code",
   "execution_count": 50,
   "metadata": {},
   "outputs": [
    {
     "name": "stdout",
     "output_type": "stream",
     "text": [
      "Epoch 1/1000\n"
     ]
    },
    {
     "name": "stdout",
     "output_type": "stream",
     "text": [
      "536/536 [==============================] - 1s 1ms/step - loss: 0.5281 - accuracy: 0.7729 - val_loss: 0.4493 - val_accuracy: 0.7982\n",
      "Epoch 2/1000\n",
      "536/536 [==============================] - 0s 839us/step - loss: 0.4469 - accuracy: 0.8072 - val_loss: 0.4309 - val_accuracy: 0.8152\n",
      "Epoch 3/1000\n",
      "536/536 [==============================] - 0s 842us/step - loss: 0.4310 - accuracy: 0.8182 - val_loss: 0.4243 - val_accuracy: 0.8183\n",
      "Epoch 4/1000\n",
      "536/536 [==============================] - 0s 887us/step - loss: 0.4260 - accuracy: 0.8212 - val_loss: 0.4197 - val_accuracy: 0.8220\n",
      "Epoch 5/1000\n",
      "536/536 [==============================] - 0s 869us/step - loss: 0.4200 - accuracy: 0.8242 - val_loss: 0.4167 - val_accuracy: 0.8228\n",
      "Epoch 6/1000\n",
      "536/536 [==============================] - 0s 902us/step - loss: 0.4165 - accuracy: 0.8283 - val_loss: 0.4146 - val_accuracy: 0.8228\n",
      "Epoch 7/1000\n",
      "536/536 [==============================] - 0s 830us/step - loss: 0.4121 - accuracy: 0.8255 - val_loss: 0.4107 - val_accuracy: 0.8266\n",
      "Epoch 8/1000\n",
      "536/536 [==============================] - 1s 1ms/step - loss: 0.4063 - accuracy: 0.8321 - val_loss: 0.4078 - val_accuracy: 0.8281\n",
      "Epoch 9/1000\n",
      "536/536 [==============================] - 1s 1ms/step - loss: 0.4012 - accuracy: 0.8332 - val_loss: 0.4009 - val_accuracy: 0.8307\n",
      "Epoch 10/1000\n",
      "536/536 [==============================] - 1s 1ms/step - loss: 0.3980 - accuracy: 0.8334 - val_loss: 0.3996 - val_accuracy: 0.8311\n",
      "Epoch 11/1000\n",
      "536/536 [==============================] - 1s 965us/step - loss: 0.3917 - accuracy: 0.8358 - val_loss: 0.3941 - val_accuracy: 0.8319\n",
      "Epoch 12/1000\n",
      "536/536 [==============================] - 0s 869us/step - loss: 0.3868 - accuracy: 0.8378 - val_loss: 0.3889 - val_accuracy: 0.8334\n",
      "Epoch 13/1000\n",
      "536/536 [==============================] - 0s 830us/step - loss: 0.3818 - accuracy: 0.8384 - val_loss: 0.3827 - val_accuracy: 0.8379\n",
      "Epoch 14/1000\n",
      "155/536 [=======>......................] - ETA: 0s - loss: 0.3860 - accuracy: 0.8394"
     ]
    },
    {
     "ename": "KeyboardInterrupt",
     "evalue": "",
     "output_type": "error",
     "traceback": [
      "\u001b[0;31m---------------------------------------------------------------------------\u001b[0m",
      "\u001b[0;31mKeyboardInterrupt\u001b[0m                         Traceback (most recent call last)",
      "\u001b[1;32m/Users/prajwal/Developer/Prep/Deep_Learning/Churn_Modelling/1.ipynb Cell 25\u001b[0m line \u001b[0;36m1\n\u001b[0;32m----> <a href='vscode-notebook-cell:/Users/prajwal/Developer/Prep/Deep_Learning/Churn_Modelling/1.ipynb#X33sZmlsZQ%3D%3D?line=0'>1</a>\u001b[0m model_history \u001b[39m=\u001b[39m classifier\u001b[39m.\u001b[39;49mfit(X_train, y_train, validation_split\u001b[39m=\u001b[39;49m\u001b[39m0.33\u001b[39;49m, batch_size \u001b[39m=\u001b[39;49m \u001b[39m10\u001b[39;49m, epochs \u001b[39m=\u001b[39;49m \u001b[39m1000\u001b[39;49m)\n",
      "File \u001b[0;32m~/.conda/envs/Python/lib/python3.8/site-packages/keras/src/utils/traceback_utils.py:65\u001b[0m, in \u001b[0;36mfilter_traceback.<locals>.error_handler\u001b[0;34m(*args, **kwargs)\u001b[0m\n\u001b[1;32m     63\u001b[0m filtered_tb \u001b[39m=\u001b[39m \u001b[39mNone\u001b[39;00m\n\u001b[1;32m     64\u001b[0m \u001b[39mtry\u001b[39;00m:\n\u001b[0;32m---> 65\u001b[0m     \u001b[39mreturn\u001b[39;00m fn(\u001b[39m*\u001b[39;49margs, \u001b[39m*\u001b[39;49m\u001b[39m*\u001b[39;49mkwargs)\n\u001b[1;32m     66\u001b[0m \u001b[39mexcept\u001b[39;00m \u001b[39mException\u001b[39;00m \u001b[39mas\u001b[39;00m e:\n\u001b[1;32m     67\u001b[0m     filtered_tb \u001b[39m=\u001b[39m _process_traceback_frames(e\u001b[39m.\u001b[39m__traceback__)\n",
      "File \u001b[0;32m~/.conda/envs/Python/lib/python3.8/site-packages/keras/src/engine/training.py:1742\u001b[0m, in \u001b[0;36mModel.fit\u001b[0;34m(self, x, y, batch_size, epochs, verbose, callbacks, validation_split, validation_data, shuffle, class_weight, sample_weight, initial_epoch, steps_per_epoch, validation_steps, validation_batch_size, validation_freq, max_queue_size, workers, use_multiprocessing)\u001b[0m\n\u001b[1;32m   1734\u001b[0m \u001b[39mwith\u001b[39;00m tf\u001b[39m.\u001b[39mprofiler\u001b[39m.\u001b[39mexperimental\u001b[39m.\u001b[39mTrace(\n\u001b[1;32m   1735\u001b[0m     \u001b[39m\"\u001b[39m\u001b[39mtrain\u001b[39m\u001b[39m\"\u001b[39m,\n\u001b[1;32m   1736\u001b[0m     epoch_num\u001b[39m=\u001b[39mepoch,\n\u001b[0;32m   (...)\u001b[0m\n\u001b[1;32m   1739\u001b[0m     _r\u001b[39m=\u001b[39m\u001b[39m1\u001b[39m,\n\u001b[1;32m   1740\u001b[0m ):\n\u001b[1;32m   1741\u001b[0m     callbacks\u001b[39m.\u001b[39mon_train_batch_begin(step)\n\u001b[0;32m-> 1742\u001b[0m     tmp_logs \u001b[39m=\u001b[39m \u001b[39mself\u001b[39;49m\u001b[39m.\u001b[39;49mtrain_function(iterator)\n\u001b[1;32m   1743\u001b[0m     \u001b[39mif\u001b[39;00m data_handler\u001b[39m.\u001b[39mshould_sync:\n\u001b[1;32m   1744\u001b[0m         context\u001b[39m.\u001b[39masync_wait()\n",
      "File \u001b[0;32m~/.conda/envs/Python/lib/python3.8/site-packages/tensorflow/python/util/traceback_utils.py:150\u001b[0m, in \u001b[0;36mfilter_traceback.<locals>.error_handler\u001b[0;34m(*args, **kwargs)\u001b[0m\n\u001b[1;32m    148\u001b[0m filtered_tb \u001b[39m=\u001b[39m \u001b[39mNone\u001b[39;00m\n\u001b[1;32m    149\u001b[0m \u001b[39mtry\u001b[39;00m:\n\u001b[0;32m--> 150\u001b[0m   \u001b[39mreturn\u001b[39;00m fn(\u001b[39m*\u001b[39;49margs, \u001b[39m*\u001b[39;49m\u001b[39m*\u001b[39;49mkwargs)\n\u001b[1;32m    151\u001b[0m \u001b[39mexcept\u001b[39;00m \u001b[39mException\u001b[39;00m \u001b[39mas\u001b[39;00m e:\n\u001b[1;32m    152\u001b[0m   filtered_tb \u001b[39m=\u001b[39m _process_traceback_frames(e\u001b[39m.\u001b[39m__traceback__)\n",
      "File \u001b[0;32m~/.conda/envs/Python/lib/python3.8/site-packages/tensorflow/python/eager/polymorphic_function/polymorphic_function.py:825\u001b[0m, in \u001b[0;36mFunction.__call__\u001b[0;34m(self, *args, **kwds)\u001b[0m\n\u001b[1;32m    822\u001b[0m compiler \u001b[39m=\u001b[39m \u001b[39m\"\u001b[39m\u001b[39mxla\u001b[39m\u001b[39m\"\u001b[39m \u001b[39mif\u001b[39;00m \u001b[39mself\u001b[39m\u001b[39m.\u001b[39m_jit_compile \u001b[39melse\u001b[39;00m \u001b[39m\"\u001b[39m\u001b[39mnonXla\u001b[39m\u001b[39m\"\u001b[39m\n\u001b[1;32m    824\u001b[0m \u001b[39mwith\u001b[39;00m OptionalXlaContext(\u001b[39mself\u001b[39m\u001b[39m.\u001b[39m_jit_compile):\n\u001b[0;32m--> 825\u001b[0m   result \u001b[39m=\u001b[39m \u001b[39mself\u001b[39;49m\u001b[39m.\u001b[39;49m_call(\u001b[39m*\u001b[39;49margs, \u001b[39m*\u001b[39;49m\u001b[39m*\u001b[39;49mkwds)\n\u001b[1;32m    827\u001b[0m new_tracing_count \u001b[39m=\u001b[39m \u001b[39mself\u001b[39m\u001b[39m.\u001b[39mexperimental_get_tracing_count()\n\u001b[1;32m    828\u001b[0m without_tracing \u001b[39m=\u001b[39m (tracing_count \u001b[39m==\u001b[39m new_tracing_count)\n",
      "File \u001b[0;32m~/.conda/envs/Python/lib/python3.8/site-packages/tensorflow/python/eager/polymorphic_function/polymorphic_function.py:857\u001b[0m, in \u001b[0;36mFunction._call\u001b[0;34m(self, *args, **kwds)\u001b[0m\n\u001b[1;32m    854\u001b[0m   \u001b[39mself\u001b[39m\u001b[39m.\u001b[39m_lock\u001b[39m.\u001b[39mrelease()\n\u001b[1;32m    855\u001b[0m   \u001b[39m# In this case we have created variables on the first call, so we run the\u001b[39;00m\n\u001b[1;32m    856\u001b[0m   \u001b[39m# defunned version which is guaranteed to never create variables.\u001b[39;00m\n\u001b[0;32m--> 857\u001b[0m   \u001b[39mreturn\u001b[39;00m \u001b[39mself\u001b[39;49m\u001b[39m.\u001b[39;49m_no_variable_creation_fn(\u001b[39m*\u001b[39;49margs, \u001b[39m*\u001b[39;49m\u001b[39m*\u001b[39;49mkwds)  \u001b[39m# pylint: disable=not-callable\u001b[39;00m\n\u001b[1;32m    858\u001b[0m \u001b[39melif\u001b[39;00m \u001b[39mself\u001b[39m\u001b[39m.\u001b[39m_variable_creation_fn \u001b[39mis\u001b[39;00m \u001b[39mnot\u001b[39;00m \u001b[39mNone\u001b[39;00m:\n\u001b[1;32m    859\u001b[0m   \u001b[39m# Release the lock early so that multiple threads can perform the call\u001b[39;00m\n\u001b[1;32m    860\u001b[0m   \u001b[39m# in parallel.\u001b[39;00m\n\u001b[1;32m    861\u001b[0m   \u001b[39mself\u001b[39m\u001b[39m.\u001b[39m_lock\u001b[39m.\u001b[39mrelease()\n",
      "File \u001b[0;32m~/.conda/envs/Python/lib/python3.8/site-packages/tensorflow/python/eager/polymorphic_function/tracing_compiler.py:148\u001b[0m, in \u001b[0;36mTracingCompiler.__call__\u001b[0;34m(self, *args, **kwargs)\u001b[0m\n\u001b[1;32m    145\u001b[0m \u001b[39mwith\u001b[39;00m \u001b[39mself\u001b[39m\u001b[39m.\u001b[39m_lock:\n\u001b[1;32m    146\u001b[0m   (concrete_function,\n\u001b[1;32m    147\u001b[0m    filtered_flat_args) \u001b[39m=\u001b[39m \u001b[39mself\u001b[39m\u001b[39m.\u001b[39m_maybe_define_function(args, kwargs)\n\u001b[0;32m--> 148\u001b[0m \u001b[39mreturn\u001b[39;00m concrete_function\u001b[39m.\u001b[39;49m_call_flat(\n\u001b[1;32m    149\u001b[0m     filtered_flat_args, captured_inputs\u001b[39m=\u001b[39;49mconcrete_function\u001b[39m.\u001b[39;49mcaptured_inputs)\n",
      "File \u001b[0;32m~/.conda/envs/Python/lib/python3.8/site-packages/tensorflow/python/eager/polymorphic_function/monomorphic_function.py:1349\u001b[0m, in \u001b[0;36mConcreteFunction._call_flat\u001b[0;34m(self, args, captured_inputs)\u001b[0m\n\u001b[1;32m   1345\u001b[0m possible_gradient_type \u001b[39m=\u001b[39m gradients_util\u001b[39m.\u001b[39mPossibleTapeGradientTypes(args)\n\u001b[1;32m   1346\u001b[0m \u001b[39mif\u001b[39;00m (possible_gradient_type \u001b[39m==\u001b[39m gradients_util\u001b[39m.\u001b[39mPOSSIBLE_GRADIENT_TYPES_NONE\n\u001b[1;32m   1347\u001b[0m     \u001b[39mand\u001b[39;00m executing_eagerly):\n\u001b[1;32m   1348\u001b[0m   \u001b[39m# No tape is watching; skip to running the function.\u001b[39;00m\n\u001b[0;32m-> 1349\u001b[0m   \u001b[39mreturn\u001b[39;00m \u001b[39mself\u001b[39m\u001b[39m.\u001b[39m_build_call_outputs(\u001b[39mself\u001b[39;49m\u001b[39m.\u001b[39;49m_inference_function(\u001b[39m*\u001b[39;49margs))\n\u001b[1;32m   1350\u001b[0m forward_backward \u001b[39m=\u001b[39m \u001b[39mself\u001b[39m\u001b[39m.\u001b[39m_select_forward_and_backward_functions(\n\u001b[1;32m   1351\u001b[0m     args,\n\u001b[1;32m   1352\u001b[0m     possible_gradient_type,\n\u001b[1;32m   1353\u001b[0m     executing_eagerly)\n\u001b[1;32m   1354\u001b[0m forward_function, args_with_tangents \u001b[39m=\u001b[39m forward_backward\u001b[39m.\u001b[39mforward()\n",
      "File \u001b[0;32m~/.conda/envs/Python/lib/python3.8/site-packages/tensorflow/python/eager/polymorphic_function/atomic_function.py:196\u001b[0m, in \u001b[0;36mAtomicFunction.__call__\u001b[0;34m(self, *args)\u001b[0m\n\u001b[1;32m    194\u001b[0m \u001b[39mwith\u001b[39;00m record\u001b[39m.\u001b[39mstop_recording():\n\u001b[1;32m    195\u001b[0m   \u001b[39mif\u001b[39;00m \u001b[39mself\u001b[39m\u001b[39m.\u001b[39m_bound_context\u001b[39m.\u001b[39mexecuting_eagerly():\n\u001b[0;32m--> 196\u001b[0m     outputs \u001b[39m=\u001b[39m \u001b[39mself\u001b[39;49m\u001b[39m.\u001b[39;49m_bound_context\u001b[39m.\u001b[39;49mcall_function(\n\u001b[1;32m    197\u001b[0m         \u001b[39mself\u001b[39;49m\u001b[39m.\u001b[39;49mname,\n\u001b[1;32m    198\u001b[0m         \u001b[39mlist\u001b[39;49m(args),\n\u001b[1;32m    199\u001b[0m         \u001b[39mlen\u001b[39;49m(\u001b[39mself\u001b[39;49m\u001b[39m.\u001b[39;49mfunction_type\u001b[39m.\u001b[39;49mflat_outputs),\n\u001b[1;32m    200\u001b[0m     )\n\u001b[1;32m    201\u001b[0m   \u001b[39melse\u001b[39;00m:\n\u001b[1;32m    202\u001b[0m     outputs \u001b[39m=\u001b[39m make_call_op_in_graph(\u001b[39mself\u001b[39m, \u001b[39mlist\u001b[39m(args))\n",
      "File \u001b[0;32m~/.conda/envs/Python/lib/python3.8/site-packages/tensorflow/python/eager/context.py:1457\u001b[0m, in \u001b[0;36mContext.call_function\u001b[0;34m(self, name, tensor_inputs, num_outputs)\u001b[0m\n\u001b[1;32m   1455\u001b[0m cancellation_context \u001b[39m=\u001b[39m cancellation\u001b[39m.\u001b[39mcontext()\n\u001b[1;32m   1456\u001b[0m \u001b[39mif\u001b[39;00m cancellation_context \u001b[39mis\u001b[39;00m \u001b[39mNone\u001b[39;00m:\n\u001b[0;32m-> 1457\u001b[0m   outputs \u001b[39m=\u001b[39m execute\u001b[39m.\u001b[39;49mexecute(\n\u001b[1;32m   1458\u001b[0m       name\u001b[39m.\u001b[39;49mdecode(\u001b[39m\"\u001b[39;49m\u001b[39mutf-8\u001b[39;49m\u001b[39m\"\u001b[39;49m),\n\u001b[1;32m   1459\u001b[0m       num_outputs\u001b[39m=\u001b[39;49mnum_outputs,\n\u001b[1;32m   1460\u001b[0m       inputs\u001b[39m=\u001b[39;49mtensor_inputs,\n\u001b[1;32m   1461\u001b[0m       attrs\u001b[39m=\u001b[39;49mattrs,\n\u001b[1;32m   1462\u001b[0m       ctx\u001b[39m=\u001b[39;49m\u001b[39mself\u001b[39;49m,\n\u001b[1;32m   1463\u001b[0m   )\n\u001b[1;32m   1464\u001b[0m \u001b[39melse\u001b[39;00m:\n\u001b[1;32m   1465\u001b[0m   outputs \u001b[39m=\u001b[39m execute\u001b[39m.\u001b[39mexecute_with_cancellation(\n\u001b[1;32m   1466\u001b[0m       name\u001b[39m.\u001b[39mdecode(\u001b[39m\"\u001b[39m\u001b[39mutf-8\u001b[39m\u001b[39m\"\u001b[39m),\n\u001b[1;32m   1467\u001b[0m       num_outputs\u001b[39m=\u001b[39mnum_outputs,\n\u001b[0;32m   (...)\u001b[0m\n\u001b[1;32m   1471\u001b[0m       cancellation_manager\u001b[39m=\u001b[39mcancellation_context,\n\u001b[1;32m   1472\u001b[0m   )\n",
      "File \u001b[0;32m~/.conda/envs/Python/lib/python3.8/site-packages/tensorflow/python/eager/execute.py:53\u001b[0m, in \u001b[0;36mquick_execute\u001b[0;34m(op_name, num_outputs, inputs, attrs, ctx, name)\u001b[0m\n\u001b[1;32m     51\u001b[0m \u001b[39mtry\u001b[39;00m:\n\u001b[1;32m     52\u001b[0m   ctx\u001b[39m.\u001b[39mensure_initialized()\n\u001b[0;32m---> 53\u001b[0m   tensors \u001b[39m=\u001b[39m pywrap_tfe\u001b[39m.\u001b[39;49mTFE_Py_Execute(ctx\u001b[39m.\u001b[39;49m_handle, device_name, op_name,\n\u001b[1;32m     54\u001b[0m                                       inputs, attrs, num_outputs)\n\u001b[1;32m     55\u001b[0m \u001b[39mexcept\u001b[39;00m core\u001b[39m.\u001b[39m_NotOkStatusException \u001b[39mas\u001b[39;00m e:\n\u001b[1;32m     56\u001b[0m   \u001b[39mif\u001b[39;00m name \u001b[39mis\u001b[39;00m \u001b[39mnot\u001b[39;00m \u001b[39mNone\u001b[39;00m:\n",
      "\u001b[0;31mKeyboardInterrupt\u001b[0m: "
     ]
    }
   ],
   "source": [
    "model_history = classifier.fit(X_train, y_train, validation_split=0.33, batch_size = 10, epochs = 1000)"
   ]
  },
  {
   "cell_type": "code",
   "execution_count": 51,
   "metadata": {},
   "outputs": [
    {
     "ename": "NameError",
     "evalue": "name 'model_history' is not defined",
     "output_type": "error",
     "traceback": [
      "\u001b[0;31m---------------------------------------------------------------------------\u001b[0m",
      "\u001b[0;31mNameError\u001b[0m                                 Traceback (most recent call last)",
      "\u001b[1;32m/Users/prajwal/Developer/Prep/Deep_Learning/Churn_Modelling/1.ipynb Cell 26\u001b[0m line \u001b[0;36m1\n\u001b[0;32m----> <a href='vscode-notebook-cell:/Users/prajwal/Developer/Prep/Deep_Learning/Churn_Modelling/1.ipynb#X34sZmlsZQ%3D%3D?line=0'>1</a>\u001b[0m model_history\u001b[39m.\u001b[39mhistory\u001b[39m.\u001b[39mkeys()\n",
      "\u001b[0;31mNameError\u001b[0m: name 'model_history' is not defined"
     ]
    }
   ],
   "source": [
    "model_history.history.keys()"
   ]
  },
  {
   "cell_type": "code",
   "execution_count": 52,
   "metadata": {},
   "outputs": [
    {
     "data": {
      "text/plain": [
       "<keras.src.callbacks.EarlyStopping at 0x17e611ee0>"
      ]
     },
     "execution_count": 52,
     "metadata": {},
     "output_type": "execute_result"
    }
   ],
   "source": [
    "# early stopping\n",
    "\n",
    "tf.keras.callbacks.EarlyStopping(\n",
    "    monitor=\"val_loss\",\n",
    "    min_delta=0.0001,\n",
    "    patience=20,\n",
    "    verbose=1,\n",
    "    mode=\"auto\",\n",
    "    baseline=None,\n",
    "    restore_best_weights=False,\n",
    "    start_from_epoch=0,\n",
    ")"
   ]
  },
  {
   "cell_type": "code",
   "execution_count": 53,
   "metadata": {},
   "outputs": [
    {
     "name": "stdout",
     "output_type": "stream",
     "text": [
      "Epoch 1/1000\n",
      "536/536 [==============================] - 0s 899us/step - loss: 0.3790 - accuracy: 0.8399 - val_loss: 0.3777 - val_accuracy: 0.8406\n",
      "Epoch 2/1000\n",
      "536/536 [==============================] - 0s 895us/step - loss: 0.3711 - accuracy: 0.8444 - val_loss: 0.3718 - val_accuracy: 0.8436\n",
      "Epoch 3/1000\n",
      "536/536 [==============================] - 1s 2ms/step - loss: 0.3686 - accuracy: 0.8455 - val_loss: 0.3713 - val_accuracy: 0.8448\n",
      "Epoch 4/1000\n",
      "536/536 [==============================] - 1s 1ms/step - loss: 0.3588 - accuracy: 0.8489 - val_loss: 0.3670 - val_accuracy: 0.8459\n",
      "Epoch 5/1000\n",
      "536/536 [==============================] - 0s 893us/step - loss: 0.3548 - accuracy: 0.8507 - val_loss: 0.3654 - val_accuracy: 0.8466\n",
      "Epoch 6/1000\n",
      "536/536 [==============================] - 1s 1ms/step - loss: 0.3532 - accuracy: 0.8522 - val_loss: 0.3666 - val_accuracy: 0.8485\n",
      "Epoch 7/1000\n",
      "536/536 [==============================] - 0s 914us/step - loss: 0.3533 - accuracy: 0.8511 - val_loss: 0.3647 - val_accuracy: 0.8470\n",
      "Epoch 8/1000\n",
      "536/536 [==============================] - 0s 830us/step - loss: 0.3501 - accuracy: 0.8552 - val_loss: 0.3624 - val_accuracy: 0.8489\n",
      "Epoch 9/1000\n",
      "536/536 [==============================] - 0s 855us/step - loss: 0.3534 - accuracy: 0.8515 - val_loss: 0.3643 - val_accuracy: 0.8493\n",
      "Epoch 10/1000\n",
      "536/536 [==============================] - 0s 834us/step - loss: 0.3482 - accuracy: 0.8559 - val_loss: 0.3621 - val_accuracy: 0.8512\n",
      "Epoch 11/1000\n",
      "536/536 [==============================] - 0s 812us/step - loss: 0.3445 - accuracy: 0.8567 - val_loss: 0.3611 - val_accuracy: 0.8485\n",
      "Epoch 12/1000\n",
      "536/536 [==============================] - 0s 861us/step - loss: 0.3432 - accuracy: 0.8578 - val_loss: 0.3606 - val_accuracy: 0.8523\n",
      "Epoch 13/1000\n",
      "536/536 [==============================] - 0s 810us/step - loss: 0.3452 - accuracy: 0.8552 - val_loss: 0.3585 - val_accuracy: 0.8542\n",
      "Epoch 14/1000\n",
      "536/536 [==============================] - 0s 812us/step - loss: 0.3437 - accuracy: 0.8574 - val_loss: 0.3594 - val_accuracy: 0.8523\n",
      "Epoch 15/1000\n",
      "536/536 [==============================] - 0s 822us/step - loss: 0.3442 - accuracy: 0.8571 - val_loss: 0.3600 - val_accuracy: 0.8485\n",
      "Epoch 16/1000\n",
      "536/536 [==============================] - 0s 806us/step - loss: 0.3426 - accuracy: 0.8552 - val_loss: 0.3594 - val_accuracy: 0.8580\n",
      "Epoch 17/1000\n",
      "536/536 [==============================] - 0s 807us/step - loss: 0.3445 - accuracy: 0.8552 - val_loss: 0.3588 - val_accuracy: 0.8554\n",
      "Epoch 18/1000\n",
      "536/536 [==============================] - 0s 919us/step - loss: 0.3453 - accuracy: 0.8556 - val_loss: 0.3574 - val_accuracy: 0.8561\n",
      "Epoch 19/1000\n",
      "536/536 [==============================] - 0s 809us/step - loss: 0.3443 - accuracy: 0.8524 - val_loss: 0.3587 - val_accuracy: 0.8512\n",
      "Epoch 20/1000\n",
      "536/536 [==============================] - 0s 811us/step - loss: 0.3415 - accuracy: 0.8543 - val_loss: 0.3567 - val_accuracy: 0.8535\n",
      "Epoch 21/1000\n",
      "536/536 [==============================] - 0s 810us/step - loss: 0.3426 - accuracy: 0.8595 - val_loss: 0.3562 - val_accuracy: 0.8550\n",
      "Epoch 22/1000\n",
      "536/536 [==============================] - 0s 855us/step - loss: 0.3372 - accuracy: 0.8587 - val_loss: 0.3590 - val_accuracy: 0.8527\n",
      "Epoch 23/1000\n",
      "536/536 [==============================] - 0s 913us/step - loss: 0.3428 - accuracy: 0.8537 - val_loss: 0.3599 - val_accuracy: 0.8512\n",
      "Epoch 24/1000\n",
      "536/536 [==============================] - 0s 848us/step - loss: 0.3401 - accuracy: 0.8576 - val_loss: 0.3572 - val_accuracy: 0.8527\n",
      "Epoch 25/1000\n",
      "536/536 [==============================] - 0s 843us/step - loss: 0.3388 - accuracy: 0.8606 - val_loss: 0.3578 - val_accuracy: 0.8546\n",
      "Epoch 26/1000\n",
      "536/536 [==============================] - 0s 832us/step - loss: 0.3379 - accuracy: 0.8571 - val_loss: 0.3597 - val_accuracy: 0.8535\n",
      "Epoch 27/1000\n",
      "536/536 [==============================] - 0s 838us/step - loss: 0.3399 - accuracy: 0.8574 - val_loss: 0.3593 - val_accuracy: 0.8542\n",
      "Epoch 28/1000\n",
      "536/536 [==============================] - 1s 960us/step - loss: 0.3366 - accuracy: 0.8574 - val_loss: 0.3595 - val_accuracy: 0.8535\n",
      "Epoch 29/1000\n",
      "536/536 [==============================] - 0s 851us/step - loss: 0.3401 - accuracy: 0.8574 - val_loss: 0.3563 - val_accuracy: 0.8591\n",
      "Epoch 30/1000\n",
      "536/536 [==============================] - 0s 833us/step - loss: 0.3384 - accuracy: 0.8545 - val_loss: 0.3564 - val_accuracy: 0.8607\n",
      "Epoch 31/1000\n",
      "536/536 [==============================] - 0s 843us/step - loss: 0.3396 - accuracy: 0.8558 - val_loss: 0.3590 - val_accuracy: 0.8538\n",
      "Epoch 32/1000\n",
      "536/536 [==============================] - 0s 832us/step - loss: 0.3356 - accuracy: 0.8587 - val_loss: 0.3582 - val_accuracy: 0.8535\n",
      "Epoch 33/1000\n",
      "536/536 [==============================] - 0s 894us/step - loss: 0.3369 - accuracy: 0.8599 - val_loss: 0.3575 - val_accuracy: 0.8561\n",
      "Epoch 34/1000\n",
      "536/536 [==============================] - 0s 812us/step - loss: 0.3374 - accuracy: 0.8545 - val_loss: 0.3604 - val_accuracy: 0.8493\n",
      "Epoch 35/1000\n",
      "536/536 [==============================] - 0s 811us/step - loss: 0.3384 - accuracy: 0.8595 - val_loss: 0.3573 - val_accuracy: 0.8550\n",
      "Epoch 36/1000\n",
      "536/536 [==============================] - 0s 806us/step - loss: 0.3366 - accuracy: 0.8571 - val_loss: 0.3576 - val_accuracy: 0.8580\n",
      "Epoch 37/1000\n",
      "536/536 [==============================] - 0s 846us/step - loss: 0.3391 - accuracy: 0.8578 - val_loss: 0.3585 - val_accuracy: 0.8573\n",
      "Epoch 38/1000\n",
      "536/536 [==============================] - 0s 829us/step - loss: 0.3360 - accuracy: 0.8600 - val_loss: 0.3566 - val_accuracy: 0.8573\n",
      "Epoch 39/1000\n",
      "536/536 [==============================] - 0s 859us/step - loss: 0.3366 - accuracy: 0.8530 - val_loss: 0.3590 - val_accuracy: 0.8573\n",
      "Epoch 40/1000\n",
      "536/536 [==============================] - 0s 841us/step - loss: 0.3342 - accuracy: 0.8593 - val_loss: 0.3582 - val_accuracy: 0.8584\n",
      "Epoch 41/1000\n",
      "536/536 [==============================] - 0s 810us/step - loss: 0.3348 - accuracy: 0.8565 - val_loss: 0.3594 - val_accuracy: 0.8557\n"
     ]
    }
   ],
   "source": [
    "model_history = classifier.fit(X_train, y_train, validation_split=0.33, batch_size = 10, epochs = 1000, callbacks=[tf.keras.callbacks.EarlyStopping(monitor='val_loss', patience=20)])"
   ]
  },
  {
   "cell_type": "code",
   "execution_count": 54,
   "metadata": {},
   "outputs": [
    {
     "data": {
      "text/plain": [
       "dict_keys(['loss', 'accuracy', 'val_loss', 'val_accuracy'])"
      ]
     },
     "execution_count": 54,
     "metadata": {},
     "output_type": "execute_result"
    }
   ],
   "source": [
    "model_history.history.keys()"
   ]
  },
  {
   "cell_type": "code",
   "execution_count": 55,
   "metadata": {},
   "outputs": [
    {
     "data": {
      "image/png": "[encoded data removed]",
      "text/plain": [
       "<Figure size 640x480 with 1 Axes>"
      ]
     },
     "metadata": {},
     "output_type": "display_data"
    }
   ],
   "source": [
    "plt.plot(model_history.history['accuracy'])\n",
    "plt.plot(model_history.history['val_accuracy'])\n",
    "plt.title('Model accuracy Progress During Training')\n",
    "plt.xlabel('Epochs')\n",
    "plt.ylabel('accuracy')\n",
    "plt.legend(['Training accuracy', 'Test accuracy'])\n",
    "plt.show()"
   ]
  },
  {
   "cell_type": "code",
   "execution_count": 56,
   "metadata": {},
   "outputs": [
    {
     "data": {
      "image/png": "[encoded data removed]",
      "text/plain": [
       "<Figure size 640x480 with 1 Axes>"
      ]
     },
     "metadata": {},
     "output_type": "display_data"
    }
   ],
   "source": [
    "plt.plot(model_history.history['loss'])\n",
    "plt.plot(model_history.history['val_loss'])\n",
    "plt.title('Model Loss Progress During Training')\n",
    "plt.xlabel('Epochs')\n",
    "plt.ylabel('loos')\n",
    "plt.legend(['Training Loss', 'Test Loss'])\n",
    "plt.show()"
   ]
  },
  {
   "cell_type": "code",
   "execution_count": 57,
   "metadata": {},
   "outputs": [
    {
     "name": "stdout",
     "output_type": "stream",
     "text": [
      "63/63 [==============================] - 0s 472us/step\n"
     ]
    }
   ],
   "source": [
    "y_pred = classifier.predict(X_test)\n",
    "y_pred = (y_pred > 0.5)"
   ]
  },
  {
   "cell_type": "code",
   "execution_count": 58,
   "metadata": {},
   "outputs": [],
   "source": [
    "# Making the Confusion Matrix\n",
    "\n",
    "cm = confusion_matrix(y_test, y_pred)"
   ]
  },
  {
   "cell_type": "code",
   "execution_count": 59,
   "metadata": {},
   "outputs": [
    {
     "data": {
      "text/plain": [
       "array([[1545,   50],\n",
       "       [ 218,  187]])"
      ]
     },
     "execution_count": 59,
     "metadata": {},
     "output_type": "execute_result"
    }
   ],
   "source": [
    "cm"
   ]
  },
  {
   "cell_type": "code",
   "execution_count": 60,
   "metadata": {},
   "outputs": [
    {
     "data": {
      "text/plain": [
       "0.866"
      ]
     },
     "execution_count": 60,
     "metadata": {},
     "output_type": "execute_result"
    }
   ],
   "source": [
    "score = accuracy_score(y_pred, y_test)\n",
    "score"
   ]
  },
  {
   "cell_type": "code",
   "execution_count": 61,
   "metadata": {},
   "outputs": [
    {
     "data": {
      "text/plain": [
       "[array([[ 1.76239237e-01, -7.43848309e-02, -3.05104386e-02,\n",
       "         -1.54370405e-02,  1.92296182e-04,  3.74238640e-01,\n",
       "         -1.03551351e-01,  1.83679953e-01,  7.93656632e-02,\n",
       "          2.67079920e-01, -1.66502930e-02],\n",
       "        [-4.51649845e-01, -6.25144660e-01,  2.57848293e-01,\n",
       "          7.41716087e-01,  5.80303073e-02, -7.56462872e-01,\n",
       "         -2.80104488e-01, -7.93619305e-02, -6.03915513e-01,\n",
       "         -3.49005073e-01, -3.60488564e-01],\n",
       "        [ 1.46002188e-01, -8.98636058e-02, -1.08666107e-01,\n",
       "          8.93647075e-02,  1.02736214e-02, -1.92560423e-02,\n",
       "          4.26625498e-02,  2.20697731e-01,  3.41619141e-02,\n",
       "         -2.47778953e-03,  2.80797988e-01],\n",
       "        [-6.12119138e-01,  1.13846473e-01,  5.59581578e-01,\n",
       "         -2.20193729e-01, -3.94890875e-01,  3.59442264e-01,\n",
       "         -2.18644828e-01, -4.48292136e-01, -2.14502752e-01,\n",
       "         -3.52804780e-01,  1.84339330e-01],\n",
       "        [ 1.50615767e-01,  4.25314978e-02,  8.07314634e-01,\n",
       "         -1.85635850e-01, -1.39129639e+00, -3.01148921e-01,\n",
       "          8.38307440e-02,  8.94491971e-01, -3.07085246e-01,\n",
       "         -2.10902393e-01, -1.42915323e-01],\n",
       "        [-4.54215199e-01, -1.59803573e-02, -4.30291742e-02,\n",
       "          1.54190511e-01,  8.95744935e-02,  2.17869714e-01,\n",
       "          2.90741146e-01,  3.78614329e-02,  2.57789135e-01,\n",
       "         -3.74338105e-02, -3.15856412e-02],\n",
       "        [-1.07283220e-01, -1.89747244e-01, -3.05113435e-01,\n",
       "          8.11064243e-01, -1.37090594e-01,  2.14078709e-01,\n",
       "          4.64731574e-01,  1.24498747e-01, -8.20828006e-02,\n",
       "          6.56277165e-02, -6.99055120e-02],\n",
       "        [-9.05719772e-02,  5.28252348e-02,  7.83088431e-02,\n",
       "          9.84295830e-02,  1.27089590e-01,  5.27345598e-01,\n",
       "         -1.74044117e-01, -4.15522568e-02,  1.05879329e-01,\n",
       "         -1.32903561e-01, -1.43575847e-01],\n",
       "        [ 6.06379330e-01, -2.77789012e-02, -1.30967973e-02,\n",
       "          1.67339161e-01,  1.73080042e-02,  3.90936434e-01,\n",
       "          1.49110436e-01,  1.94983244e-01, -7.26609156e-02,\n",
       "          2.35025421e-01,  3.04790437e-02],\n",
       "        [-3.02366819e-02, -4.39822953e-03, -1.08293906e-01,\n",
       "          5.91735914e-02,  1.91631183e-01, -2.10219547e-02,\n",
       "          8.08072742e-03,  5.09502552e-02,  8.33297148e-02,\n",
       "         -4.32587653e-01, -6.89532757e-01],\n",
       "        [-2.72188820e-02, -7.65710056e-01,  3.28353187e-03,\n",
       "         -8.57933015e-02, -6.24985583e-02,  1.49423659e-01,\n",
       "          4.81686115e-01, -1.24926753e-01,  1.71159685e-01,\n",
       "         -8.17586720e-01,  1.43297598e-01]], dtype=float32),\n",
       " array([-0.29944915,  0.5230259 , -0.08423211, -0.8367996 ,  0.34211212,\n",
       "         0.0589417 ,  0.1260182 , -0.00382213,  0.600894  ,  0.00834247,\n",
       "        -0.03200644], dtype=float32),\n",
       " array([[ 0.2468466 ,  0.3314679 , -0.20911866,  0.38613045, -0.23421139,\n",
       "          0.19441979,  0.54562926],\n",
       "        [ 0.20622201,  0.2824164 , -0.58541226,  0.43279117, -0.46866187,\n",
       "          0.2180632 ,  0.28823143],\n",
       "        [-0.9806285 , -0.26494357,  0.32974812, -0.577978  ,  0.6128079 ,\n",
       "         -0.30795887, -0.28528428],\n",
       "        [-0.32089907,  0.58008707, -0.61313117, -0.39672092, -0.5102236 ,\n",
       "          0.10184151,  0.9413442 ],\n",
       "        [-0.53496957, -0.72302413,  0.5274514 , -0.71519154,  0.71437174,\n",
       "         -0.6104483 , -1.0739858 ],\n",
       "        [ 0.20008601,  0.18438295, -0.25891536,  0.2960844 , -0.33958215,\n",
       "          0.09977827,  0.07909264],\n",
       "        [ 0.48950353,  0.05479623,  0.05110294,  0.64306575,  0.24633488,\n",
       "          0.19260094,  0.27530462],\n",
       "        [ 0.26466438, -0.21802108,  0.57008773, -0.16877775,  0.43611294,\n",
       "         -0.12812372, -0.2641251 ],\n",
       "        [-0.01599735,  0.42396381, -0.51993906,  0.07191385, -0.5185836 ,\n",
       "          0.2251451 ,  0.20405552],\n",
       "        [ 0.39752233,  0.04670661, -0.35802722,  0.5933181 , -0.16801368,\n",
       "          0.15642762, -0.01157054],\n",
       "        [ 0.23360334, -0.02150183, -0.6539884 ,  0.23920125, -0.5453744 ,\n",
       "          0.01698675, -0.23017588]], dtype=float32),\n",
       " array([ 0.36936122,  0.24809626, -0.08630519,  0.29537332, -0.21203767,\n",
       "         0.39813596,  0.17760545], dtype=float32),\n",
       " array([[-1.0201222 , -0.08204357, -0.4130035 , -0.21824041,  0.8232765 ,\n",
       "         -0.54717714],\n",
       "        [-0.93870443,  0.09308676, -0.48559046, -0.35728028,  0.23026676,\n",
       "          0.19184443],\n",
       "        [ 0.38398123, -1.090892  ,  0.70733756, -0.23607005, -0.684734  ,\n",
       "         -0.26955512],\n",
       "        [-0.92946684,  0.31456324, -0.60288906, -0.21304575, -0.5275828 ,\n",
       "          0.7078973 ],\n",
       "        [ 0.9173127 , -0.7511003 , -0.94826746, -0.50005746, -0.94561607,\n",
       "         -0.4902346 ],\n",
       "        [-0.9015443 ,  0.09964836, -0.7422461 , -0.5958156 ,  0.09147261,\n",
       "          0.50396967],\n",
       "        [-0.43596312,  1.0196898 , -0.4416695 ,  0.02403777, -0.35564905,\n",
       "          0.21317497]], dtype=float32),\n",
       " array([ 0.3383574 ,  0.8170122 ,  0.36413643, -0.12670244,  0.16538289,\n",
       "         0.60917854], dtype=float32),\n",
       " array([[ 1.4612726 ],\n",
       "        [-0.63094026],\n",
       "        [ 1.8295451 ],\n",
       "        [ 0.21297404],\n",
       "        [-0.9911636 ],\n",
       "        [-0.35302418]], dtype=float32),\n",
       " array([-0.55393136], dtype=float32)]"
      ]
     },
     "execution_count": 61,
     "metadata": {},
     "output_type": "execute_result"
    }
   ],
   "source": [
    "#get weights\n",
    "\n",
    "classifier.get_weights()"
   ]
  },
  {
   "cell_type": "code",
   "execution_count": null,
   "metadata": {},
   "outputs": [],
   "source": [
    "sc = StandardScaler()\n",
    "X_train = sc.fit_transform(X_train)\n",
    "X_test = sc.transform(X_test)"
   ]
  }
 ],
 "metadata": {
  "kernelspec": {
   "display_name": "Python",
   "language": "python",
   "name": "python3"
  },
  "language_info": {
   "codemirror_mode": {
    "name": "ipython",
    "version": 3
   },
   "file_extension": ".py",
   "mimetype": "text/x-python",
   "name": "python",
   "nbconvert_exporter": "python",
   "pygments_lexer": "ipython3",
   "version": "3.8.16"
  }
 },
 "nbformat": 4,
 "nbformat_minor": 2
}
