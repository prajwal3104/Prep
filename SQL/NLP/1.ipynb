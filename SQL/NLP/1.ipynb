{
 "cells": [
  {
   "cell_type": "code",
   "execution_count": 5,
   "metadata": {},
   "outputs": [
    {
     "name": "stdout",
     "output_type": "stream",
     "text": [
      "Collecting sklearn\n",
      "  Using cached sklearn-0.0.post10.tar.gz (3.6 kB)\n",
      "  Preparing metadata (setup.py) ... \u001b[?25ldone\n",
      "\u001b[?25hBuilding wheels for collected packages: sklearn\n",
      "  Building wheel for sklearn (setup.py) ... \u001b[?25ldone\n",
      "\u001b[?25h  Created wheel for sklearn: filename=sklearn-0.0.post10-py3-none-any.whl size=2959 sha256=26b34103b0936868a7d301cb046898b68513ef7ad4f5699c9a65c55b8f19da45\n",
      "  Stored in directory: /Users/prajwal/Library/Caches/pip/wheels/3b/1f/cd/e6505747b74c9bccdec4a1d8a768960cbd49d5ba8c88a58652\n",
      "Successfully built sklearn\n",
      "Installing collected packages: sklearn\n",
      "Successfully installed sklearn-0.0.post10\n",
      "Note: you may need to restart the kernel to use updated packages.\n"
     ]
    }
   ],
   "source": [
    "pip install sklearn"
   ]
  },
  {
   "cell_type": "code",
   "execution_count": 6,
   "metadata": {},
   "outputs": [],
   "source": [
    "paragraph = \"\"\" Pichai Sundararajan (born June 10, 1972[3][4][5]), better known as Sundar Pichai (/ˈsʊndɑːr pɪˈtʃaɪ/), is an Indian-born American business executive.[6][7] He is the chief executive officer (CEO) of Alphabet Inc. and its subsidiary Google.[8]\n",
    "\n",
    "Pichai began his career as a materials engineer. Following a short stint at the management consulting firm McKinsey & Co., Pichai joined Google in 2004,[9] where he led the product management and innovation efforts for a suite of Google's client software products, including Google Chrome and ChromeOS, as well as being largely responsible for Google Drive. In addition, he went on to oversee the development of other applications such as Gmail and Google Maps. In 2010, Pichai also announced the open-sourcing of the new video codec VP8 by Google and introduced the new video format, WebM. The Chromebook was released in 2012. In 2013, Pichai added Android to the list of Google products that he oversaw.\n",
    "\n",
    "Pichai was selected to become the next CEO of Google on August 10, 2015, after previously being appointed Product Chief by CEO Larry Page. On October 24, 2015, he stepped into the new position at the completion of the formation of Alphabet Inc., the new holding company for the Google company family. He was appointed to the Alphabet Board of Directors in 2017.[10]\"\"\""
   ]
  },
  {
   "cell_type": "code",
   "execution_count": 7,
   "metadata": {},
   "outputs": [
    {
     "data": {
      "text/plain": [
       "\" Pichai Sundararajan (born June 10, 1972[3][4][5]), better known as Sundar Pichai (/ˈsʊndɑːr pɪˈtʃaɪ/), is an Indian-born American business executive.[6][7] He is the chief executive officer (CEO) of Alphabet Inc. and its subsidiary Google.[8]\\n\\nPichai began his career as a materials engineer. Following a short stint at the management consulting firm McKinsey & Co., Pichai joined Google in 2004,[9] where he led the product management and innovation efforts for a suite of Google's client software products, including Google Chrome and ChromeOS, as well as being largely responsible for Google Drive. In addition, he went on to oversee the development of other applications such as Gmail and Google Maps. In 2010, Pichai also announced the open-sourcing of the new video codec VP8 by Google and introduced the new video format, WebM. The Chromebook was released in 2012. In 2013, Pichai added Android to the list of Google products that he oversaw.\\n\\nPichai was selected to become the next CEO of Google on August 10, 2015, after previously being appointed Product Chief by CEO Larry Page. On October 24, 2015, he stepped into the new position at the completion of the formation of Alphabet Inc., the new holding company for the Google company family. He was appointed to the Alphabet Board of Directors in 2017.[10]\""
      ]
     },
     "execution_count": 7,
     "metadata": {},
     "output_type": "execute_result"
    }
   ],
   "source": [
    "paragraph"
   ]
  },
  {
   "cell_type": "code",
   "execution_count": 8,
   "metadata": {},
   "outputs": [
    {
     "name": "stderr",
     "output_type": "stream",
     "text": [
      "[nltk_data] Downloading package stopwords to\n",
      "[nltk_data]     /Users/prajwal/nltk_data...\n",
      "[nltk_data]   Package stopwords is already up-to-date!\n"
     ]
    }
   ],
   "source": [
    "import nltk\n",
    "from nltk.stem import PorterStemmer\n",
    "from nltk.corpus import stopwords\n",
    "nltk.download('stopwords')\n",
    "\n",
    "from nltk.stem import WordNetLemmatizer"
   ]
  },
  {
   "cell_type": "code",
   "execution_count": 9,
   "metadata": {},
   "outputs": [
    {
     "name": "stdout",
     "output_type": "stream",
     "text": [
      "[' Pichai Sundararajan (born June 10, 1972[3][4][5]), better known as Sundar Pichai (/ˈsʊndɑːr pɪˈtʃaɪ/), is an Indian-born American business executive.', '[6][7] He is the chief executive officer (CEO) of Alphabet Inc. and its subsidiary Google.', '[8]\\n\\nPichai began his career as a materials engineer.', \"Following a short stint at the management consulting firm McKinsey & Co., Pichai joined Google in 2004,[9] where he led the product management and innovation efforts for a suite of Google's client software products, including Google Chrome and ChromeOS, as well as being largely responsible for Google Drive.\", 'In addition, he went on to oversee the development of other applications such as Gmail and Google Maps.', 'In 2010, Pichai also announced the open-sourcing of the new video codec VP8 by Google and introduced the new video format, WebM.', 'The Chromebook was released in 2012.', 'In 2013, Pichai added Android to the list of Google products that he oversaw.', 'Pichai was selected to become the next CEO of Google on August 10, 2015, after previously being appointed Product Chief by CEO Larry Page.', 'On October 24, 2015, he stepped into the new position at the completion of the formation of Alphabet Inc., the new holding company for the Google company family.', 'He was appointed to the Alphabet Board of Directors in 2017.', '[10]']\n"
     ]
    },
    {
     "name": "stderr",
     "output_type": "stream",
     "text": [
      "[nltk_data] Downloading package punkt to /Users/prajwal/nltk_data...\n",
      "[nltk_data]   Package punkt is already up-to-date!\n"
     ]
    }
   ],
   "source": [
    "# tokenization --> change paragraph(corpus) to sentences\n",
    "\n",
    "nltk.download('punkt')\n",
    "sentences = nltk.sent_tokenize(paragraph)\n",
    "print(sentences)"
   ]
  },
  {
   "cell_type": "code",
   "execution_count": 10,
   "metadata": {},
   "outputs": [
    {
     "data": {
      "text/plain": [
       "'histori'"
      ]
     },
     "execution_count": 10,
     "metadata": {},
     "output_type": "execute_result"
    }
   ],
   "source": [
    "stemmer = PorterStemmer() # stemming\n",
    "\n",
    "stemmer.stem('playing') \n",
    "stemmer.stem('played')\n",
    "stemmer.stem('play')\n",
    "stemmer.stem('history')"
   ]
  },
  {
   "cell_type": "code",
   "execution_count": 11,
   "metadata": {},
   "outputs": [
    {
     "data": {
      "text/plain": [
       "'go'"
      ]
     },
     "execution_count": 11,
     "metadata": {},
     "output_type": "execute_result"
    }
   ],
   "source": [
    "lemmatizer = WordNetLemmatizer() # lemmatization\n",
    "\n",
    "lemmatizer.lemmatize('goes')"
   ]
  },
  {
   "cell_type": "code",
   "execution_count": 12,
   "metadata": {},
   "outputs": [
    {
     "data": {
      "text/plain": [
       "12"
      ]
     },
     "execution_count": 12,
     "metadata": {},
     "output_type": "execute_result"
    }
   ],
   "source": [
    "len(sentences)"
   ]
  },
  {
   "cell_type": "code",
   "execution_count": 13,
   "metadata": {},
   "outputs": [],
   "source": [
    "import re\n",
    "corpus = [ ]\n",
    "for i in range(len(sentences)):\n",
    "    review = re.sub('[^a-zA-Z]',' ',sentences[i])\n",
    "    review = review.lower()\n",
    "    corpus.append(review)\n"
   ]
  },
  {
   "cell_type": "code",
   "execution_count": 14,
   "metadata": {},
   "outputs": [
    {
     "data": {
      "text/plain": [
       "[' pichai sundararajan  born june                     better known as sundar pichai    s nd  r p  t a     is an indian born american business executive ',\n",
       " '       he is the chief executive officer  ceo  of alphabet inc  and its subsidiary google ',\n",
       " '     pichai began his career as a materials engineer ',\n",
       " 'following a short stint at the management consulting firm mckinsey   co   pichai joined google in          where he led the product management and innovation efforts for a suite of google s client software products  including google chrome and chromeos  as well as being largely responsible for google drive ',\n",
       " 'in addition  he went on to oversee the development of other applications such as gmail and google maps ',\n",
       " 'in       pichai also announced the open sourcing of the new video codec vp  by google and introduced the new video format  webm ',\n",
       " 'the chromebook was released in      ',\n",
       " 'in       pichai added android to the list of google products that he oversaw ',\n",
       " 'pichai was selected to become the next ceo of google on august           after previously being appointed product chief by ceo larry page ',\n",
       " 'on october           he stepped into the new position at the completion of the formation of alphabet inc   the new holding company for the google company family ',\n",
       " 'he was appointed to the alphabet board of directors in      ',\n",
       " '    ']"
      ]
     },
     "execution_count": 14,
     "metadata": {},
     "output_type": "execute_result"
    }
   ],
   "source": [
    "corpus"
   ]
  },
  {
   "cell_type": "code",
   "execution_count": 15,
   "metadata": {},
   "outputs": [
    {
     "name": "stdout",
     "output_type": "stream",
     "text": [
      "pichai\n",
      "sundararajan\n",
      "born\n",
      "june\n",
      "better\n",
      "known\n",
      "sundar\n",
      "pichai\n",
      "nd\n",
      "r\n",
      "p\n",
      "indian\n",
      "born\n",
      "american\n",
      "busi\n",
      "execut\n",
      "chief\n",
      "execut\n",
      "offic\n",
      "ceo\n",
      "alphabet\n",
      "inc\n",
      "subsidiari\n",
      "googl\n",
      "pichai\n",
      "began\n",
      "career\n",
      "materi\n",
      "engin\n",
      "follow\n",
      "short\n",
      "stint\n",
      "manag\n",
      "consult\n",
      "firm\n",
      "mckinsey\n",
      "co\n",
      "pichai\n",
      "join\n",
      "googl\n",
      "led\n",
      "product\n",
      "manag\n",
      "innov\n",
      "effort\n",
      "suit\n",
      "googl\n",
      "client\n",
      "softwar\n",
      "product\n",
      "includ\n",
      "googl\n",
      "chrome\n",
      "chromeo\n",
      "well\n",
      "larg\n",
      "respons\n",
      "googl\n",
      "drive\n",
      "addit\n",
      "went\n",
      "overse\n",
      "develop\n",
      "applic\n",
      "gmail\n",
      "googl\n",
      "map\n",
      "pichai\n",
      "also\n",
      "announc\n",
      "open\n",
      "sourc\n",
      "new\n",
      "video\n",
      "codec\n",
      "vp\n",
      "googl\n",
      "introduc\n",
      "new\n",
      "video\n",
      "format\n",
      "webm\n",
      "chromebook\n",
      "releas\n",
      "pichai\n",
      "ad\n",
      "android\n",
      "list\n",
      "googl\n",
      "product\n",
      "oversaw\n",
      "pichai\n",
      "select\n",
      "becom\n",
      "next\n",
      "ceo\n",
      "googl\n",
      "august\n",
      "previous\n",
      "appoint\n",
      "product\n",
      "chief\n",
      "ceo\n",
      "larri\n",
      "page\n",
      "octob\n",
      "step\n",
      "new\n",
      "posit\n",
      "complet\n",
      "format\n",
      "alphabet\n",
      "inc\n",
      "new\n",
      "hold\n",
      "compani\n",
      "googl\n",
      "compani\n",
      "famili\n",
      "appoint\n",
      "alphabet\n",
      "board\n",
      "director\n"
     ]
    }
   ],
   "source": [
    "#stemming\n",
    "\n",
    "for i in corpus:\n",
    "    words = nltk.word_tokenize(i)\n",
    "    for words in words:\n",
    "        if words not in set(stopwords.words('english')):\n",
    "            print(stemmer.stem(words))\n",
    "    "
   ]
  },
  {
   "cell_type": "code",
   "execution_count": 16,
   "metadata": {},
   "outputs": [
    {
     "name": "stdout",
     "output_type": "stream",
     "text": [
      "pichai\n",
      "sundararajan\n",
      "born\n",
      "june\n",
      "better\n",
      "known\n",
      "sundar\n",
      "pichai\n",
      "nd\n",
      "r\n",
      "p\n",
      "indian\n",
      "born\n",
      "american\n",
      "business\n",
      "executive\n",
      "chief\n",
      "executive\n",
      "officer\n",
      "ceo\n",
      "alphabet\n",
      "inc\n",
      "subsidiary\n",
      "google\n",
      "pichai\n",
      "began\n",
      "career\n",
      "material\n",
      "engineer\n",
      "following\n",
      "short\n",
      "stint\n",
      "management\n",
      "consulting\n",
      "firm\n",
      "mckinsey\n",
      "co\n",
      "pichai\n",
      "joined\n",
      "google\n",
      "led\n",
      "product\n",
      "management\n",
      "innovation\n",
      "effort\n",
      "suite\n",
      "google\n",
      "client\n",
      "software\n",
      "product\n",
      "including\n",
      "google\n",
      "chrome\n",
      "chromeos\n",
      "well\n",
      "largely\n",
      "responsible\n",
      "google\n",
      "drive\n",
      "addition\n",
      "went\n",
      "oversee\n",
      "development\n",
      "application\n",
      "gmail\n",
      "google\n",
      "map\n",
      "pichai\n",
      "also\n",
      "announced\n",
      "open\n",
      "sourcing\n",
      "new\n",
      "video\n",
      "codec\n",
      "vp\n",
      "google\n",
      "introduced\n",
      "new\n",
      "video\n",
      "format\n",
      "webm\n",
      "chromebook\n",
      "released\n",
      "pichai\n",
      "added\n",
      "android\n",
      "list\n",
      "google\n",
      "product\n",
      "oversaw\n",
      "pichai\n",
      "selected\n",
      "become\n",
      "next\n",
      "ceo\n",
      "google\n",
      "august\n",
      "previously\n",
      "appointed\n",
      "product\n",
      "chief\n",
      "ceo\n",
      "larry\n",
      "page\n",
      "october\n",
      "stepped\n",
      "new\n",
      "position\n",
      "completion\n",
      "formation\n",
      "alphabet\n",
      "inc\n",
      "new\n",
      "holding\n",
      "company\n",
      "google\n",
      "company\n",
      "family\n",
      "appointed\n",
      "alphabet\n",
      "board\n",
      "director\n"
     ]
    }
   ],
   "source": [
    "#lemmatization\n",
    "\n",
    "for i in corpus:\n",
    "    words = nltk.word_tokenize(i) \n",
    "    for words in words:\n",
    "        if words not in set(stopwords.words('english')):\n",
    "            print(lemmatizer.lemmatize(words))"
   ]
  },
  {
   "cell_type": "code",
   "execution_count": 17,
   "metadata": {},
   "outputs": [],
   "source": [
    "from sklearn.feature_extraction.text import CountVectorizer\n",
    "cv = CountVectorizer(binary=True)"
   ]
  },
  {
   "cell_type": "code",
   "execution_count": 18,
   "metadata": {},
   "outputs": [],
   "source": [
    "X = cv.fit_transform(corpus)"
   ]
  },
  {
   "cell_type": "code",
   "execution_count": 19,
   "metadata": {},
   "outputs": [
    {
     "data": {
      "text/plain": [
       "{'pichai': 84,\n",
       " 'sundararajan': 101,\n",
       " 'born': 20,\n",
       " 'june': 62,\n",
       " 'better': 18,\n",
       " 'known': 63,\n",
       " 'as': 12,\n",
       " 'sundar': 100,\n",
       " 'nd': 72,\n",
       " 'is': 59,\n",
       " 'an': 6,\n",
       " 'indian': 55,\n",
       " 'american': 5,\n",
       " 'business': 21,\n",
       " 'executive': 40,\n",
       " 'he': 49,\n",
       " 'the': 103,\n",
       " 'chief': 25,\n",
       " 'officer': 77,\n",
       " 'ceo': 24,\n",
       " 'of': 76,\n",
       " 'alphabet': 3,\n",
       " 'inc': 53,\n",
       " 'and': 7,\n",
       " 'its': 60,\n",
       " 'subsidiary': 97,\n",
       " 'google': 48,\n",
       " 'began': 16,\n",
       " 'his': 50,\n",
       " 'career': 23,\n",
       " 'materials': 70,\n",
       " 'engineer': 39,\n",
       " 'following': 43,\n",
       " 'short': 92,\n",
       " 'stint': 96,\n",
       " 'at': 13,\n",
       " 'management': 68,\n",
       " 'consulting': 34,\n",
       " 'firm': 42,\n",
       " 'mckinsey': 71,\n",
       " 'co': 30,\n",
       " 'joined': 61,\n",
       " 'in': 52,\n",
       " 'where': 111,\n",
       " 'led': 66,\n",
       " 'product': 87,\n",
       " 'innovation': 56,\n",
       " 'efforts': 38,\n",
       " 'for': 44,\n",
       " 'suite': 99,\n",
       " 'client': 29,\n",
       " 'software': 93,\n",
       " 'products': 88,\n",
       " 'including': 54,\n",
       " 'chrome': 26,\n",
       " 'chromeos': 28,\n",
       " 'well': 109,\n",
       " 'being': 17,\n",
       " 'largely': 64,\n",
       " 'responsible': 90,\n",
       " 'drive': 37,\n",
       " 'addition': 1,\n",
       " 'went': 110,\n",
       " 'on': 78,\n",
       " 'to': 104,\n",
       " 'oversee': 82,\n",
       " 'development': 35,\n",
       " 'other': 80,\n",
       " 'applications': 10,\n",
       " 'such': 98,\n",
       " 'gmail': 47,\n",
       " 'maps': 69,\n",
       " 'also': 4,\n",
       " 'announced': 9,\n",
       " 'open': 79,\n",
       " 'sourcing': 94,\n",
       " 'new': 73,\n",
       " 'video': 105,\n",
       " 'codec': 31,\n",
       " 'vp': 106,\n",
       " 'by': 22,\n",
       " 'introduced': 58,\n",
       " 'format': 45,\n",
       " 'webm': 108,\n",
       " 'chromebook': 27,\n",
       " 'was': 107,\n",
       " 'released': 89,\n",
       " 'added': 0,\n",
       " 'android': 8,\n",
       " 'list': 67,\n",
       " 'that': 102,\n",
       " 'oversaw': 81,\n",
       " 'selected': 91,\n",
       " 'become': 15,\n",
       " 'next': 74,\n",
       " 'august': 14,\n",
       " 'after': 2,\n",
       " 'previously': 86,\n",
       " 'appointed': 11,\n",
       " 'larry': 65,\n",
       " 'page': 83,\n",
       " 'october': 75,\n",
       " 'stepped': 95,\n",
       " 'into': 57,\n",
       " 'position': 85,\n",
       " 'completion': 33,\n",
       " 'formation': 46,\n",
       " 'holding': 51,\n",
       " 'company': 32,\n",
       " 'family': 41,\n",
       " 'board': 19,\n",
       " 'directors': 36}"
      ]
     },
     "execution_count": 19,
     "metadata": {},
     "output_type": "execute_result"
    }
   ],
   "source": [
    "cv.vocabulary_"
   ]
  },
  {
   "cell_type": "code",
   "execution_count": 20,
   "metadata": {},
   "outputs": [
    {
     "data": {
      "text/plain": [
       "' pichai sundararajan  born june                     better known as sundar pichai    s nd  r p  t a     is an indian born american business executive '"
      ]
     },
     "execution_count": 20,
     "metadata": {},
     "output_type": "execute_result"
    }
   ],
   "source": [
    "corpus[0]"
   ]
  },
  {
   "cell_type": "code",
   "execution_count": 21,
   "metadata": {},
   "outputs": [
    {
     "data": {
      "text/plain": [
       "array([[0, 0, 0, 0, 0, 1, 1, 0, 0, 0, 0, 0, 1, 0, 0, 0, 0, 0, 1, 0, 1, 1,\n",
       "        0, 0, 0, 0, 0, 0, 0, 0, 0, 0, 0, 0, 0, 0, 0, 0, 0, 0, 1, 0, 0, 0,\n",
       "        0, 0, 0, 0, 0, 0, 0, 0, 0, 0, 0, 1, 0, 0, 0, 1, 0, 0, 1, 1, 0, 0,\n",
       "        0, 0, 0, 0, 0, 0, 1, 0, 0, 0, 0, 0, 0, 0, 0, 0, 0, 0, 1, 0, 0, 0,\n",
       "        0, 0, 0, 0, 0, 0, 0, 0, 0, 0, 0, 0, 1, 1, 0, 0, 0, 0, 0, 0, 0, 0,\n",
       "        0, 0]])"
      ]
     },
     "execution_count": 21,
     "metadata": {},
     "output_type": "execute_result"
    }
   ],
   "source": [
    "X[0].toarray()"
   ]
  },
  {
   "cell_type": "code",
   "execution_count": null,
   "metadata": {},
   "outputs": [],
   "source": []
  }
 ],
 "metadata": {
  "kernelspec": {
   "display_name": "Python",
   "language": "python",
   "name": "python3"
  },
  "language_info": {
   "codemirror_mode": {
    "name": "ipython",
    "version": 3
   },
   "file_extension": ".py",
   "mimetype": "text/x-python",
   "name": "python",
   "nbconvert_exporter": "python",
   "pygments_lexer": "ipython3",
   "version": "3.8.16"
  }
 },
 "nbformat": 4,
 "nbformat_minor": 2
}
