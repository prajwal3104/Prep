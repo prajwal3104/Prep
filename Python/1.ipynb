{
 "cells": [
  {
   "cell_type": "code",
   "execution_count": 1,
   "metadata": {},
   "outputs": [
    {
     "name": "stdout",
     "output_type": "stream",
     "text": [
      "['10', '9', '8', '7', '6', '5', '4', '3', '2', '1']\n"
     ]
    }
   ],
   "source": [
    "#reverse string\n",
    "s = ['1', '2', '3', '4', '5', '6', '7', '8', '9', '10']\n",
    "def reverse_string(s):\n",
    "    return s[::-1]\n",
    "print(reverse_string(s))"
   ]
  },
  {
   "cell_type": "code",
   "execution_count": 2,
   "metadata": {},
   "outputs": [
    {
     "name": "stdout",
     "output_type": "stream",
     "text": [
      "True\n"
     ]
    }
   ],
   "source": [
    "#palandrome\n",
    "s = 'racecar'\n",
    "def is_palindrome(s):\n",
    "    return s == s[::-1]\n",
    "print(is_palindrome(s))"
   ]
  },
  {
   "cell_type": "code",
   "execution_count": 7,
   "metadata": {},
   "outputs": [
    {
     "name": "stdout",
     "output_type": "stream",
     "text": [
      "1\n"
     ]
    }
   ],
   "source": [
    "#factorial\n",
    "s = 1\n",
    "def factorial(s):\n",
    "    if s <= 1:\n",
    "        return s\n",
    "    else:\n",
    "        return s * factorial(s-1)\n",
    "    \n",
    "print(factorial(s))"
   ]
  },
  {
   "cell_type": "code",
   "execution_count": 15,
   "metadata": {},
   "outputs": [
    {
     "name": "stdout",
     "output_type": "stream",
     "text": [
      "3\n"
     ]
    }
   ],
   "source": [
    "s = 4\n",
    "def fabonacci(s):\n",
    "    if s <= 1:\n",
    "        return s\n",
    "    else:\n",
    "        return fabonacci(s-1) + fabonacci(s-2)\n",
    "    \n",
    "print(fabonacci(s))"
   ]
  },
  {
   "cell_type": "code",
   "execution_count": null,
   "metadata": {},
   "outputs": [],
   "source": []
  }
 ],
 "metadata": {
  "kernelspec": {
   "display_name": "Python",
   "language": "python",
   "name": "python3"
  },
  "language_info": {
   "codemirror_mode": {
    "name": "ipython",
    "version": 3
   },
   "file_extension": ".py",
   "mimetype": "text/x-python",
   "name": "python",
   "nbconvert_exporter": "python",
   "pygments_lexer": "ipython3",
   "version": "3.8.16"
  }
 },
 "nbformat": 4,
 "nbformat_minor": 2
}
